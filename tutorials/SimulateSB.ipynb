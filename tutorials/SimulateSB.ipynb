{
 "cells": [
  {
   "cell_type": "code",
   "execution_count": null,
   "metadata": {
    "Collapsed": "false"
   },
   "outputs": [],
   "source": [
    "import numpy as np\n",
    "import matplotlib\n",
    "from matplotlib import pyplot as plt\n",
    "import bilby\n",
    "import gwpy.timeseries\n",
    "\n",
    "import sys\n",
    "sys.path.insert(0,'../src')\n",
    "from util import *\n",
    "from cross_correlation import *\n",
    "from postprocessing import *\n",
    "from pe import *\n",
    "from constants import *\n",
    "from simulation import *"
   ]
  },
  {
   "cell_type": "code",
   "execution_count": null,
   "metadata": {
    "Collapsed": "false"
   },
   "outputs": [],
   "source": [
    "matplotlib.rcParams.update({'font.size':15})"
   ]
  },
  {
   "cell_type": "code",
   "execution_count": null,
   "metadata": {
    "Collapsed": "false"
   },
   "outputs": [],
   "source": [
    "##################\n",
    "# Inputs     \n",
    "##################\n",
    "\n",
    "NSegments         = 15\n",
    "Fs                = 1024. # Hz\n",
    "segmentDuration   = 64.0 # s\n",
    "t0                = 0 # s\n",
    "TAvg              = 4.0 # s\n",
    "\n",
    "####################\n",
    "# Computed quantities\n",
    "####################\n",
    "\n",
    "NSamplesPerSegment=int(segmentDuration*Fs) \n",
    "deltaT=1/Fs\n",
    "fNyquist=1/(2*deltaT)\n",
    "deltaF=1/segmentDuration\n",
    "deltaFStoch=1/TAvg\n",
    "NAvgs = 2 * int(segmentDuration / TAvg) - 1\n",
    "jobDuration = NSegments * segmentDuration\n",
    "N = NSegments*NSamplesPerSegment   #Total number of samples\n",
    "\n",
    "Nd = 2   #Number of detectors"
   ]
  },
  {
   "cell_type": "code",
   "execution_count": null,
   "metadata": {
    "Collapsed": "false"
   },
   "outputs": [],
   "source": [
    "# Discrete times\n",
    "T = N*deltaT\n",
    "t = np.array([t0 + deltaT*i for i in range(int(N))])\n",
    "\n",
    "if N%2==0:\n",
    "    numFreqs = N/2-1\n",
    "else:\n",
    "    numFreqs = (N-1)/2\n",
    "\n",
    "#Discrete positive frequencies\n",
    "deltaF = 1/(N*deltaT)\n",
    "f = np.array([deltaF*(i+1) for i in range(int(numFreqs))])"
   ]
  },
  {
   "cell_type": "code",
   "execution_count": null,
   "metadata": {
    "Collapsed": "false"
   },
   "outputs": [],
   "source": [
    "# Generate a noise PSD for each of the detectors (here an example of colored noise, but could use H1/L1 PSD)\n",
    "\n",
    "noisePSD=np.zeros((Nd,int(numFreqs)))\n",
    "\n",
    "noisePSD[0]=1e-45*f**(-.5)+1e-45*f**(-.5)*np.random.randn(int(numFreqs))/10\n",
    "noisePSD[1]=1e-45*f**(-.5)+1e-45*f**(-.5)*np.random.randn(int(numFreqs))/10"
   ]
  },
  {
   "cell_type": "code",
   "execution_count": null,
   "metadata": {
    "Collapsed": "false"
   },
   "outputs": [],
   "source": [
    "# Sanity check: plotting the noise PSD\n",
    "plt.loglog(f,noisePSD[0],label='PSD 1')\n",
    "plt.loglog(f,noisePSD[1],label='PSD 2')\n",
    "plt.legend()\n",
    "plt.xlabel('f [Hz]')\n",
    "plt.ylabel('PSD')\n",
    "plt.show()"
   ]
  },
  {
   "cell_type": "code",
   "execution_count": null,
   "metadata": {
    "Collapsed": "false"
   },
   "outputs": [],
   "source": [
    "###################\n",
    "# Signal properties\n",
    "###################\n",
    "\n",
    "fref = 25   #reference frequency (Hz)\n",
    "alpha = 3  #spectral index\n",
    "OmegaRef=1e-5 #Amplitude GW spectrum as in h^2Omega=OmegaRef*(f/fref)**alpha\n",
    "\n",
    "OmegaGW=OmegaRef*(f/fref)**alpha"
   ]
  },
  {
   "cell_type": "code",
   "execution_count": null,
   "metadata": {
    "Collapsed": "false"
   },
   "outputs": [],
   "source": [
    "# Simulate cross-correlated data\n",
    "yData=simulate_data(f,noisePSD,OmegaGW)"
   ]
  },
  {
   "cell_type": "code",
   "execution_count": null,
   "metadata": {
    "Collapsed": "false"
   },
   "outputs": [],
   "source": [
    "# Splice data to prevent issues with periodicity of the ifft\n",
    "xdata=splice_segments(yData)"
   ]
  },
  {
   "cell_type": "code",
   "execution_count": null,
   "metadata": {
    "Collapsed": "false"
   },
   "outputs": [],
   "source": [
    "d1=TimeSeries(t,xdata[0])\n",
    "d2=TimeSeries(t,xdata[1])"
   ]
  },
  {
   "cell_type": "code",
   "execution_count": null,
   "metadata": {
    "Collapsed": "false"
   },
   "outputs": [],
   "source": [
    "nperseg=int(d1.Fs/deltaF)\n",
    "freqs,P1_test = welch_psd(d1.data,nperseg=nperseg,window='Hann',fs=d1.Fs)\n",
    "freqs,P2_test = welch_psd(d2.data,nperseg=nperseg,window='Hann',fs=d2.Fs)\n",
    "\n",
    "fig0,axs0=plt.subplots()\n",
    "axs0.loglog(freqs,P1_test,label='Data 1')\n",
    "axs0.loglog(freqs,P2_test,label='Data 2')\n",
    "axs0.set_xlim(freqs[0],freqs[-1])\n",
    "axs0.set_xlabel('f[Hz]')\n",
    "axs0.set_title('Power spectral density')"
   ]
  },
  {
   "cell_type": "markdown",
   "metadata": {
    "Collapsed": "false"
   },
   "source": [
    "## Stochastic CC search"
   ]
  },
  {
   "cell_type": "code",
   "execution_count": null,
   "metadata": {
    "Collapsed": "false"
   },
   "outputs": [],
   "source": [
    "# run stochastic pipeline\n",
    "alpha=0 #This alpha simply follows from cross-corelation statistic, don't change even for other spectral alphas\n",
    "fref=25\n",
    "Y_t,sig_t,Y_ft,var_ft,segmentStartTimes,freqs=cross_correlation(d1,d2,segmentDuration,deltaFStoch,orf_file='../src/orfs/ORF_HL.dat',\n",
    "                                                      fref=fref,alpha=alpha,fmin=deltaFStoch,fmax=fNyquist/2.)"
   ]
  },
  {
   "cell_type": "code",
   "execution_count": null,
   "metadata": {
    "Collapsed": "false"
   },
   "outputs": [],
   "source": [
    "# plot results of CC search\n",
    "fig,axs=plt.subplots()\n",
    "axs.loglog(freqs,np.abs(Y_ft[:,0]),label='Y(f)')\n",
    "axs.loglog(freqs,np.abs(np.sqrt(var_ft[:,0])),label=('sigma(f)'))\n",
    "#axs.loglog(freqs,freqs**(3)/100000,label=('~f³'))\n",
    "axs.legend()\n",
    "axs.set_xlabel('f [Hz]')\n",
    "axs.set_title('First segment')\n",
    "plt.show()\n",
    "# Note that you get the expected f³ dependence for both the CC and sigma (see 3 and 4 in O2). Indeed,if orf=1 and \n",
    "# signal is flat, only expect the frequency dependency from S_0(f)."
   ]
  },
  {
   "cell_type": "code",
   "execution_count": null,
   "metadata": {
    "Collapsed": "false"
   },
   "outputs": [],
   "source": [
    "Y_f,var_f=postprocessing_spectra(Y_ft,var_ft,jobDuration,segmentDuration,\n",
    "                                 deltaFStoch,deltaT)"
   ]
  },
  {
   "cell_type": "code",
   "execution_count": null,
   "metadata": {
    "Collapsed": "false"
   },
   "outputs": [],
   "source": [
    "# test optimal filtering\n",
    "\n",
    "alphas=np.linspace(-8,8,100)\n",
    "\n",
    "snrs=np.zeros(alphas.shape)\n",
    "for ii,a in enumerate(alphas):\n",
    "    y,s=calc_Y_sigma_from_Yf_varf(np.real(Y_f),\n",
    "                          var_f,\n",
    "                          freqs=freqs,\n",
    "                          alpha=a,\n",
    "                          fref=25)\n",
    "    snrs[ii]=y/s\n",
    "fig1,axs1=plt.subplots()\n",
    "axs1.plot(alphas,snrs)\n",
    "axs1.axvline(3)\n",
    "axs1.set_xlabel('alpha')\n",
    "axs1.set_ylabel('SNR')\n",
    "axs1.set_title('Optimal SNR vs alpha')\n",
    "plt.show()"
   ]
  },
  {
   "cell_type": "markdown",
   "metadata": {
    "Collapsed": "false"
   },
   "source": [
    "## Parameter estimation"
   ]
  },
  {
   "cell_type": "code",
   "execution_count": null,
   "metadata": {
    "Collapsed": "false"
   },
   "outputs": [],
   "source": [
    "# Run parameter estimation\n",
    "label = 'GWB_powerlaw'\n",
    "outdir = 'outdir'\n",
    "\n",
    "cleanup_dir(outdir)\n",
    "\n",
    "Amin,Amax=1e-13,1e-2\n",
    "    \n",
    "fref=25\n",
    "\n",
    "likelihood = BasicPowerLawGWBLikelihood(Y_f[1:],var_f[1:],freqs[1:],fref)\n",
    "priors = dict(A=bilby.core.prior.LogUniform(Amin,Amax, 'A'),\n",
    "              alpha=bilby.core.prior.Gaussian(0,3.5, 'alpha'))\n",
    "\n",
    "# And run sampler\n",
    "result = bilby.run_sampler(\n",
    "    likelihood=likelihood, priors=priors, sampler='dynesty', npoints=500,\n",
    "    walks=10, outdir=outdir, label=label,maxmcmc=10000)\n",
    "result.plot_corner()"
   ]
  },
  {
   "cell_type": "code",
   "execution_count": null,
   "metadata": {
    "Collapsed": "false"
   },
   "outputs": [],
   "source": [
    "# extract samples\n",
    "\n",
    "A1=result.samples[:,0]\n",
    "\n",
    "x=np.linspace(Amin,Amax,10)\n",
    "\n",
    "plt.hist(np.log10(A1),bins=30,histtype='step',color='blue',density=True,label='')\n",
    "plt.axvline(-5,color='red')\n",
    "\n",
    "plt.xlabel('log$_{10}$ \\u03A9$_{ref}$')\n",
    "plt.ylabel('Posterior probability density')"
   ]
  }
 ],
 "metadata": {
  "kernelspec": {
   "display_name": "igwn-py37",
   "language": "python",
   "name": "igwn-py37"
  },
  "language_info": {
   "codemirror_mode": {
    "name": "ipython",
    "version": 3
   },
   "file_extension": ".py",
   "mimetype": "text/x-python",
   "name": "python",
   "nbconvert_exporter": "python",
   "pygments_lexer": "ipython3",
   "version": "3.7.6"
  }
 },
 "nbformat": 4,
 "nbformat_minor": 4
}
