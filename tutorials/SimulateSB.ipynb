{
 "cells": [
  {
   "cell_type": "code",
   "execution_count": 3,
   "metadata": {
    "Collapsed": "false"
   },
   "outputs": [],
   "source": [
    "import numpy as np\n",
    "import matplotlib\n",
    "from matplotlib import pyplot as plt\n",
    "import bilby\n",
    "import gwpy.timeseries\n",
    "from scipy.io import loadmat\n",
    "from scipy.interpolate import interp1d\n",
    "\n",
    "import sys\n",
    "sys.path.insert(0,'../src')\n",
    "from util import *\n",
    "from cross_correlation import *\n",
    "from postprocessing import *\n",
    "from pe import *\n",
    "from constants import *"
   ]
  },
  {
   "cell_type": "code",
   "execution_count": 4,
   "metadata": {
    "Collapsed": "false"
   },
   "outputs": [],
   "source": [
    "matplotlib.rcParams.update({'font.size':15})"
   ]
  },
  {
   "cell_type": "code",
   "execution_count": 5,
   "metadata": {
    "Collapsed": "false"
   },
   "outputs": [],
   "source": [
    "##################\n",
    "# Inputs     \n",
    "##################\n",
    "\n",
    "signalType='arbitrary' #Need to choose between 'white' (meaning alpha=3) and 'arbitrary' (any other alpha)\n",
    "noiseType='LIGO O2' #Need to choose between 'LIGO O2' and 'white'\n",
    "\n",
    "NSegments         = 15\n",
    "\n",
    "#Don't change anything of the following parameters\n",
    "Fs                = 1024. # Hz\n",
    "segmentDuration   = 64.0 # s\n",
    "t0                = 0 # s\n",
    "TAvg              = 4.0 # s\n",
    "\n",
    "####################\n",
    "# Computed quantities\n",
    "####################\n",
    "\n",
    "NSamplesPerSegment=int(segmentDuration*Fs) \n",
    "deltaT=1/Fs\n",
    "fNyquist=1/(2*deltaT)\n",
    "deltaF=1/segmentDuration\n",
    "deltaFStoch=1/TAvg\n",
    "NAvgs = 2 * int(segmentDuration / TAvg) - 1\n",
    "jobDuration = NSegments * segmentDuration\n",
    "N = NSegments*NSamplesPerSegment   #Total number of samples\n",
    "\n",
    "###################\n",
    "# Signal properties\n",
    "###################\n",
    "\n",
    "fref = 25   #reference frequency (Hz)\n",
    "alpha = 0  #spectral index\n",
    "\n",
    "#Still have to make the definitions below more user-friendly...\n",
    "\n",
    "#When using arbitrary alpha, define OmegaRef:\n",
    "OmegaRef=1e-5 #Amplitude GW spectrum as in h^2Omega=OmegaRef*(f/fref)**alpha\n",
    "sigma             = np.sqrt(512 * 1e-42) # noise amplitude in case of white noise\n",
    "\n",
    "#When using white signal, define sigma_inj:\n",
    "sigma_inj         = sigma/3. #Will have flat PSD spectrum with amplitude 2*sigma_inj**2/Fs\n",
    "\n",
    "M = 2   #Total number of detectors. Code is written explicitly for 2 detectors (e.g. ORF's, PSD, ...) but can be \n",
    "        #generalized easily\n",
    "\n",
    "H_theor = (3*H0**2)/(10*np.pi**2)"
   ]
  },
  {
   "cell_type": "code",
   "execution_count": 6,
   "metadata": {
    "Collapsed": "false"
   },
   "outputs": [],
   "source": [
    "Pgw_theor = 2*(sigma_inj**2)/Fs\n",
    "\n",
    "Y_theor = Pgw_theor/(H_theor/fref**3)"
   ]
  },
  {
   "cell_type": "code",
   "execution_count": 7,
   "metadata": {
    "Collapsed": "false"
   },
   "outputs": [],
   "source": [
    "# Discrete times\n",
    "T = N*deltaT\n",
    "t = np.array([t0 + deltaT*i for i in range(int(N))])\n",
    "\n",
    "if N%2==0:\n",
    "    numFreqs = N/2-1\n",
    "else:\n",
    "    numFreqs = (N-1)/2\n",
    "\n",
    "#Discrete positive frequencies\n",
    "deltaF = 1/(N*deltaT)\n",
    "f = np.array([deltaF*(i+1) for i in range(int(numFreqs))])\n",
    "\n",
    "# Normalization\n",
    "if signalType=='white':\n",
    "    norm = np.sqrt(N/(2*deltaT))*np.sqrt(2*(sigma_inj**2)*deltaT)\n",
    "elif signalType=='arbitrary':\n",
    "    norm = np.sqrt(N/(2*deltaT))*np.sqrt(H_theor)*np.sqrt(OmegaRef)\n",
    "    norm*=f**((alpha-3)/2)/(fref**(alpha/2))\n",
    "else:\n",
    "    raise ValueError(\"Please specify the correct type of signal\")"
   ]
  },
  {
   "cell_type": "code",
   "execution_count": 8,
   "metadata": {
    "Collapsed": "false"
   },
   "outputs": [],
   "source": [
    "# Interpolate ORF for two LIGO detectors -- Can be generalized for other detectors\n",
    "orf_file='../src/orfs/ORF_HL.dat'\n",
    "\n",
    "datContent = [i.strip().split() for i in open(orf_file).readlines()]\n",
    "\n",
    "x=[float(datContent[i][0]) for i in range(len(datContent))]\n",
    "y=[float(datContent[i][1]) for i in range(len(datContent))]\n",
    "\n",
    "orf_f = interp1d(x, y, kind='cubic')\n",
    "\n",
    "def orf_func(x):\n",
    "    if x<10:\n",
    "        return orf_f(10)\n",
    "    else:\n",
    "        return orf_f(x)"
   ]
  },
  {
   "cell_type": "code",
   "execution_count": 9,
   "metadata": {
    "Collapsed": "false"
   },
   "outputs": [],
   "source": [
    "# Implement ORF frequency dependence here -- Can be generalized to other/more detectors\n",
    "\n",
    "gamma11=np.ones(int(numFreqs)) #Response function for detector 1\n",
    "gamma22=np.ones(int(numFreqs)) #Response function for detector 2\n",
    "gamma12=np.array([orf_func(i) for i in f]) #ORF. If do not want to include ORF, use same method but with orf_func(i)\n",
    "                                            #replaced with 1's\n",
    "\n",
    "C=[]\n",
    "for i in range(len(gamma11)):\n",
    "    C.append(np.array([[gamma11[i],gamma12[i]],[gamma12[i],gamma22[i]]]))\n",
    "C=np.array(C) #Correlation matrix for each of the frequencies. Has shape (numFreqs,M,M) with M=2 for two detectors\n",
    "\n",
    "eigval,eigvec=np.linalg.eig(C) #Compute eigenvalues and eigenvectors of C for each frequency\n",
    "\n",
    "eigval=np.array([np.diag(x) for x in eigval]) #Array with diagonal M x M matrices containing the eigenvalues"
   ]
  },
  {
   "cell_type": "code",
   "execution_count": 10,
   "metadata": {
    "Collapsed": "false"
   },
   "outputs": [],
   "source": [
    "#Make LIGO (H+L) noise PSD function -- Can be generalized to any PSD by using different txt file as input\n",
    "\n",
    "file=open(\"PSD_H1.txt\",\"r\")\n",
    "\n",
    "freqListH1=[]\n",
    "freqListL1=[]\n",
    "PSDListH1=[]\n",
    "PSDListL1=[]\n",
    "for line in file:\n",
    "    freqListH1.append(float(line.split(\" \")[0]))\n",
    "    PSDListH1.append(float(line.split(\" \")[1]))\n",
    "    \n",
    "file1=open(\"PSD_L1.txt\",\"r\")\n",
    "for line in file1:\n",
    "    freqListL1.append(float(line.split(\" \")[0]))\n",
    "    PSDListL1.append(float(line.split(\" \")[1]))\n",
    "    \n",
    "PSDFuncH1=interp1d(freqListH1,PSDListH1, kind='cubic')\n",
    "PSDFuncL1=interp1d(freqListL1,PSDListL1, kind='cubic')"
   ]
  },
  {
   "cell_type": "code",
   "execution_count": 11,
   "metadata": {
    "Collapsed": "false"
   },
   "outputs": [],
   "source": [
    "#This ensures the noise we add will have the proper normalization\n",
    "\n",
    "normPSDH1=np.sqrt(N/(2*deltaT))*np.sqrt(np.abs(PSDFuncH1(f)))\n",
    "normPSDL1=np.sqrt(N/(2*deltaT))*np.sqrt(np.abs(PSDFuncL1(f)))\n",
    "\n",
    "normPSD=[normPSDH1,normPSDL1]"
   ]
  },
  {
   "cell_type": "code",
   "execution_count": 12,
   "metadata": {
    "Collapsed": "false"
   },
   "outputs": [],
   "source": [
    "# Need to simulate multiple time-series to avoid periodicity\n",
    "y=np.zeros((3,M),dtype=np.ndarray)\n",
    "for kk in range(3):\n",
    "    # Loop over detectors\n",
    "    z=np.zeros((int(numFreqs),M),dtype = 'complex_')\n",
    "    for ii in range(M):\n",
    "        # Construct real and imaginary parts, with random phases (uncorrelated)\n",
    "        re = (norm/np.sqrt(2))*np.random.randn(int(numFreqs))\n",
    "        im = (norm/np.sqrt(2))*np.random.randn(int(numFreqs))\n",
    "        z[:,ii] = re+1j*im\n",
    "    \n",
    "    #Add noise (for now, normalization corresponds to LIGO noise PSD)\n",
    "    if noiseType=='LIGO O2':\n",
    "        znoise=np.zeros((int(numFreqs),M),dtype = 'complex_')\n",
    "        for ii in range(M):\n",
    "            # Construct real and imaginary parts, with random phases (uncorrelated)\n",
    "            re = (normPSD[ii]/np.sqrt(2))*np.random.randn(int(numFreqs))\n",
    "            im = (normPSD[ii]/np.sqrt(2))*np.random.randn(int(numFreqs))\n",
    "            znoise[:,ii] = re+1j*im\n",
    "        \n",
    "    # Transform from uncorrelated z to correlated x:\n",
    "    xtemp=np.zeros((int(numFreqs),M),dtype = 'complex_')\n",
    "    for ii in range(int(numFreqs)):\n",
    "        xtemp[ii,:] = (z[ii]).dot(np.sqrt(eigval[ii]).dot(eigvec[ii].transpose())) #This ensures data is correlated properly\n",
    "        if noiseType=='LIGO O2':\n",
    "            xtemp[ii,:] += znoise[ii,:] #This means noise isn't correlated + comes from two different PSD's (H1 and L1)\n",
    "        \n",
    "    for ii in range(M):\n",
    "        # Set DC and Nyquist = 0, then add negative freq parts in proper order\n",
    "        if N%2==0:\n",
    "            # Note that most negative frequency is -f_Nyquist when N=even\n",
    "            xtilde = np.concatenate((np.array([0]),xtemp[:,ii],np.array([0]),np.flipud(np.conjugate(xtemp[:,ii]))))\n",
    "        else:\n",
    "            # No Nyquist frequency when N=odd\n",
    "            xtilde = np.concatenate((np.array([0]),xtemp[:,ii],np.flipud(np.conjugate(xtemp[:,ii]))))\n",
    "        # Fourier transform back to time domain and take real part (imag part = 0)\n",
    "        y[kk][ii]=np.real(np.fft.ifft(xtilde))"
   ]
  },
  {
   "cell_type": "code",
   "execution_count": 13,
   "metadata": {
    "Collapsed": "false"
   },
   "outputs": [],
   "source": [
    "# Splice together the data using sinusoids of twice the period (way of putting together three datasets from above,\n",
    "# again to avoid periodicity due to the IFFT)\n",
    "w=np.zeros(N)\n",
    "for ii in range(N):\n",
    "    w[ii]=np.sin(np.pi * ((ii+1)-1)/N)\n",
    "    \n",
    "xdata=np.zeros(M,dtype=np.ndarray)\n",
    "\n",
    "for ii in range(M):\n",
    "    y0 = w*y[0][ii]\n",
    "    y1 = w*y[1][ii]\n",
    "    y2 = w*y[2][ii]\n",
    "    \n",
    "    z0=np.concatenate((y0[int(N/2):N],np.zeros(int(N/2))))\n",
    "    z1=y1[:]\n",
    "    z2=np.concatenate((np.zeros(int(N/2)),y2[0:int(N/2)]))\n",
    "    \n",
    "    xdata[ii] = z0 + z1 + z2 #Correlated strain data for ii-th detector\n",
    "    \n",
    "    #If instead of a noise PSD from LIGO, one wanted to add white noise with amplitude sigma, \n",
    "    #this can be done directly in the time domain here:\n",
    "    if noiseType=='white':\n",
    "        xdata[ii] += sigma*np.random.randn(int(N)) #Adding Gaussian, white noise to the strain"
   ]
  },
  {
   "cell_type": "code",
   "execution_count": 14,
   "metadata": {
    "Collapsed": "false"
   },
   "outputs": [],
   "source": [
    "d1=TimeSeries(t,xdata[0])\n",
    "d2=TimeSeries(t,xdata[1])"
   ]
  },
  {
   "cell_type": "code",
   "execution_count": 15,
   "metadata": {
    "Collapsed": "false"
   },
   "outputs": [
    {
     "name": "stderr",
     "output_type": "stream",
     "text": [
      "/cvmfs/oasis.opensciencegrid.org/ligo/sw/conda/envs/igwn-py37/lib/python3.7/site-packages/gwpy/plot/axes.py:75: UserWarning: Attempted to set non-positive left xlim on a log-scaled axis.\n",
      "Invalid limit will be ignored.\n",
      "  return func(self, **kw)\n"
     ]
    },
    {
     "data": {
      "text/plain": [
       "Text(0.5, 1.0, 'Power spectral density')"
      ]
     },
     "execution_count": 15,
     "metadata": {},
     "output_type": "execute_result"
    },
    {
     "data": {
      "image/png": "[encoded data removed]",
      "text/plain": [
       "<Figure size 432x288 with 1 Axes>"
      ]
     },
     "metadata": {
      "needs_background": "light"
     },
     "output_type": "display_data"
    }
   ],
   "source": [
    "nperseg=int(d1.Fs/deltaF)\n",
    "freqs,P1_test = welch_psd(d1.data,nperseg=nperseg,window='Hann',fs=d1.Fs)\n",
    "freqs,P2_test = welch_psd(d2.data,nperseg=nperseg,window='Hann',fs=d2.Fs)\n",
    "\n",
    "fig0,axs0=plt.subplots()\n",
    "axs0.loglog(freqs,P1_test,label='Data 1')\n",
    "axs0.loglog(freqs,P2_test,label='Data 2')\n",
    "axs0.set_xlim(freqs[0],freqs[-1])\n",
    "#axs0.set_ylim(1e-47,1e-43)\n",
    "#axs0.legend()\n",
    "axs0.set_xlabel('f[Hz]')\n",
    "axs0.set_title('Power spectral density')"
   ]
  },
  {
   "cell_type": "markdown",
   "metadata": {
    "Collapsed": "false"
   },
   "source": [
    "## Stochastic CC search"
   ]
  },
  {
   "cell_type": "code",
   "execution_count": 16,
   "metadata": {
    "Collapsed": "false"
   },
   "outputs": [
    {
     "name": "stderr",
     "output_type": "stream",
     "text": [
      "../src/cross_correlation.py:167: ComplexWarning: Casting complex values to real discards the imaginary part\n",
      "  Y_ft[:, II], var_ft[:, II] = Y_f.data, var_f.data\n",
      "../src/cross_correlation.py:168: ComplexWarning: Casting complex values to real discards the imaginary part\n",
      "  \n"
     ]
    },
    {
     "name": "stdout",
     "output_type": "stream",
     "text": [
      "stochastic: Done with Interval 1 / 25\n",
      "\tY     = 9.070265e-06\n",
      "\tsigma = 2.134224e-06\n",
      "\tSNR   = 4.249912\n",
      "stochastic: Done with Interval 2 / 25\n",
      "\tY     = 1.296682e-05\n",
      "\tsigma = 2.089416e-06\n",
      "\tSNR   = 6.205953\n",
      "stochastic: Done with Interval 3 / 25\n",
      "\tY     = 1.230838e-05\n",
      "\tsigma = 2.180335e-06\n",
      "\tSNR   = 5.645178\n",
      "stochastic: Done with Interval 4 / 25\n",
      "\tY     = 1.105685e-05\n",
      "\tsigma = 2.078660e-06\n",
      "\tSNR   = 5.319224\n",
      "stochastic: Done with Interval 5 / 25\n",
      "\tY     = 1.031248e-05\n",
      "\tsigma = 1.874880e-06\n",
      "\tSNR   = 5.500341\n",
      "stochastic: Done with Interval 6 / 25\n",
      "\tY     = 1.194283e-05\n",
      "\tsigma = 1.994926e-06\n",
      "\tSNR   = 5.986606\n",
      "stochastic: Done with Interval 7 / 25\n",
      "\tY     = 1.145911e-05\n",
      "\tsigma = 2.117456e-06\n",
      "\tSNR   = 5.411735\n",
      "stochastic: Done with Interval 8 / 25\n",
      "\tY     = 6.765384e-06\n",
      "\tsigma = 2.085838e-06\n",
      "\tSNR   = 3.243485\n",
      "stochastic: Done with Interval 9 / 25\n",
      "\tY     = 8.510723e-06\n",
      "\tsigma = 1.858529e-06\n",
      "\tSNR   = 4.579279\n",
      "stochastic: Done with Interval 10 / 25\n",
      "\tY     = 8.024957e-06\n",
      "\tsigma = 2.030221e-06\n",
      "\tSNR   = 3.952750\n",
      "stochastic: Done with Interval 11 / 25\n",
      "\tY     = 8.898577e-06\n",
      "\tsigma = 2.136824e-06\n",
      "\tSNR   = 4.164394\n",
      "stochastic: Done with Interval 12 / 25\n",
      "\tY     = 1.067278e-05\n",
      "\tsigma = 1.952739e-06\n",
      "\tSNR   = 5.465542\n",
      "stochastic: Done with Interval 13 / 25\n",
      "\tY     = 1.491746e-05\n",
      "\tsigma = 1.838341e-06\n",
      "\tSNR   = 8.114630\n",
      "stochastic: Done with Interval 14 / 25\n",
      "\tY     = 9.363694e-06\n",
      "\tsigma = 1.976066e-06\n",
      "\tSNR   = 4.738553\n",
      "stochastic: Done with Interval 15 / 25\n",
      "\tY     = 8.860446e-06\n",
      "\tsigma = 2.141115e-06\n",
      "\tSNR   = 4.138238\n",
      "stochastic: Done with Interval 16 / 25\n",
      "\tY     = 1.106546e-05\n",
      "\tsigma = 2.150466e-06\n",
      "\tSNR   = 5.145608\n",
      "stochastic: Done with Interval 17 / 25\n",
      "\tY     = 8.414443e-06\n",
      "\tsigma = 2.102186e-06\n",
      "\tSNR   = 4.002712\n",
      "stochastic: Done with Interval 18 / 25\n",
      "\tY     = 8.576848e-06\n",
      "\tsigma = 1.979131e-06\n",
      "\tSNR   = 4.333643\n",
      "stochastic: Done with Interval 19 / 25\n",
      "\tY     = 1.084046e-05\n",
      "\tsigma = 2.029383e-06\n",
      "\tSNR   = 5.341752\n",
      "stochastic: Done with Interval 20 / 25\n",
      "\tY     = 7.294928e-06\n",
      "\tsigma = 2.247381e-06\n",
      "\tSNR   = 3.245969\n",
      "stochastic: Done with Interval 21 / 25\n",
      "\tY     = 7.412567e-06\n",
      "\tsigma = 2.186807e-06\n",
      "\tSNR   = 3.389676\n",
      "stochastic: Done with Interval 22 / 25\n",
      "\tY     = 1.240912e-05\n",
      "\tsigma = 2.020772e-06\n",
      "\tSNR   = 6.140784\n",
      "stochastic: Done with Interval 23 / 25\n",
      "\tY     = 1.575981e-05\n",
      "\tsigma = 1.987307e-06\n",
      "\tSNR   = 7.930237\n",
      "stochastic: Done with Interval 24 / 25\n",
      "\tY     = 8.453365e-06\n",
      "\tsigma = 2.121779e-06\n",
      "\tSNR   = 3.984094\n",
      "stochastic: Done with Interval 25 / 25\n",
      "\tY     = 1.612407e-05\n",
      "\tsigma = 2.206213e-06\n",
      "\tSNR   = 7.308481\n"
     ]
    }
   ],
   "source": [
    "# run stochastic pipeline\n",
    "alpha=0 #This alpha simply follows from cross-corelation statistic, don't change even for other spectral alphas\n",
    "fref=25\n",
    "Y_t,sig_t,Y_ft,var_ft,segmentStartTimes,freqs=cross_correlation(d1,d2,segmentDuration,deltaFStoch,orf_file='../src/orfs/ORF_HL.dat',\n",
    "                                                      fref=fref,alpha=alpha,fmin=deltaFStoch,fmax=fNyquist/2.)"
   ]
  },
  {
   "cell_type": "code",
   "execution_count": 17,
   "metadata": {
    "Collapsed": "false"
   },
   "outputs": [
    {
     "data": {
      "image/png": "[encoded data removed]",
      "text/plain": [
       "<Figure size 432x288 with 1 Axes>"
      ]
     },
     "metadata": {
      "needs_background": "light"
     },
     "output_type": "display_data"
    }
   ],
   "source": [
    "# plot results of CC search\n",
    "fig,axs=plt.subplots()\n",
    "axs.loglog(freqs,np.abs(Y_ft[:,0]),label='Y(f)')\n",
    "axs.loglog(freqs,np.abs(np.sqrt(var_ft[:,0])),label=('sigma(f)'))\n",
    "#axs.loglog(freqs,freqs**(3)/100000,label=('~f³'))\n",
    "axs.legend()\n",
    "axs.set_xlabel('f [Hz]')\n",
    "axs.set_title('First segment')\n",
    "plt.show()\n",
    "# Note that you get the expected f³ dependence for both the CC and sigma (see 3 and 4 in O2). Indeed,if orf=1 and \n",
    "# signal is flat, only expect the frequency dependency from S_0(f)."
   ]
  },
  {
   "cell_type": "code",
   "execution_count": 18,
   "metadata": {
    "Collapsed": "false"
   },
   "outputs": [],
   "source": [
    "Y_f,var_f=postprocessing_spectra(Y_ft,var_ft,jobDuration,segmentDuration,\n",
    "                                 deltaFStoch,deltaT)"
   ]
  },
  {
   "cell_type": "code",
   "execution_count": 19,
   "metadata": {
    "Collapsed": "false"
   },
   "outputs": [
    {
     "data": {
      "image/png": "[encoded data removed]",
      "text/plain": [
       "<Figure size 432x288 with 1 Axes>"
      ]
     },
     "metadata": {
      "needs_background": "light"
     },
     "output_type": "display_data"
    }
   ],
   "source": [
    "# test optimal filtering\n",
    "\n",
    "alphas=np.linspace(-8,8,100)\n",
    "\n",
    "snrs=np.zeros(alphas.shape)\n",
    "for ii,a in enumerate(alphas):\n",
    "    y,s=calc_Y_sigma_from_Yf_varf(np.real(Y_f),\n",
    "                          var_f,\n",
    "                          freqs=freqs,\n",
    "                          alpha=a,\n",
    "                          fref=25)\n",
    "    snrs[ii]=y/s\n",
    "fig1,axs1=plt.subplots()\n",
    "axs1.plot(alphas,snrs)\n",
    "axs1.axvline(0)\n",
    "axs1.set_xlabel('alpha')\n",
    "axs1.set_ylabel('SNR')\n",
    "axs1.set_title('Optimal SNR vs alpha')\n",
    "plt.show()"
   ]
  },
  {
   "cell_type": "code",
   "execution_count": 20,
   "metadata": {
    "Collapsed": "false"
   },
   "outputs": [
    {
     "name": "stderr",
     "output_type": "stream",
     "text": [
      "00:15 bilby INFO    : Running for label 'GWB_powerlaw', output will be saved to 'outdir'\n",
      "00:15 bilby INFO    : Search parameters:\n",
      "00:15 bilby INFO    :   A = LogUniform(minimum=1e-13, maximum=0.01, name='A', latex_label='A', unit=None, boundary=None)\n",
      "00:15 bilby INFO    :   alpha = Gaussian(mu=0, sigma=3.5, name='alpha', latex_label='alpha', unit=None, boundary=None)\n",
      "00:15 bilby INFO    : Single likelihood evaluation took 3.359e-04 s\n"
     ]
    },
    {
     "name": "stdout",
     "output_type": "stream",
     "text": [
      "0it [00:00, ?it/s]"
     ]
    },
    {
     "name": "stderr",
     "output_type": "stream",
     "text": [
      "00:15 bilby INFO    : Using sampler Dynesty with kwargs {'bound': 'multi', 'sample': 'rwalk', 'verbose': True, 'periodic': None, 'reflective': None, 'check_point_delta_t': 600, 'nlive': 500, 'first_update': None, 'walks': 10, 'npdim': None, 'rstate': None, 'queue_size': 1, 'pool': None, 'use_pool': None, 'live_points': None, 'logl_args': None, 'logl_kwargs': None, 'ptform_args': None, 'ptform_kwargs': None, 'enlarge': 1.5, 'bootstrap': None, 'vol_dec': 0.5, 'vol_check': 8.0, 'facc': 0.2, 'slices': 5, 'update_interval': 300, 'print_func': <bound method Dynesty._print_func of <bilby.core.sampler.dynesty.Dynesty object at 0x7f5aac5f9790>>, 'dlogz': 0.1, 'maxiter': None, 'maxcall': None, 'logl_max': inf, 'add_live': True, 'print_progress': True, 'save_bounds': False, 'n_effective': None, 'maxmcmc': 10000, 'nact': 5}\n",
      "00:15 bilby INFO    : Checkpoint every check_point_delta_t = 600s\n",
      "00:15 bilby INFO    : Using dynesty version 1.0.1\n",
      "00:15 bilby INFO    : Using the bilby-implemented rwalk sample method with ACT estimated walks\n",
      "00:15 bilby INFO    : Resume file outdir/GWB_powerlaw_resume.pickle does not exist.\n",
      "00:15 bilby INFO    : Generating initial points from the prior\n"
     ]
    },
    {
     "name": "stdout",
     "output_type": "stream",
     "text": [
      "6170it [01:55, 42.48it/s, bound:722 nc: 50 ncall:2.4e+05 eff:2.6% logz-ratio=282.26+/-nan dlogz:0.100>0.1]   "
     ]
    },
    {
     "name": "stderr",
     "output_type": "stream",
     "text": [
      "00:17 bilby INFO    : Written checkpoint file outdir/GWB_powerlaw_resume.pickle\n",
      "00:17 bilby INFO    : Writing 1429 current samples to outdir/GWB_powerlaw_samples.dat\n",
      "/cvmfs/oasis.opensciencegrid.org/ligo/sw/conda/envs/igwn-py37/lib/python3.7/site-packages/dynesty/plotting.py:203: RuntimeWarning: overflow encountered in exp\n",
      "  zspan = (0., 1.05 * np.exp(logz[-1] + 3. * logzerr[-1]))\n",
      "00:17 bilby WARNING : Axis limits cannot be NaN or Inf\n",
      "00:17 bilby WARNING : Failed to create dynesty run plot at checkpoint\n"
     ]
    },
    {
     "name": "stdout",
     "output_type": "stream",
     "text": [
      "6170it [02:01, 50.70it/s, bound:722 nc:  1 ncall:2.4e+05 eff:2.8% logz-ratio=282.35+/-nan dlogz:0.000>0.1]\n",
      "\n"
     ]
    },
    {
     "name": "stderr",
     "output_type": "stream",
     "text": [
      "00:17 bilby INFO    : Sampling time: 0:01:55.164229\n",
      "00:17 bilby INFO    : Summary of results:\n",
      "nsamples: 6670\n",
      "ln_noise_evidence: 5505.562\n",
      "ln_evidence: 5787.915 +/- 9433097.656\n",
      "ln_bayes_factor: 282.353 +/- 9433097.656\n",
      "\n"
     ]
    },
    {
     "data": {
      "image/png": "[encoded data removed]",
      "text/plain": [
       "<Figure size 396x396 with 4 Axes>"
      ]
     },
     "execution_count": 20,
     "metadata": {},
     "output_type": "execute_result"
    }
   ],
   "source": [
    "# A few simple setup steps\n",
    "label = 'GWB_powerlaw'\n",
    "outdir = 'outdir'\n",
    "\n",
    "cleanup_dir(outdir)\n",
    "\n",
    "Amin,Amax=1e-13,1e-2\n",
    "    \n",
    "alpha_fixed=3\n",
    "    \n",
    "fref=25\n",
    "\n",
    "likelihood = BasicPowerLawGWBLikelihood(Y_f[1:],var_f[1:],freqs[1:],fref)\n",
    "priors = dict(A=bilby.core.prior.LogUniform(Amin,Amax, 'A'),\n",
    "              alpha=bilby.core.prior.Gaussian(0,3.5, 'alpha'))\n",
    "\n",
    "#injection_parameters=dict(A=Y_theor,alpha=3)\n",
    "\n",
    "# And run sampler\n",
    "result = bilby.run_sampler(\n",
    "    likelihood=likelihood, priors=priors, sampler='dynesty', npoints=500,\n",
    "    walks=10, outdir=outdir, label=label,maxmcmc=10000)\n",
    "result.plot_corner()"
   ]
  },
  {
   "cell_type": "code",
   "execution_count": 21,
   "metadata": {
    "Collapsed": "false"
   },
   "outputs": [],
   "source": [
    "# extract samples\n",
    "\n",
    "A1=result.samples[:,0]"
   ]
  },
  {
   "cell_type": "code",
   "execution_count": 22,
   "metadata": {
    "Collapsed": "false"
   },
   "outputs": [
    {
     "data": {
      "text/plain": [
       "Text(0, 0.5, 'Posterior probability density')"
      ]
     },
     "execution_count": 22,
     "metadata": {},
     "output_type": "execute_result"
    },
    {
     "data": {
      "image/png": "[encoded data removed]",
      "text/plain": [
       "<Figure size 432x288 with 1 Axes>"
      ]
     },
     "metadata": {
      "needs_background": "light"
     },
     "output_type": "display_data"
    }
   ],
   "source": [
    "x=np.linspace(Amin,Amax,10)\n",
    "\n",
    "plt.hist(np.log10(A1),bins=30,histtype='step',color='blue',density=True,label='')\n",
    "plt.axvline(-5,color='red')\n",
    "plt.text(-4.995,.2,'Injection',rotation=90,color='red')\n",
    "\n",
    "plt.xlabel('log$_{10}$ \\u03A9$_{ref}$')\n",
    "#plt.title('')\n",
    "plt.ylabel('Posterior probability density')"
   ]
  }
 ],
 "metadata": {
  "kernelspec": {
   "display_name": "igwn-py37",
   "language": "python",
   "name": "igwn-py37"
  },
  "language_info": {
   "codemirror_mode": {
    "name": "ipython",
    "version": 3
   },
   "file_extension": ".py",
   "mimetype": "text/x-python",
   "name": "python",
   "nbconvert_exporter": "python",
   "pygments_lexer": "ipython3",
   "version": "3.7.6"
  }
 },
 "nbformat": 4,
 "nbformat_minor": 4
}
