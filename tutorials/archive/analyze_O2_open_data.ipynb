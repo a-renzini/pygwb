{
 "cells": [
  {
   "cell_type": "code",
   "execution_count": null,
   "metadata": {},
   "outputs": [],
   "source": [
    "import numpy as np\n",
    "import matplotlib\n",
    "from matplotlib import pyplot as plt\n",
    "import gwpy.timeseries\n",
    "from scipy.io import loadmat\n",
    "\n",
    "import sys\n",
    "sys.path.insert(0,'../src')\n",
    "from util import *\n",
    "from cross_correlation import *\n",
    "from postprocessing import *\n",
    "from pe import *\n",
    "from constants import *"
   ]
  },
  {
   "cell_type": "code",
   "execution_count": null,
   "metadata": {},
   "outputs": [],
   "source": [
    "matplotlib.rcParams.update({'font.size':15})"
   ]
  },
  {
   "cell_type": "markdown",
   "metadata": {},
   "source": [
    "# Analysis parameters"
   ]
  },
  {
   "cell_type": "code",
   "execution_count": null,
   "metadata": {},
   "outputs": [],
   "source": [
    "# 192s\n",
    "offset = 88 # 88 seconds so start time aligns with stochastic.m run here: https://git.ligo.org/stochastic-public/stochastic/-/blob/O2StochIso/example_output_for_comparison.txt\n",
    "tstart = 1184098680\n",
    "dur = 2672 # duration of job\n",
    "tend=tstart+dur\n",
    "\n",
    "deltaF=1./32\n",
    "segmentDuration=192"
   ]
  },
  {
   "cell_type": "code",
   "execution_count": null,
   "metadata": {},
   "outputs": [],
   "source": [
    "# 64s\n",
    "#offset = 24 # 88 seconds so start time aligns with stochastic.m run here: https://git.ligo.org/stochastic-public/stochastic/-/blob/O2StochIso/example_output_for_comparison.txt\n",
    "#tstart = 1184098680 \n",
    "#dur = 2672 # duration of job\n",
    "#tend=tstart+dur\n",
    "\n",
    "#deltaF=1./64\n",
    "#segmentDuration=64"
   ]
  },
  {
   "cell_type": "markdown",
   "metadata": {},
   "source": [
    "# Get data"
   ]
  },
  {
   "cell_type": "code",
   "execution_count": null,
   "metadata": {},
   "outputs": [],
   "source": [
    "try:\n",
    "    data_H1=gwpy.timeseries.TimeSeries.read('data/data_H1.gwf','Strain')\n",
    "    data_L1=gwpy.timeseries.TimeSeries.read('data/data_L1.gwf','Strain')\n",
    "except:\n",
    "    data_H1=gwpy.timeseries.TimeSeries.fetch_open_data('H1',tstart,tend)\n",
    "    data_L1=gwpy.timeseries.TimeSeries.fetch_open_data('L1',tstart,tend)\n",
    "    data_H1.write('data/data_H1.gwf')\n",
    "    data_L1.write('data/data_L1.gwf')"
   ]
  },
  {
   "cell_type": "code",
   "execution_count": null,
   "metadata": {},
   "outputs": [],
   "source": [
    "t,h = data_H1.times.value,data_H1.value\n",
    "fs = int(1/data_H1.dt.value)\n",
    "nan_filter=np.isnan(h)\n",
    "h[nan_filter]=0\n",
    "cut=t>tstart+offset\n",
    "t=t[cut]\n",
    "h=h[cut]\n",
    "d1=TimeSeries(t,h)"
   ]
  },
  {
   "cell_type": "code",
   "execution_count": null,
   "metadata": {},
   "outputs": [],
   "source": [
    "t,h = data_L1.times.value,data_L1.value\n",
    "fs = int(1/data_L1.dt.value)\n",
    "nan_filter=np.isnan(h)\n",
    "h[nan_filter]=0\n",
    "cut=t>tstart+offset\n",
    "t=t[cut]\n",
    "h=h[cut]\n",
    "d2=TimeSeries(t,h)"
   ]
  },
  {
   "cell_type": "code",
   "execution_count": null,
   "metadata": {},
   "outputs": [],
   "source": [
    "# plot PSDs as a sanity check\n",
    "\n",
    "nperseg=int(d1.Fs/deltaF)\n",
    "freqs,P1_test = welch_psd(d1.data,nperseg=nperseg,window='Hann',fs=d1.Fs)\n",
    "\n",
    "nperseg=int(d2.Fs/deltaF)\n",
    "freqs,P2_test = welch_psd(d2.data,nperseg=nperseg,window='Hann',fs=d2.Fs)\n",
    "\n",
    "plt.loglog(freqs,P1_test,label='H1')\n",
    "plt.loglog(freqs,P2_test,label='L1')\n",
    "plt.legend()"
   ]
  },
  {
   "cell_type": "markdown",
   "metadata": {},
   "source": [
    "# Cross correlation analysis"
   ]
  },
  {
   "cell_type": "code",
   "execution_count": null,
   "metadata": {},
   "outputs": [],
   "source": [
    "Ys,sigs,Y_ft,var_ft,segmentStartTimes,freqs=cross_correlation(d1,\n",
    "                                                       d2,\n",
    "                                                       segmentDuration,\n",
    "                                                       deltaF,\n",
    "                                                       verbose=False,\n",
    "                                                       doOverlap=True,\n",
    "                                                       alpha=0,\n",
    "                                                       fref=25,\n",
    "                                                       orf_file='../src/orfs/ORF_HL.dat',\n",
    "                                                             fmin=20,fmax=1726)\n"
   ]
  },
  {
   "cell_type": "code",
   "execution_count": null,
   "metadata": {},
   "outputs": [],
   "source": [
    "Y_t = np.zeros(len(segmentStartTimes)-1)\n",
    "var_t = np.zeros(len(segmentStartTimes)-1)\n",
    "\n",
    "for ii in range(len(Y_t)):\n",
    "    var_t[ii] = 1/np.sum(var_ft[:,ii]**(-1))\n",
    "    Y_t[ii] = np.sum(Y_ft[:,ii] * var_t[ii]/var_ft[:,ii])\n",
    "    \n",
    "    print('segment = %u, start sec = %u, CC stat = %e, theor sigma = %e, SNR=%f'%(ii+3,\n",
    "                                                                       segmentStartTimes[ii],\n",
    "                                                                       np.real(Y_t[ii]) * segmentDuration,\n",
    "                                                                       np.sqrt(var_t[ii]) * segmentDuration,\n",
    "                                                                       np.real(Y_t[ii])/np.sqrt(var_t[ii])))\n"
   ]
  },
  {
   "cell_type": "markdown",
   "metadata": {},
   "source": [
    "# Post processing and comparison with matlab"
   ]
  },
  {
   "cell_type": "code",
   "execution_count": null,
   "metadata": {},
   "outputs": [],
   "source": [
    "h0=0.679 # hubble correction"
   ]
  },
  {
   "cell_type": "code",
   "execution_count": null,
   "metadata": {},
   "outputs": [],
   "source": [
    "Y_f,var_f=postprocessing_spectra(Y_ft,var_ft,dur,segmentDuration,\n",
    "                                 deltaF,1/d1.Fs)\n",
    "\n",
    "Y_f = Y_f / h0**2\n",
    "var_f = var_f / h0**4\n",
    "sigma_f = np.sqrt(var_f)"
   ]
  },
  {
   "cell_type": "code",
   "execution_count": null,
   "metadata": {},
   "outputs": [],
   "source": [
    "spectrum_file='matlab_for_O2_comparison/command/narrowband_stats.mat'\n",
    "tmp=loadmat(spectrum_file)"
   ]
  },
  {
   "cell_type": "code",
   "execution_count": null,
   "metadata": {},
   "outputs": [],
   "source": [
    "freqs_matlab=np.transpose(tmp['freq'].flatten())\n",
    "Y_f_matlab=np.real(tmp['ptEst_ff'].flatten())\n",
    "sigma_f_matlab=tmp['sigma_ff'].flatten()"
   ]
  },
  {
   "cell_type": "code",
   "execution_count": null,
   "metadata": {},
   "outputs": [],
   "source": [
    "print('Comparing sigmas')\n",
    "sm_sig=np.sqrt(1/np.sum(sigma_f_matlab**(-2)))\n",
    "sl_sig=np.sqrt(1/np.sum(sigma_f**(-2)))\n",
    "err_sig = np.abs((sm_sig-sl_sig)/sl_sig)\n",
    "print('\\tstochastic.m: %e'%sm_sig)\n",
    "print('\\tstochastic_lite: %e'%sl_sig)\n",
    "print('\\t%% diff: %f%%'%(100*err_sig))\n",
    "\n",
    "sm_y=np.sum(Y_f_matlab*sigma_f_matlab**(-2)) / np.sum(sigma_f_matlab**(-2))\n",
    "sl_y=np.sum(Y_f*sigma_f**(-2)) / np.sum(sigma_f**(-2))\n",
    "err_y = np.abs((sm_y-sl_y)/sl_y)\n",
    "print('Comparing point estimates')\n",
    "print('\\tstochastic.m: %e'%(sm_y))\n",
    "print('\\tstochastic_lite: %e'%(sl_y))\n",
    "print('\\t%% diff: %f%%'%(100*err_y))"
   ]
  },
  {
   "cell_type": "code",
   "execution_count": null,
   "metadata": {},
   "outputs": [],
   "source": [
    "plt.semilogx(freqs,Y_f,alpha=0.6,label='stochastic_lite')\n",
    "plt.semilogx(freqs_matlab,Y_f_matlab,alpha=0.3,label='stochastic.m')\n",
    "plt.xlim(20,100)\n",
    "plt.ylim(-1e-3,1e-3)\n",
    "plt.xlabel('Frequency')\n",
    "plt.ylabel(r'$\\Omega_{\\rm GW}$')\n",
    "plt.legend()"
   ]
  },
  {
   "cell_type": "code",
   "execution_count": null,
   "metadata": {},
   "outputs": [],
   "source": [
    "plt.semilogy(freqs_matlab,np.abs(Y_f-Y_f_matlab)/np.abs(Y_f),alpha=0.3,label='Bin-by-bin comparison')\n",
    "plt.axhline(np.median(np.abs(Y_f-Y_f_matlab)/np.abs(Y_f)),label='Median difference')\n",
    "\n",
    "plt.xlabel('Frequency')\n",
    "plt.ylabel(r'$\\Omega_{\\rm GW}$')\n",
    "plt.legend()\n",
    "plt.title('Relative difference in $\\hat{C}(f)$')"
   ]
  },
  {
   "cell_type": "code",
   "execution_count": null,
   "metadata": {},
   "outputs": [],
   "source": [
    "plt.loglog(freqs,sigma_f,label='stochastic_lite')\n",
    "plt.loglog(freqs_matlab,sigma_f_matlab,linestyle='--',label='stochastic.m')\n",
    "plt.legend()\n",
    "plt.xlabel('Frequency')\n",
    "plt.ylabel(r'$\\Omega_{\\rm GW}$')\n",
    "plt.legend()"
   ]
  },
  {
   "cell_type": "code",
   "execution_count": null,
   "metadata": {},
   "outputs": [],
   "source": [
    "plt.semilogy(freqs_matlab,np.abs(sigma_f-sigma_f_matlab)/np.abs(sigma_f),alpha=0.3,label='Bin-by-bin comparison')\n",
    "plt.axhline(np.median(np.abs(sigma_f-sigma_f_matlab)/np.abs(sigma_f)),label='Median difference')\n",
    "\n",
    "plt.xlabel('Frequency')\n",
    "plt.ylabel(r'$\\Omega_{\\rm GW}$')\n",
    "plt.legend()\n",
    "plt.title('Relative difference in $\\sigma(f)$')"
   ]
  },
  {
   "cell_type": "code",
   "execution_count": null,
   "metadata": {},
   "outputs": [],
   "source": []
  }
 ],
 "metadata": {},
 "nbformat": 4,
 "nbformat_minor": 4
}