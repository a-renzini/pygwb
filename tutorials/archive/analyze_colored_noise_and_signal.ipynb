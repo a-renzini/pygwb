{
 "cells": [
  {
   "cell_type": "code",
   "execution_count": null,
   "metadata": {},
   "outputs": [],
   "source": [
    "import numpy as np\n",
    "import matplotlib\n",
    "from matplotlib import pyplot as plt\n",
    "import bilby\n",
    "\n",
    "import sys\n",
    "sys.path.insert(0,'../src')\n",
    "from util import *\n",
    "from cross_correlation import *\n",
    "from postprocessing import *\n",
    "from pe import *\n",
    "from constants import *"
   ]
  },
  {
   "cell_type": "code",
   "execution_count": null,
   "metadata": {},
   "outputs": [],
   "source": [
    "matplotlib.rcParams.update({'font.size':15})"
   ]
  },
  {
   "cell_type": "markdown",
   "metadata": {},
   "source": [
    "# Analysis parameters"
   ]
  },
  {
   "cell_type": "code",
   "execution_count": null,
   "metadata": {},
   "outputs": [],
   "source": [
    "deltaF=0.25\n",
    "segmentDuration=64"
   ]
  },
  {
   "cell_type": "markdown",
   "metadata": {},
   "source": [
    "# Noise only analysis"
   ]
  },
  {
   "cell_type": "markdown",
   "metadata": {},
   "source": [
    "## Read and check data"
   ]
  },
  {
   "cell_type": "code",
   "execution_count": null,
   "metadata": {},
   "outputs": [],
   "source": [
    "# read data\n",
    "\n",
    "dat=np.load('data/colored_noise_H1.npy')\n",
    "t1,h1=dat[:,0],dat[:,1]\n",
    "d1=TimeSeries(t1,h1)\n",
    "\n",
    "dat=np.load('data/colored_noise_H2.npy')\n",
    "t2,h2=dat[:,0],dat[:,1]\n",
    "d2=TimeSeries(t2,h2)\n",
    "\n",
    "jobDuration=d2.times[-1]-d2.times[0]+d2.deltaT"
   ]
  },
  {
   "cell_type": "code",
   "execution_count": null,
   "metadata": {},
   "outputs": [],
   "source": [
    "# Sanity check PSDs\n",
    "nperseg=int(d1.Fs/deltaF)\n",
    "freqs,P1_test = welch_psd(d1.data,nperseg=nperseg,window='Hann',fs=d1.Fs)\n",
    "freqs,P2_test = welch_psd(d2.data,nperseg=nperseg,window='Hann',fs=d2.Fs)\n",
    "\n",
    "plt.loglog(freqs,P1_test,label='H1')\n",
    "plt.loglog(freqs,P2_test,label='H2')\n",
    "plt.xlim(20,1024)\n",
    "plt.ylim(1e-47,1e-45)\n",
    "plt.legend()"
   ]
  },
  {
   "cell_type": "markdown",
   "metadata": {},
   "source": [
    "## Cross correlation analysis"
   ]
  },
  {
   "cell_type": "code",
   "execution_count": null,
   "metadata": {},
   "outputs": [],
   "source": [
    "# run cross correlation analysis\n",
    "Ys,sigs,Y_ft,var_ft,segmentStartTimes,freqs=cross_correlation(d1,\n",
    "                                                       d2,\n",
    "                                                       segmentDuration,\n",
    "                                                       deltaF,\n",
    "                                                       verbose=True,\n",
    "                                                       doOverlap=True,\n",
    "                                                       alpha=0,\n",
    "                                                       fref=25,\n",
    "                                                       orf_file=None,\n",
    "                                                       fmin=20,\n",
    "                                                       fmax=1000)\n"
   ]
  },
  {
   "cell_type": "code",
   "execution_count": null,
   "metadata": {},
   "outputs": [],
   "source": [
    "# combine spectra over times\n",
    "Y_f,var_f=postprocessing_spectra(Y_ft,var_ft,jobDuration,segmentDuration,\n",
    "                                 deltaF,d1.deltaT)"
   ]
  },
  {
   "cell_type": "code",
   "execution_count": null,
   "metadata": {},
   "outputs": [],
   "source": [
    "# plot CC spectra\n",
    "plt.loglog(freqs[f_filter],np.abs(Y_f[f_filter]))\n",
    "plt.loglog(freqs[f_filter],np.sqrt(var_f[f_filter]))"
   ]
  },
  {
   "cell_type": "code",
   "execution_count": null,
   "metadata": {},
   "outputs": [],
   "source": [
    "# compute optimal SNR\n",
    "\n",
    "y,s=calc_Y_sigma_from_Yf_varf(np.real(Y_f[f_filter]),\n",
    "                          var_f[f_filter],\n",
    "                          freqs=freqs[f_filter],\n",
    "                          alpha=2./3,\n",
    "                          fref=25)\n",
    "\n",
    "print('Optimal SNR [alpha=2/3]: %f'%(y/s))"
   ]
  },
  {
   "cell_type": "code",
   "execution_count": null,
   "metadata": {},
   "outputs": [],
   "source": [
    "# Plot SNR vs alpha\n",
    "\n",
    "alphas=np.linspace(-5,5,100)\n",
    "\n",
    "snrs=np.zeros(alphas.shape)\n",
    "for ii,a in enumerate(alphas):\n",
    "    y,s=calc_Y_sigma_from_Yf_varf(np.real(Y_f[f_filter]),\n",
    "                          var_f[f_filter],\n",
    "                          freqs=freqs[f_filter],\n",
    "                          alpha=a,\n",
    "                          fref=25)\n",
    "    snrs[ii]=y/s\n",
    "plt.plot(alphas,snrs)\n",
    "plt.axvline(2./3)\n",
    "plt.xlabel('alpha')\n",
    "plt.ylabel('SNR')"
   ]
  },
  {
   "cell_type": "markdown",
   "metadata": {},
   "source": [
    "## Parameter estimation with power law model"
   ]
  },
  {
   "cell_type": "code",
   "execution_count": null,
   "metadata": {},
   "outputs": [],
   "source": [
    "# A few simple setup steps\n",
    "label = 'GWB_powerlaw'\n",
    "outdir = 'outdir'\n",
    "\n",
    "cleanup_dir(outdir)\n",
    "\n",
    "Amin,Amax,alpha_min,alpha_max=1e-8,1e-3,-5,5\n",
    "    \n",
    "\n",
    "fref=25\n",
    "\n",
    "likelihood = BasicPowerLawGWBLikelihood(Y_f[f_filter],var_f[f_filter],freqs[f_filter],fref)\n",
    "priors = dict(A=bilby.core.prior.LogUniform(Amin,Amax, 'A'),\n",
    "              alpha=bilby.core.prior.Uniform(alpha_min,alpha_max, 'alpha'))\n",
    "\n",
    "# And run sampler\n",
    "result = bilby.run_sampler(\n",
    "    likelihood=likelihood, priors=priors, sampler='dynesty', npoints=500,\n",
    "    walks=10, outdir=outdir, label=label,maxmcmc=10000)\n",
    "result.plot_corner()"
   ]
  },
  {
   "cell_type": "markdown",
   "metadata": {},
   "source": [
    "# Noise + alpha=2/3 analysis\n"
   ]
  },
  {
   "cell_type": "markdown",
   "metadata": {},
   "source": [
    "## Read and check data"
   ]
  },
  {
   "cell_type": "code",
   "execution_count": null,
   "metadata": {},
   "outputs": [],
   "source": [
    "dat=np.load('data/colored_noise_plus_signal_H1.npy')\n",
    "t1,h1=dat[:,0],dat[:,1]\n",
    "d1=TimeSeries(t1,h1)\n",
    "\n",
    "dat=np.load('data/colored_noise_plus_signal_H2.npy')\n",
    "t2,h2=dat[:,0],dat[:,1]\n",
    "d2=TimeSeries(t2,h2)\n",
    "\n",
    "jobDuration=d2.times[-1]-d2.times[0]+d2.deltaT"
   ]
  },
  {
   "cell_type": "code",
   "execution_count": null,
   "metadata": {},
   "outputs": [],
   "source": [
    "# Sanity check PSDs\n",
    "nperseg=int(d1.Fs/deltaF)\n",
    "freqs,P1_test = welch_psd(d1.data,nperseg=nperseg,window='Hann',fs=d1.Fs)\n",
    "freqs,P2_test = welch_psd(d2.data,nperseg=nperseg,window='Hann',fs=d2.Fs)\n",
    "\n",
    "plt.loglog(freqs,P1_test,label='H1')\n",
    "plt.loglog(freqs,P2_test,label='H2')\n",
    "plt.xlim(20,1024)\n",
    "plt.ylim(1e-47,1e-45)\n",
    "plt.legend()"
   ]
  },
  {
   "cell_type": "markdown",
   "metadata": {},
   "source": [
    "## Cross correlation analysis"
   ]
  },
  {
   "cell_type": "code",
   "execution_count": null,
   "metadata": {},
   "outputs": [],
   "source": [
    "Ys,sigs,Y_ft,var_ft,segmentStartTimes,freqs=cross_correlation(d1,\n",
    "                                                       d2,\n",
    "                                                       segmentDuration,\n",
    "                                                       deltaF,\n",
    "                                                       verbose=False,\n",
    "                                                       doOverlap=True,\n",
    "                                                       alpha=0,\n",
    "                                                       fref=25,\n",
    "                                                       orf_file=None,\n",
    "                                                      fmin=20,fmax=1000)"
   ]
  },
  {
   "cell_type": "code",
   "execution_count": null,
   "metadata": {},
   "outputs": [],
   "source": [
    "# combine spectra over times\n",
    "\n",
    "Y_f,var_f=postprocessing_spectra(Y_ft,var_ft,jobDuration,segmentDuration,\n",
    "                                 deltaF,d1.deltaT)"
   ]
  },
  {
   "cell_type": "code",
   "execution_count": null,
   "metadata": {},
   "outputs": [],
   "source": [
    "plt.loglog(freqs,np.abs(Y_f),label='Y',alpha=0.3)\n",
    "plt.loglog(freqs,np.sqrt(var_f),label=r'$\\sigma$',color='blue')\n",
    "plt.loglog(freqs,1e-7*(freqs/25)**(2./3),linestyle='--',label='Injection',color='red')\n",
    "plt.legend()\n",
    "plt.xlabel('Frequency [Hz]')\n",
    "plt.ylabel(r'$\\Omega_{\\rm GW}$')"
   ]
  },
  {
   "cell_type": "code",
   "execution_count": null,
   "metadata": {},
   "outputs": [],
   "source": [
    "# compute optimal SNR\n",
    "\n",
    "y,s=calc_Y_sigma_from_Yf_varf(np.real(Y_f[f_filter]),\n",
    "                          var_f[f_filter],\n",
    "                          freqs=freqs[f_filter],\n",
    "                          alpha=2./3,\n",
    "                          fref=25)\n",
    "\n",
    "print('Optimal SNR [alpha=2/3]: %f'%(y/s))\n"
   ]
  },
  {
   "cell_type": "code",
   "execution_count": null,
   "metadata": {},
   "outputs": [],
   "source": [
    "alphas=np.linspace(-5,5,100)\n",
    "\n",
    "snrs=np.zeros(alphas.shape)\n",
    "for ii,a in enumerate(alphas):\n",
    "    y,s=calc_Y_sigma_from_Yf_varf(np.real(Y_f[f_filter]),\n",
    "                          var_f[f_filter],\n",
    "                          freqs=freqs[f_filter],\n",
    "                          alpha=a,\n",
    "                          fref=25)\n",
    "    snrs[ii]=y/s\n",
    "plt.plot(alphas,snrs)\n",
    "plt.axvline(2./3)\n",
    "plt.xlabel('alpha')\n",
    "plt.ylabel('SNR')"
   ]
  },
  {
   "cell_type": "markdown",
   "metadata": {},
   "source": [
    "## PE with power law model"
   ]
  },
  {
   "cell_type": "code",
   "execution_count": null,
   "metadata": {},
   "outputs": [],
   "source": [
    "# A few simple setup steps\n",
    "label = 'GWB_powerlaw'\n",
    "outdir = 'outdir'\n",
    "\n",
    "cleanup_dir(outdir)\n",
    "\n",
    "Amin,Amax,alpha_min,alpha_max=1e-8,1e-3,-5,5\n",
    "    \n",
    "\n",
    "fref=25\n",
    "\n",
    "likelihood = BasicPowerLawGWBLikelihood(Y_f,var_f,freqs,fref)\n",
    "priors = dict(A=bilby.core.prior.LogUniform(Amin,Amax, 'A'),\n",
    "              alpha=bilby.core.prior.Uniform(alpha_min,alpha_max, 'alpha'))\n",
    "\n",
    "injection_parameters=dict(A=1e-7,alpha=2./3)\n",
    "\n",
    "# And run sampler\n",
    "result = bilby.run_sampler(\n",
    "    likelihood=likelihood, priors=priors, sampler='dynesty', npoints=500,\n",
    "    walks=10, outdir=outdir, label=label,maxmcmc=10000,injection_parameters=injection_parameters)\n",
    "result.plot_corner()"
   ]
  },
  {
   "cell_type": "markdown",
   "metadata": {},
   "source": [
    "## PE with broken power law model"
   ]
  },
  {
   "cell_type": "code",
   "execution_count": null,
   "metadata": {},
   "outputs": [],
   "source": [
    "# A few simple setup steps\n",
    "label = 'GWB_brokenpowerlaw'\n",
    "outdir = 'outdir'\n",
    "\n",
    "cleanup_dir(outdir)\n",
    "\n",
    "Amin,Amax = 1e-8,1e-3\n",
    "alpha1_min,alpha1_max=-5,5\n",
    "alpha2_min,alpha2_max=-5,5\n",
    "fbreak_min,fbreak_max=30,100\n",
    "    \n",
    "\n",
    "fref=25\n",
    "\n",
    "baselines=[Baseline('test',Y_f,var_f,freqs)]\n",
    "\n",
    "likelihood = BrokenPowerLawGWBLikelihood(baselines,fref)\n",
    "priors = dict(A=bilby.core.prior.Uniform(Amin,Amax, 'A'),\n",
    "              alpha1=bilby.core.prior.Uniform(alpha1_min,alpha1_max, 'alpha1'),\n",
    "              alpha2=bilby.core.prior.Uniform(alpha2_min,alpha2_max, 'alpha2'),\n",
    "              fbreak=bilby.core.prior.Uniform(fbreak_min,fbreak_max, 'fbreak'))\n",
    "\n",
    "injection_parameters=dict(A=1e-7,alpha1=2./3,alpha2=2./3,fbreak=None)\n",
    "\n",
    "\n",
    "# And run sampler\n",
    "result = bilby.run_sampler(\n",
    "    likelihood=likelihood, priors=priors, sampler='dynesty', npoints=500,\n",
    "    walks=10, outdir=outdir, label=label,maxmcmc=10000,injection_parameters=injection_parameters)\n",
    "result.plot_corner()"
   ]
  }
 ],
 "metadata": {
  "kernelspec": {
   "display_name": "igwn-py37",
   "language": "python",
   "name": "igwn-py37"
  },
  "language_info": {
   "codemirror_mode": {
    "name": "ipython",
    "version": 3
   },
   "file_extension": ".py",
   "mimetype": "text/x-python",
   "name": "python",
   "nbconvert_exporter": "python",
   "pygments_lexer": "ipython3",
   "version": "3.7.6"
  }
 },
 "nbformat": 4,
 "nbformat_minor": 4
}
