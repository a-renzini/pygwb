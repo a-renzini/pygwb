{
 "cells": [
  {
   "cell_type": "markdown",
   "metadata": {},
   "source": [
    "# Demonstration of density estimation.\n",
    "\n",
    "Here, we demonstrate how to use the density estimation module of `pygwb` with simulated time-frequency maps."
   ]
  },
  {
   "cell_type": "code",
   "execution_count": null,
   "metadata": {},
   "outputs": [],
   "source": [
    "%pylab inline\n",
    "\n",
    "from itertools import combinations\n",
    "\n",
    "import bilby\n",
    "from gwpy.spectrogram import Spectrogram\n",
    "from gwpy.timeseries import TimeSeries\n",
    "\n",
    "from pygwb import spectral"
   ]
  },
  {
   "cell_type": "markdown",
   "metadata": {},
   "source": [
    "Simulate some data\n",
    "\n",
    "- simulate 4096s of data in three interferometers following design sensitivities.\n",
    "- add a coherent signal centered at 200 Hz. Note that this ignores the actual overlap between different interferometers."
   ]
  },
  {
   "cell_type": "code",
   "execution_count": null,
   "metadata": {},
   "outputs": [],
   "source": [
    "ifos = bilby.gw.detector.InterferometerList([\"H1\", \"L1\", \"V1\"])\n",
    "\n",
    "chunk_duration = 2048 * 2\n",
    "sampling_frequency = 1024\n",
    "\n",
    "ifos.set_strain_data_from_power_spectral_densities(\n",
    "    duration=chunk_duration, sampling_frequency=sampling_frequency\n",
    ")\n",
    "\n",
    "coherent_psd = bilby.gw.detector.PowerSpectralDensity.from_amplitude_spectral_density_array(\n",
    "    frequency_array=ifos[0].frequency_array,\n",
    "    asd_array=1e-23 * np.exp(-(ifos[0].frequency_array - 200) ** 2 / 2)\n",
    ")\n",
    "common_noise = coherent_psd.get_noise_realisation(\n",
    "    duration=chunk_duration, sampling_frequency=sampling_frequency\n",
    ")[0]\n",
    "common_noise = bilby.core.utils.infft(common_noise, sampling_frequency=sampling_frequency)"
   ]
  },
  {
   "cell_type": "markdown",
   "metadata": {},
   "source": [
    "### Convert to \"fftgrams\" with `gwpy`"
   ]
  },
  {
   "cell_type": "code",
   "execution_count": null,
   "metadata": {},
   "outputs": [],
   "source": [
    "segment_duration = 32\n",
    "psd_duration = 32\n",
    "frequency_resolution = 1 / 4\n",
    "overlap = segment_duration / 2"
   ]
  },
  {
   "cell_type": "code",
   "execution_count": null,
   "metadata": {},
   "outputs": [],
   "source": [
    "gwpy_data = dict()\n",
    "\n",
    "for ifo in ifos:\n",
    "    gwpy_data[ifo.name] = TimeSeries(\n",
    "        ifo.time_domain_strain + common_noise, times=ifo.time_array\n",
    "    ).fftgram(fftlength=segment_duration, overlap=overlap)\n",
    "    np.log10(abs(gwpy_data[ifo.name])).plot(ylim=(20, 500))\n",
    "    plt.show()\n",
    "    plt.close()"
   ]
  },
  {
   "cell_type": "markdown",
   "metadata": {},
   "source": [
    "### Generate PSD and CSD spectrograms\n",
    "\n",
    "- combine fftgrams\n",
    "- coarsen in time and frequency\n",
    "\n",
    "_FIXME: verify this_\n",
    "\n",
    "Here we use a running mean average in time to generate a Welch average for each segment covering `psd_duration`s ($T_{P}$) of data starting from the beginning of the first segment.\n",
    "\n",
    "The first segment ends duration $D$s after the beginning of the first.\n",
    "The $n$th segments ends $D + (n - 1) T_{o}$s after the beginning of the first.\n",
    "This means that we require $T_{P} = D + (n - 1) T_{o}$ or $n = \\frac{T_{P} - D}{T_{o}} + 1$ segments.\n",
    "\n",
    "The $n$th segment then ends $n T_{O}$s after the first segment ($T_{o}$ is the overlap time).\n",
    "This means that we require $T_{P} = D + n T_{o}$ or $n = \\frac{T_{P} - D}{T_{o}}$ segments.\n",
    "\n",
    "After this, we compute the final PSD using a before/after.\n",
    "\n",
    "For the CSD, we then need the last segment used to estimate the PSD to be entirely non-overlapping with the corresponding CSD segment.\n",
    "\n",
    "This means that the CSD segment starts at the earliest $T_{P} + D$s after the PSD estimation segment.\n",
    "I.e., $n' \\geq n + \\frac{D}{T_{o}} = \\frac{T_{P}}{T_{o}}$.\n",
    "\n",
    "The \"after\" PSD estimate must start at $n_{a} = T_{p} + D$"
   ]
  },
  {
   "cell_type": "code",
   "execution_count": null,
   "metadata": {},
   "outputs": [],
   "source": [
    "psd_grams = dict()\n",
    "\n",
    "for ifo in gwpy_data:\n",
    "    temp = abs(spectral.coarse_grain_spectrogram(\n",
    "        spectral.density(gwpy_data[ifo], gwpy_data[ifo]),\n",
    "        delta_t=psd_duration,\n",
    "        delta_f=frequency_resolution,\n",
    "        time_method=\"running_mean\"\n",
    "    ))\n",
    "    psd_grams[ifo] = spectral.before_after_average(temp, segment_duration, psd_duration)\n",
    "    np.log10(psd_grams[ifo]).plot(ylim=(20, 500))\n",
    "    plt.show()\n",
    "    plt.close()\n",
    "    \n",
    "    plt.loglog(np.mean(psd_grams[ifo], axis=0))\n",
    "    plt.xlim(20, 512)\n",
    "    plt.ylim(1e-48)\n",
    "    plt.show()\n",
    "    plt.close()"
   ]
  },
  {
   "cell_type": "code",
   "execution_count": null,
   "metadata": {},
   "outputs": [],
   "source": [
    "stride = segment_duration - overlap\n",
    "csd_segment_offset = int(np.ceil(psd_duration / stride))\n",
    "after_offset = csd_segment_offset + int(np.ceil(segment_duration / stride))\n",
    "\n",
    "csd_grams = dict()\n",
    "\n",
    "for ifo_pair in combinations(gwpy_data.keys(), 2):\n",
    "    label = \"\".join(ifo_pair)\n",
    "    csd_grams[label] = spectral.coarse_grain_spectrogram(\n",
    "        spectral.density(gwpy_data[ifo_pair[0]], gwpy_data[ifo_pair[1]]),\n",
    "        delta_f=frequency_resolution,\n",
    "    )[csd_segment_offset:-after_offset + 1]\n",
    "    np.log10(abs(csd_grams[label])).plot(ylim=(20, 500))\n",
    "    plt.show()\n",
    "    plt.close()\n",
    "\n",
    "    plt.loglog(abs(np.mean(csd_grams[label], axis=0)))\n",
    "    plt.xlim(20, 512)\n",
    "    plt.ylim(1e-50)\n",
    "    plt.show()\n",
    "    plt.close()"
   ]
  },
  {
   "cell_type": "markdown",
   "metadata": {},
   "source": [
    "### Compute coherence\n",
    "\n",
    "- for each pair of events we wish to compute the coherence $\\rho_{IJ} = \\frac{C_{IJ}}{\\sqrt{S_{I}S_{J}}}$.\n",
    "- we can marginalize over time or frequency independently to see the time or frequency dependent coherence."
   ]
  },
  {
   "cell_type": "code",
   "execution_count": null,
   "metadata": {},
   "outputs": [],
   "source": [
    "for ifo_pair in combinations(gwpy_data.keys(), 2):\n",
    "    label = \"\".join(ifo_pair)\n",
    "    coherence = csd_grams[label] / (psd_grams[ifo_pair[0]] * psd_grams[ifo_pair[1]]) ** 0.5\n",
    "    abs(coherence).plot(ylim=(20, 500))\n",
    "    plt.show()\n",
    "    plt.close()\n",
    "    \n",
    "    mask = (coherence.frequencies.value >= 20) & (coherence.frequencies.value <= 500)\n",
    "    values = coherence.value[:, mask]\n",
    "\n",
    "    plt.plot(coherence.times, np.mean(abs(values), axis=1))\n",
    "    plt.show()\n",
    "    plt.close()\n",
    "\n",
    "    plt.plot(coherence.frequencies[mask], np.mean(abs(values), axis=0))\n",
    "    plt.show()\n",
    "    plt.close()"
   ]
  },
  {
   "cell_type": "markdown",
   "metadata": {},
   "source": [
    "Repeat the test with a single segment used for the psd estimation"
   ]
  },
  {
   "cell_type": "code",
   "execution_count": null,
   "metadata": {},
   "outputs": [],
   "source": [
    "segment_duration = 256\n",
    "psd_duration = 256\n",
    "frequency_resolution = 1 / 4\n",
    "overlap = segment_duration / 2"
   ]
  },
  {
   "cell_type": "code",
   "execution_count": null,
   "metadata": {},
   "outputs": [],
   "source": [
    "gwpy_data = dict()\n",
    "\n",
    "for ifo in ifos:\n",
    "    gwpy_data[ifo.name] = TimeSeries(\n",
    "        ifo.time_domain_strain + common_noise, times=ifo.time_array\n",
    "    ).fftgram(fftlength=segment_duration, overlap=overlap)\n",
    "    np.log10(abs(gwpy_data[ifo.name])).plot(ylim=(20, 500))\n",
    "    plt.show()\n",
    "    plt.close()"
   ]
  },
  {
   "cell_type": "code",
   "execution_count": null,
   "metadata": {},
   "outputs": [],
   "source": [
    "psd_grams = dict()\n",
    "\n",
    "for ifo in gwpy_data:\n",
    "    temp = abs(spectral.coarse_grain_spectrogram(\n",
    "        spectral.density(gwpy_data[ifo], gwpy_data[ifo]),\n",
    "        delta_t=psd_duration,\n",
    "        delta_f=frequency_resolution,\n",
    "        time_method=\"running_mean\"\n",
    "    ))\n",
    "    psd_grams[ifo] = spectral.before_after_average(temp, segment_duration, psd_duration)\n",
    "    np.log10(psd_grams[ifo]).plot(ylim=(20, 500))\n",
    "    plt.show()\n",
    "    plt.close()\n",
    "\n",
    "    plt.loglog(np.mean(psd_grams[ifo], axis=0))\n",
    "    plt.xlim(20, 512)\n",
    "    plt.ylim(1e-48)\n",
    "    plt.show()\n",
    "    plt.close()"
   ]
  },
  {
   "cell_type": "code",
   "execution_count": null,
   "metadata": {},
   "outputs": [],
   "source": [
    "stride = segment_duration - overlap\n",
    "csd_segment_offset = int(np.ceil(psd_duration / stride))\n",
    "after_offset = csd_segment_offset + int(np.ceil(segment_duration / stride))\n",
    "\n",
    "csd_grams = dict()\n",
    "\n",
    "for ifo_pair in combinations(gwpy_data.keys(), 2):\n",
    "    label = \"\".join(ifo_pair)\n",
    "    csd_grams[label] = spectral.coarse_grain_spectrogram(\n",
    "        spectral.density(gwpy_data[ifo_pair[0]], gwpy_data[ifo_pair[1]]),\n",
    "        delta_f=frequency_resolution,\n",
    "    )[csd_segment_offset:-after_offset + 1]\n",
    "    np.log10(abs(csd_grams[label])).plot(ylim=(20, 500))\n",
    "    plt.show()\n",
    "    plt.close()\n",
    "\n",
    "    plt.loglog(abs(np.mean(csd_grams[label], axis=0)))\n",
    "    plt.xlim(20, 512)\n",
    "    plt.ylim(1e-50)\n",
    "    plt.show()\n",
    "    plt.close()"
   ]
  },
  {
   "cell_type": "code",
   "execution_count": null,
   "metadata": {},
   "outputs": [],
   "source": [
    "for ifo_pair in combinations(gwpy_data.keys(), 2):\n",
    "    label = \"\".join(ifo_pair)\n",
    "    coherence = csd_grams[label] / (psd_grams[ifo_pair[0]] * psd_grams[ifo_pair[1]]) ** 0.5\n",
    "    abs(coherence).plot(ylim=(20, 500))\n",
    "    plt.show()\n",
    "    plt.close()\n",
    "    \n",
    "    mask = (coherence.frequencies.value >= 20) & (coherence.frequencies.value <= 500)\n",
    "    values = coherence.value[:, mask]\n",
    "\n",
    "    plt.plot(coherence.times, np.mean(abs(values), axis=1))\n",
    "    plt.show()\n",
    "    plt.close()\n",
    "\n",
    "    plt.plot(coherence.frequencies[mask], np.mean(abs(values), axis=0))\n",
    "    plt.show()\n",
    "    plt.close()"
   ]
  },
  {
   "cell_type": "code",
   "execution_count": null,
   "metadata": {},
   "outputs": [],
   "source": []
  }
 ],
 "metadata": {},
 "nbformat": 4,
 "nbformat_minor": 4
}