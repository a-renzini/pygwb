{
 "cells": [
  {
   "cell_type": "code",
   "execution_count": null,
   "metadata": {},
   "outputs": [],
   "source": [
    "import numpy as np\n",
    "from matplotlib import pyplot as plt\n",
    "import bilby\n",
    "import os\n",
    "import requests # used to download O1 and O2 data\n",
    "import corner\n",
    "\n",
    "import sys\n",
    "sys.path.insert(0,'../src')\n",
    "from util import *\n",
    "from cross_correlation import *\n",
    "from postprocessing import *\n",
    "from pe import *\n",
    "from constants import *"
   ]
  },
  {
   "cell_type": "markdown",
   "metadata": {},
   "source": [
    "## Get O1 and O2 data"
   ]
  },
  {
   "cell_type": "code",
   "execution_count": null,
   "metadata": {},
   "outputs": [],
   "source": [
    "# taken from here: https://stackoverflow.com/questions/16694907/download-large-file-in-python-with-requests/16696317#16696317\n",
    "def download_file(url):\n",
    "    local_filename = url.split('/')[-1]\n",
    "    # NOTE the stream=True parameter below\n",
    "    with requests.get(url, stream=True) as r:\n",
    "        r.raise_for_status()\n",
    "        with open(local_filename, 'wb') as f:\n",
    "            for chunk in r.iter_content(chunk_size=8192): \n",
    "                # If you have chunk encoded response uncomment if\n",
    "                # and set chunk_size parameter to None.\n",
    "                #if chunk: \n",
    "                f.write(chunk)\n",
    "    return local_filename"
   ]
  },
  {
   "cell_type": "markdown",
   "metadata": {},
   "source": [
    "### Get O1 data and plot it as a santy check"
   ]
  },
  {
   "cell_type": "code",
   "execution_count": null,
   "metadata": {},
   "outputs": [],
   "source": [
    "try:\n",
    "    fname_O1='data/figure1.dat'\n",
    "    freqs_1,Y_f_1,two_sigma_f_1=np.loadtxt(fname_O1,unpack=True,skiprows=1)\n",
    "except OSError:\n",
    "    fname_O1=download_file('https://dcc.ligo.org/public/0139/G1602446/003/figure1.dat')\n",
    "    make_dir('data')\n",
    "    fname_O1_new = 'data/{fname_O1}'.format(fname_O1=fname_O1)\n",
    "    os.rename(fname_O1,fname_O1_new)\n",
    "    freqs_1,Y_f_1,two_sigma_f_1=np.loadtxt(fname_O1_new,unpack=True,skiprows=1)\n",
    "    \n",
    "sigma_f_1=two_sigma_f_1/2\n",
    "var_f_1=sigma_f_1**2\n",
    "\n",
    "HubbleConstantCorrection = 0.68**2 / 0.679**2 # H0 choice changed from O1 to O2\n",
    "Y_f_1 = Y_f_1 * HubbleConstantCorrection\n",
    "sigma_f_1 = sigma_f_1 * HubbleConstantCorrection\n",
    "var_f_1 = var_f_1 * HubbleConstantCorrection**2"
   ]
  },
  {
   "cell_type": "code",
   "execution_count": null,
   "metadata": {},
   "outputs": [],
   "source": [
    "plt.plot(freqs_1,Y_f_1,color='blue',label='Y(f)')\n",
    "plt.plot(freqs_1,sigma_f_1,color='black',label='+/-sigma(f)')\n",
    "plt.plot(freqs_1,-sigma_f_1,color='black')\n",
    "plt.xlabel('Frequency [Hz]')\n",
    "plt.ylabel('Omega')\n",
    "plt.xlim(20,60)\n",
    "plt.ylim(-1e-5,1e-5)\n",
    "plt.legend()\n"
   ]
  },
  {
   "cell_type": "markdown",
   "metadata": {},
   "source": [
    "### Get O2 data and plot it as a santy check"
   ]
  },
  {
   "cell_type": "code",
   "execution_count": null,
   "metadata": {},
   "outputs": [],
   "source": [
    "try:\n",
    "    fname_O2='data/Figure_1_Cf_spectra_O2.dat'\n",
    "    freqs_2,Y_f_2,sigma_f_2=np.loadtxt(fname_O2,unpack=True)\n",
    "except OSError:\n",
    "    fname_O2=download_file('https://dcc.ligo.org/public/0158/T1900058/003/Figure_1_Cf_spectra_O2.dat')\n",
    "    make_dir('data')\n",
    "    fname_O2_new = 'data/{fname_O2}'.format(fname_O2=fname_O2)\n",
    "    os.rename(fname_O2,fname_O2_new)\n",
    "    freqs_2,Y_f_2,sigma_f_2=np.loadtxt(fname_O2_new,unpack=True)\n",
    "\n",
    "var_f_2=sigma_f_2**2"
   ]
  },
  {
   "cell_type": "code",
   "execution_count": null,
   "metadata": {},
   "outputs": [],
   "source": [
    "plt.plot(freqs_2,Y_f_2,color='blue',label='Y(f)')\n",
    "plt.plot(freqs_2,sigma_f_2,color='black',label='+/-sigma(f)')\n",
    "plt.plot(freqs_2,-sigma_f_2,color='black')\n",
    "plt.xlabel('Frequency [Hz]')\n",
    "plt.ylabel('Omega')\n",
    "plt.xlim(20,60)\n",
    "plt.ylim(-1e-5,1e-5)\n",
    "plt.legend()"
   ]
  },
  {
   "cell_type": "code",
   "execution_count": null,
   "metadata": {},
   "outputs": [],
   "source": [
    "cal_O1_H1 = 4.8 / 100\n",
    "cal_O1_L1 = 5.4 / 100\n",
    "cal_O2_H1 = 2.6 / 100\n",
    "cal_O2_L1 = 3.85 / 100\n",
    "\n",
    "cal_O1= np.sqrt(cal_O1_H1**2 + cal_O1_L1**2)\n",
    "cal_O2= np.sqrt(cal_O2_H1**2 + cal_O2_L1**2)\n",
    "\n",
    "O1_data = Baseline('HL-O1',Y_f_1,var_f_1,freqs_1,calibration_epsilon=cal_O1)\n",
    "O2_data = Baseline('HL-O2',Y_f_2,var_f_2,freqs_2,calibration_epsilon=cal_O2)\n",
    "\n",
    "baselines=[O1_data,O2_data]\n",
    "\n",
    "npoints=1024 # live points"
   ]
  },
  {
   "cell_type": "markdown",
   "metadata": {},
   "source": [
    "# PE"
   ]
  },
  {
   "cell_type": "code",
   "execution_count": null,
   "metadata": {},
   "outputs": [],
   "source": [
    "label = 'GWB_powerlaw'\n",
    "outdir = 'outdir'\n",
    "\n",
    "Amin,Amax=1e-13,1e-5\n",
    "fref=25\n",
    "\n",
    "O2_UL_a0=3.5e-8\n",
    "O2_UL_a2_3=3.0e-8\n",
    "O2_UL_a3=5.1e-9\n",
    "O2_UL_aMarg=3.4e-8\n",
    "\n",
    "likelihood = PowerLawGWBLikelihood(baselines,fref=fref)"
   ]
  },
  {
   "cell_type": "markdown",
   "metadata": {},
   "source": [
    "## Marginalize over alpha with Gaussian prior\n",
    "\n",
    "* 0 mean\n",
    "* 3.5 standard deviation\n",
    "* gives similar results to triangle prior"
   ]
  },
  {
   "cell_type": "code",
   "execution_count": null,
   "metadata": {},
   "outputs": [],
   "source": [
    "cleanup_dir(outdir)\n",
    "\n",
    "# parameters for alpha prior\n",
    "alpha_mean=0\n",
    "alpha_std=3.5\n",
    "\n",
    "# define priors\n",
    "priors = dict(A=bilby.core.prior.LogUniform(Amin,Amax, 'A'),\n",
    "              alpha=bilby.core.prior.Gaussian(alpha_mean,alpha_std, 'alpha'))\n",
    "\n",
    "# Run sampler\n",
    "result = bilby.run_sampler(\n",
    "    likelihood=likelihood, priors=priors, sampler='dynesty', npoints=npoints,\n",
    "    walks=10, outdir=outdir, label=label,maxmcmc=10000)\n",
    "result.plot_corner()"
   ]
  },
  {
   "cell_type": "code",
   "execution_count": null,
   "metadata": {},
   "outputs": [],
   "source": [
    "# extract samples\n",
    "\n",
    "A=result.samples[:,0]\n",
    "alpha=result.samples[:,1]\n",
    "\n",
    "logA=np.log10(A)\n",
    "results=np.transpose(np.array([logA,alpha]))"
   ]
  },
  {
   "cell_type": "code",
   "execution_count": null,
   "metadata": {},
   "outputs": [],
   "source": [
    "# make a plot analogous to Fig. 5 of O2 isotropic paper (supplementary material) https://arxiv.org/abs/1903.02886?\n",
    "corner.corner(results,smooth=0.5,labels=['log10 A','alpha'],levels=[0.68,0.95])\n",
    "fig=plt.gcf()\n",
    "\n",
    "ax1=fig.axes[0]\n",
    "ax2=fig.axes[2]\n",
    "ax3=fig.axes[3]\n",
    "\n",
    "logAmin,logAmax=np.log10(Amin),np.log10(Amax)\n",
    "ax1.set_xlim(logAmin,logAmax)\n",
    "logAs = np.linspace(logAmin,logAmax)\n",
    "y = len(logA) * np.ones(logAs.shape) / ((logAmax-logAmin)/np.log10(np.e))\n",
    "ax1.plot(logAs,y,color='gray',linestyle='--')\n",
    "\n",
    "\n",
    "ax2.set_xlim(-13,-5)\n",
    "ax2.set_ylim(-8,8)\n",
    "ax2.grid()\n",
    "\n",
    "\n",
    "sig_a=3.5\n",
    "ax3.set_xlim(-8,8)\n",
    "alphas=np.linspace(-8,8,100)\n",
    "y=len(logA)/np.sqrt(2*np.pi*alpha_std**2)*np.exp(-alphas**2/(2*alpha_std**2))\n",
    "ax3.plot(alphas,y,color='gray',linestyle='--')\n",
    "\n",
    "#UL=np.percentile(A,95)\n",
    "#print('95%% UL = %e'%UL)\n",
    "#print('95%% UL from O2 paper = %e'%O2_UL_aMarg)\n",
    "\n",
    "plt.show()"
   ]
  },
  {
   "cell_type": "code",
   "execution_count": null,
   "metadata": {},
   "outputs": [],
   "source": [
    "# extra plot: marginalized A posterior\n",
    "\n",
    "x=np.linspace(np.log10(Amax),np.log10(Amin),10)\n",
    "prior=np.ones(x.shape)/(np.log10(Amax)-np.log10(Amin))\n",
    "plt.plot(x,prior,color='red',label='prior')\n",
    "\n",
    "plt.hist(np.log10(A),bins=30,histtype='step',color='blue',density=True,label='posterior')\n",
    "plt.axvline(np.percentile(np.log10(A),95),color='blue',linestyle='--')\n",
    "\n",
    "plt.xlabel('log10A')\n",
    "plt.ylabel('Probability density')\n",
    "\n",
    "UL=np.percentile(A,95)\n",
    "print('95%% UL = %e'%UL)\n",
    "print('95%% UL from O2 paper = %e'%O2_UL_aMarg)\n",
    "\n",
    "plt.legend()"
   ]
  },
  {
   "cell_type": "code",
   "execution_count": null,
   "metadata": {},
   "outputs": [],
   "source": [
    "# extra plot: marginalized alpha posterior=\n",
    "\n",
    "x=np.linspace(-10,10,1000)\n",
    "prior=1/np.sqrt(2*np.pi*alpha_std**2) * np.exp(-0.5*(x/alpha_std)**2)\n",
    "plt.plot(x,prior,color='red',label='prior')\n",
    "\n",
    "\n",
    "plt.hist(alpha,bins=30,histtype='step',color='blue',density=True,label='posterior')\n",
    "plt.axvline(np.percentile(alpha,5),color='blue',linestyle='--')\n",
    "plt.axvline(np.percentile(alpha,95),color='blue',linestyle='--')\n",
    "\n",
    "\n",
    "plt.xlabel('alpha')\n",
    "plt.ylabel('Probability density')\n",
    "plt.legend()"
   ]
  },
  {
   "cell_type": "markdown",
   "metadata": {},
   "source": [
    "## alpha=0"
   ]
  },
  {
   "cell_type": "code",
   "execution_count": null,
   "metadata": {},
   "outputs": [],
   "source": [
    "cleanup_dir(outdir)\n",
    "\n",
    "alpha_fixed=0\n",
    "\n",
    "priors = dict(A=bilby.core.prior.LogUniform(Amin,Amax, 'A'),\n",
    "              alpha=bilby.core.prior.DeltaFunction(alpha_fixed, 'alpha'))\n",
    "\n",
    "# Run sampler\n",
    "result = bilby.run_sampler(\n",
    "    likelihood=likelihood, priors=priors, sampler='dynesty', npoints=npoints,\n",
    "    walks=10, outdir=outdir, label=label,maxmcmc=10000)\n",
    "result.plot_corner()"
   ]
  },
  {
   "cell_type": "code",
   "execution_count": null,
   "metadata": {},
   "outputs": [],
   "source": [
    "A=result.samples[:,0]\n",
    "\n",
    "\n",
    "x=np.linspace(np.log10(Amax),np.log10(Amin),10)\n",
    "prior=np.ones(x.shape)/(np.log10(Amax)-np.log10(Amin))\n",
    "plt.plot(x,prior,color='red',label='prior')\n",
    "\n",
    "plt.hist(np.log10(A),bins=30,histtype='step',color='blue',density=True,label='posterior')\n",
    "plt.axvline(np.percentile(np.log10(A),95),color='blue',linestyle='--')\n",
    "\n",
    "plt.xlabel('log10A')\n",
    "plt.ylabel('Probability density')\n",
    "\n",
    "UL=np.percentile(A,95)\n",
    "print('95%% UL = %e'%UL)\n",
    "print('95%% UL from O2 paper = %e'%O2_UL_a0)\n",
    "plt.legend()"
   ]
  },
  {
   "cell_type": "markdown",
   "metadata": {},
   "source": [
    "## alpha=2/3"
   ]
  },
  {
   "cell_type": "code",
   "execution_count": null,
   "metadata": {},
   "outputs": [],
   "source": [
    "cleanup_dir(outdir)\n",
    "\n",
    "alpha_fixed=2./3\n",
    "\n",
    "priors = dict(A=bilby.core.prior.LogUniform(Amin,Amax, 'A'),\n",
    "              alpha=bilby.core.prior.DeltaFunction(alpha_fixed, 'alpha'))\n",
    "\n",
    "# Run sampler\n",
    "result = bilby.run_sampler(\n",
    "    likelihood=likelihood, priors=priors, sampler='dynesty', npoints=npoints,\n",
    "    walks=10, outdir=outdir, label=label,maxmcmc=10000)\n",
    "result.plot_corner()"
   ]
  },
  {
   "cell_type": "code",
   "execution_count": null,
   "metadata": {},
   "outputs": [],
   "source": [
    "A=result.samples[:,0]\n",
    "\n",
    "x=np.linspace(np.log10(Amax),np.log10(Amin),10)\n",
    "prior=np.ones(x.shape)/(np.log10(Amax)-np.log10(Amin))\n",
    "plt.plot(x,prior,color='red',label='prior')\n",
    "\n",
    "plt.hist(np.log10(A),bins=30,histtype='step',color='blue',density=True,label='posterior')\n",
    "plt.axvline(np.percentile(np.log10(A),95),color='blue',linestyle='--')\n",
    "\n",
    "plt.xlabel('log10A')\n",
    "plt.ylabel('Probability density')\n",
    "\n",
    "UL=np.percentile(A,95)\n",
    "print('95%% UL = %e'%UL)\n",
    "print('95%% UL from O2 paper = %e'%O2_UL_a2_3)\n",
    "plt.legend()"
   ]
  },
  {
   "cell_type": "code",
   "execution_count": null,
   "metadata": {},
   "outputs": [],
   "source": []
  },
  {
   "cell_type": "markdown",
   "metadata": {},
   "source": [
    "## alpha=3"
   ]
  },
  {
   "cell_type": "code",
   "execution_count": null,
   "metadata": {},
   "outputs": [],
   "source": [
    "cleanup_dir(outdir)\n",
    "\n",
    "alpha_fixed=3\n",
    "\n",
    "priors = dict(A=bilby.core.prior.LogUniform(Amin,Amax, 'A'),\n",
    "              alpha=bilby.core.prior.DeltaFunction(alpha_fixed, 'alpha'))\n",
    "\n",
    "# Run sampler\n",
    "result = bilby.run_sampler(\n",
    "    likelihood=likelihood, priors=priors, sampler='dynesty', npoints=npoints,\n",
    "    walks=10, outdir=outdir, label=label,maxmcmc=10000)\n",
    "result.plot_corner()"
   ]
  },
  {
   "cell_type": "code",
   "execution_count": null,
   "metadata": {
    "scrolled": true
   },
   "outputs": [],
   "source": [
    "A=result.samples[:,0]\n",
    "\n",
    "x=np.linspace(np.log10(Amax),np.log10(Amin),10)\n",
    "prior=np.ones(x.shape)/(np.log10(Amax)-np.log10(Amin))\n",
    "plt.plot(x,prior,color='red',label='prior')\n",
    "\n",
    "plt.hist(np.log10(A),bins=30,histtype='step',color='blue',density=True,label='posterior')\n",
    "plt.axvline(np.percentile(np.log10(A),95),color='blue',linestyle='--')\n",
    "\n",
    "plt.xlabel('log10A')\n",
    "plt.ylabel('Probability density')\n",
    "\n",
    "UL=np.percentile(A,95)\n",
    "print('95%% UL = %e'%UL)\n",
    "print('95%% UL from O2 paper = %e'%O2_UL_a3)\n",
    "plt.legend()"
   ]
  },
  {
   "cell_type": "code",
   "execution_count": null,
   "metadata": {},
   "outputs": [],
   "source": []
  }
 ],
 "metadata": {
  "kernelspec": {
   "display_name": "igwn-py37",
   "language": "python",
   "name": "igwn-py37"
  },
  "language_info": {
   "codemirror_mode": {
    "name": "ipython",
    "version": 3
   },
   "file_extension": ".py",
   "mimetype": "text/x-python",
   "name": "python",
   "nbconvert_exporter": "python",
   "pygments_lexer": "ipython3",
   "version": "3.7.6"
  }
 },
 "nbformat": 4,
 "nbformat_minor": 4
}
