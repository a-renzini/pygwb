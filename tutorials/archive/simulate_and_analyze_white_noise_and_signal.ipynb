{
 "cells": [
  {
   "cell_type": "code",
   "execution_count": null,
   "metadata": {},
   "outputs": [],
   "source": [
    "import numpy as np\n",
    "import matplotlib\n",
    "from matplotlib import pyplot as plt\n",
    "import bilby\n",
    "\n",
    "import sys\n",
    "sys.path.insert(0,'../src')\n",
    "from util import *\n",
    "from cross_correlation import *\n",
    "from postprocessing import *\n",
    "from pe import *\n",
    "from constants import *"
   ]
  },
  {
   "cell_type": "code",
   "execution_count": null,
   "metadata": {},
   "outputs": [],
   "source": [
    "matplotlib.rcParams.update({'font.size':15})"
   ]
  },
  {
   "cell_type": "markdown",
   "metadata": {},
   "source": [
    "# Simulate data"
   ]
  },
  {
   "cell_type": "code",
   "execution_count": null,
   "metadata": {},
   "outputs": [],
   "source": [
    "####################\n",
    "# Inputs\n",
    "####################\n",
    "\n",
    "# PSD ~ 1e-42 strain^2 / Hz\n",
    "# PSD = 2 sigma**2 * deltaT = 2 * sigma**2 / Fs\n",
    "# = sigma**2 / 512\n",
    "# sigma = sqrt(1e-42 * 512)\n",
    "\n",
    "sigma             = np.sqrt(512 * 1e-42) # strain\n",
    "sigma_inj         = sigma/10.\n",
    "NSegments         = 50\n",
    "Fs                = 1024. # Hz\n",
    "segmentDuration   = 64.0 # s\n",
    "t0                = 0 # s\n",
    "TAvg              = 4.0 # s\n",
    "\n",
    "####################\n",
    "# Computed quantities\n",
    "####################\n",
    "\n",
    "NSamplesPerSegment=int(segmentDuration*Fs) \n",
    "deltaT=1/Fs\n",
    "fNyquist=1/(2*deltaT)\n",
    "deltaF=1/segmentDuration\n",
    "deltaFStoch=1/TAvg\n",
    "NAvgs = 2 * int(segmentDuration / TAvg) - 1\n",
    "jobDuration = NSegments * segmentDuration"
   ]
  },
  {
   "cell_type": "code",
   "execution_count": null,
   "metadata": {},
   "outputs": [],
   "source": [
    "# Theoretical PSD and sigma for white GWB and white noise\n",
    "\n",
    "Nfreqs = int((Fs/2) / deltaFStoch)\n",
    "alpha=3 # white signal\n",
    "fref=25\n",
    "\n",
    "w1w2bar, w1w2squaredbar,_,_ = window_factors(NSamplesPerSegment)\n",
    "PSD_theor = 2*(sigma**2)*deltaT\n",
    "Pgw_theor = 2*(sigma_inj**2)*deltaT\n",
    "\n",
    "H_theor = (3*H0**2)/(10*np.pi**2*fref**3) # don't need *(P1.freqs/fref)**(alpha-3) for alpha=3\n",
    "Y_theor = Pgw_theor/H_theor\n",
    "\n",
    "var_theor = 1./((segmentDuration)*2*Nfreqs*deltaFStoch * H_theor**2/(PSD_theor**2))\n",
    "var_theor = w1w2squaredbar / w1w2bar**2 * var_theor\n",
    "sigma_theor = np.sqrt(var_theor)\n",
    "\n",
    "print('sigma_theor =', sigma_theor)\n",
    "print('Y_theor =', Y_theor)"
   ]
  },
  {
   "cell_type": "code",
   "execution_count": null,
   "metadata": {},
   "outputs": [],
   "source": [
    "# simulate the time series data\n",
    "noise1=sigma*np.random.randn(int(NSamplesPerSegment*NSegments))\n",
    "noise2=sigma*np.random.randn(int(NSamplesPerSegment*NSegments))\n",
    "inj=sigma_inj*np.random.randn(int(NSamplesPerSegment*NSegments))\n",
    "\n",
    "times=np.arange(t0,t0+NSegments*segmentDuration,1/Fs)\n",
    "\n",
    "d1=TimeSeries(times,noise1 + inj)\n",
    "d2=TimeSeries(times,noise2 + inj)"
   ]
  },
  {
   "cell_type": "markdown",
   "metadata": {},
   "source": [
    "# Cross correlation analysis"
   ]
  },
  {
   "cell_type": "code",
   "execution_count": null,
   "metadata": {},
   "outputs": [],
   "source": [
    "# run stochastic pipeline\n",
    "alpha=0\n",
    "fref=25\n",
    "Y_t,sig_t,Y_ft,var_ft,segmentStartTimes,freqs=cross_correlation(d1,d2,segmentDuration,deltaFStoch,\n",
    "                                                      fref=fref,alpha=alpha,fmin=deltaFStoch,fmax=fNyquist/2.)"
   ]
  },
  {
   "cell_type": "code",
   "execution_count": null,
   "metadata": {},
   "outputs": [],
   "source": [
    "# plot results of CC search\n",
    "plt.loglog(freqs,np.abs(Y_ft[:,0]),label='Y(f)')\n",
    "plt.loglog(freqs,np.abs(np.sqrt(var_ft[:,0])),label=('sigma(f)'))\n",
    "plt.legend()\n",
    "plt.title('First segment')"
   ]
  },
  {
   "cell_type": "code",
   "execution_count": null,
   "metadata": {},
   "outputs": [],
   "source": [
    "# combine spectra over times\n",
    "\n",
    "Y_f,var_f=postprocessing_spectra(Y_ft,var_ft,jobDuration,segmentDuration,\n",
    "                                 deltaFStoch,deltaT)"
   ]
  },
  {
   "cell_type": "code",
   "execution_count": null,
   "metadata": {},
   "outputs": [],
   "source": [
    "# test optimal filtering\n",
    "\n",
    "alphas=np.linspace(-8,8,100)\n",
    "\n",
    "snrs=np.zeros(alphas.shape)\n",
    "for ii,a in enumerate(alphas):\n",
    "    y,s=calc_Y_sigma_from_Yf_varf(np.real(Y_f),\n",
    "                          var_f,\n",
    "                          freqs=freqs,\n",
    "                          alpha=a,\n",
    "                          fref=25)\n",
    "    snrs[ii]=y/s\n",
    "plt.plot(alphas,snrs)\n",
    "plt.axvline(3)\n",
    "plt.xlabel('alpha')\n",
    "plt.ylabel('SNR')\n",
    "plt.title('Optimal SNR vs alpha')"
   ]
  },
  {
   "cell_type": "markdown",
   "metadata": {},
   "source": [
    "# Parameter estimation with power law model"
   ]
  },
  {
   "cell_type": "code",
   "execution_count": null,
   "metadata": {},
   "outputs": [],
   "source": [
    "# A few simple setup steps\n",
    "label = 'GWB_powerlaw'\n",
    "outdir = 'outdir'\n",
    "\n",
    "cleanup_dir(outdir)\n",
    "\n",
    "Amin,Amax,alpha_min,alpha_max=1e-10,1e-3,-5,5\n",
    "    \n",
    "\n",
    "fref=25\n",
    "\n",
    "likelihood = BasicPowerLawGWBLikelihood(Y_f[1:],var_f[1:],freqs[1:],fref)\n",
    "priors = dict(A=bilby.core.prior.Uniform(Amin,Amax, 'A'),\n",
    "              alpha=bilby.core.prior.Uniform(alpha_min,alpha_max, 'alpha'))\n",
    "\n",
    "injection_parameters=dict(A=Y_theor,alpha=3)\n",
    "\n",
    "# And run sampler\n",
    "result = bilby.run_sampler(\n",
    "    likelihood=likelihood, priors=priors, sampler='dynesty', npoints=500,\n",
    "    walks=10, outdir=outdir, label=label,maxmcmc=10000,injection_parameters=injection_parameters)\n",
    "result.plot_corner()"
   ]
  },
  {
   "cell_type": "markdown",
   "metadata": {},
   "source": [
    "# Parameter estimation with broken power law model"
   ]
  },
  {
   "cell_type": "code",
   "execution_count": null,
   "metadata": {},
   "outputs": [],
   "source": [
    "# A few simple setup steps\n",
    "label = 'GWB_brokenpowerlaw'\n",
    "outdir = 'outdir'\n",
    "\n",
    "cleanup_dir(outdir)\n",
    "\n",
    "Amin,Amax = 1e-10,1e-3\n",
    "alpha1_min,alpha1_max=-5,5\n",
    "alpha2_min,alpha2_max=-5,5\n",
    "fbreak_min,fbreak_max=30,100\n",
    "    \n",
    "\n",
    "fref=25\n",
    "\n",
    "baselines=[Baseline('test',Y_f,var_f,freqs)]\n",
    "\n",
    "likelihood = BrokenPowerLawGWBLikelihood(baselines,fref)\n",
    "priors = dict(A=bilby.core.prior.Uniform(Amin,Amax, 'A'),\n",
    "              alpha1=bilby.core.prior.Uniform(alpha1_min,alpha1_max, 'alpha1'),\n",
    "              alpha2=bilby.core.prior.Uniform(alpha2_min,alpha2_max, 'alpha2'),\n",
    "              fbreak=bilby.core.prior.Uniform(fbreak_min,fbreak_max, 'fbreak'))\n",
    "\n",
    "injection_parameters=dict(A=Y_theor,alpha1=3,alpha2=3,fbreak=None)\n",
    "\n",
    "\n",
    "# And run sampler\n",
    "result = bilby.run_sampler(\n",
    "    likelihood=likelihood, priors=priors, sampler='dynesty', npoints=500,\n",
    "    walks=10, outdir=outdir, label=label,maxmcmc=10000,injection_parameters=injection_parameters)\n",
    "result.plot_corner()"
   ]
  },
  {
   "cell_type": "markdown",
   "metadata": {},
   "source": [
    "# Model selection"
   ]
  },
  {
   "cell_type": "code",
   "execution_count": null,
   "metadata": {},
   "outputs": [],
   "source": [
    "# Hard coded values from above\n",
    "\n",
    "# Power law model\n",
    "lnZ_PL = -1760.873\n",
    "\n",
    "# Broken power law model\n",
    "lnZ_BPL = -1763.607\n",
    "\n",
    "print('lnZ_PL - lnZ_BPL = %f'%(lnZ_PL-lnZ_BPL))"
   ]
  },
  {
   "cell_type": "code",
   "execution_count": null,
   "metadata": {},
   "outputs": [],
   "source": []
  }
 ],
 "metadata": {},
 "nbformat": 4,
 "nbformat_minor": 4
}