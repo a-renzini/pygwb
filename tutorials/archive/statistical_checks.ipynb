{
 "cells": [
  {
   "cell_type": "code",
   "execution_count": 1,
   "id": "63f3a58e-62ac-4d09-adc6-f7cb00e40633",
   "metadata": {},
   "outputs": [],
   "source": [
    "import numpy as np\n",
    "import sys\n",
    "sys.path.insert(0,'..')\n",
    "from pygwb.statistical_checks import StatisticalChecks"
   ]
  },
  {
   "cell_type": "code",
   "execution_count": 2,
   "id": "874e6248-28f9-46cd-b8de-dab8fd395d57",
   "metadata": {},
   "outputs": [],
   "source": [
    "mat_dir = \"/home/irina.dvorkin/StochRepo/isotropic-o3a/time_shifted_runs/1241280019-1242489618_v1/HL/output/mats/\"\n",
    "pproc_dir = \"/home/irina.dvorkin/StochRepo/isotropic-o3a/time_shifted_runs/1241280019-1242489618_v1/HL/pproc/a0/\"\n",
    "\n",
    "plot_dir = \"/home/kevin.turbang/public_html/Stochastic_lite/Statistical_checks_plots/\""
   ]
  },
  {
   "cell_type": "code",
   "execution_count": 3,
   "id": "0773c802-fa53-4254-9895-2b580a9d8954",
   "metadata": {},
   "outputs": [],
   "source": [
    "# These parameters should be read in from an ini file\n",
    "njobs = 47\n",
    "segment_duration = 192\n",
    "deltaF = 0.03125\n",
    "dsc = 0.2\n",
    "sampling_frequency = 1024\n",
    "segs = segment_duration * deltaF * 2 - 1\n",
    "deltaT = 1 / sampling_frequency\n",
    "ifo_pair = \"H1L1\"\n",
    "read_bad_times = True"
   ]
  },
  {
   "cell_type": "code",
   "execution_count": 4,
   "id": "1274f3da-dbf0-4f91-bd01-50489a4446dd",
   "metadata": {},
   "outputs": [
    {
     "name": "stdout",
     "output_type": "stream",
     "text": [
      "No data for job 25\n"
     ]
    }
   ],
   "source": [
    "example_stat_checks = StatisticalChecks(segment_duration, njobs, deltaT, deltaF, dsc, ifo_pair, mat_dir, pproc_dir, plot_dir,read_bad_times, segs)"
   ]
  },
  {
   "cell_type": "code",
   "execution_count": 6,
   "id": "89bdb00f-c663-4646-9f86-3bcdc398b23d",
   "metadata": {},
   "outputs": [],
   "source": [
    "example_stat_checks.plot_running_point_estimate()"
   ]
  },
  {
   "cell_type": "code",
   "execution_count": 8,
   "id": "799f012f-700a-44b2-85cb-effdcf0d4b9c",
   "metadata": {},
   "outputs": [],
   "source": [
    "example_stat_checks.plot_running_sigma()"
   ]
  },
  {
   "cell_type": "code",
   "execution_count": 9,
   "id": "d18fd4bc-74e5-471a-ae2e-588adebfccdd",
   "metadata": {},
   "outputs": [],
   "source": [
    "example_stat_checks.plot_IFFT_point_estimate_integrand()"
   ]
  },
  {
   "cell_type": "code",
   "execution_count": 10,
   "id": "6855d3cf-8dda-42ab-9762-676f5385fed8",
   "metadata": {},
   "outputs": [],
   "source": [
    "example_stat_checks.plot_point_estimate_integrand()"
   ]
  },
  {
   "cell_type": "code",
   "execution_count": 11,
   "id": "71f51d61-0883-43e4-a80e-6ecdcafbb095",
   "metadata": {},
   "outputs": [],
   "source": [
    "example_stat_checks.plot_cumulative_point_estimate()"
   ]
  },
  {
   "cell_type": "code",
   "execution_count": 12,
   "id": "db8c6174-48a4-4304-85ee-1f3c60d3170b",
   "metadata": {},
   "outputs": [],
   "source": [
    "example_stat_checks.plot_real_point_estimate_integrand()"
   ]
  },
  {
   "cell_type": "code",
   "execution_count": 13,
   "id": "1fde4262-0c84-4854-98ca-1077c667a62a",
   "metadata": {},
   "outputs": [],
   "source": [
    "example_stat_checks.plot_imaginary_point_estimate_integrand()"
   ]
  },
  {
   "cell_type": "code",
   "execution_count": 14,
   "id": "ba23b94f-4173-4d70-add5-dd3bb3eb31da",
   "metadata": {},
   "outputs": [],
   "source": [
    "example_stat_checks.plot_sensitivity_integrand()"
   ]
  },
  {
   "cell_type": "code",
   "execution_count": 15,
   "id": "3eebb687-2241-44f1-b48d-297851337b8a",
   "metadata": {},
   "outputs": [],
   "source": [
    "example_stat_checks.plot_cumulative_sensitivity_integrand()"
   ]
  },
  {
   "cell_type": "code",
   "execution_count": 16,
   "id": "d59be68a-a109-40fc-a58d-b60fcee2f34b",
   "metadata": {},
   "outputs": [],
   "source": [
    "example_stat_checks.plot_omega_sigma_in_time()"
   ]
  },
  {
   "cell_type": "code",
   "execution_count": 17,
   "id": "7462a0e9-160b-46d9-b5d3-3a42e5916d48",
   "metadata": {},
   "outputs": [],
   "source": [
    "example_stat_checks.plot_hist_sigma_dsc()"
   ]
  },
  {
   "cell_type": "code",
   "execution_count": 18,
   "id": "6b6c4f9d-7694-410a-8d18-70c124100b76",
   "metadata": {},
   "outputs": [],
   "source": [
    "example_stat_checks.plot_scatter_sigma_dsc()"
   ]
  },
  {
   "cell_type": "code",
   "execution_count": 5,
   "id": "ac1a469a-156a-45d9-9a1a-90b69a999b27",
   "metadata": {},
   "outputs": [],
   "source": [
    "example_stat_checks.plot_scatter_omega_sigma_dsc()"
   ]
  },
  {
   "cell_type": "code",
   "execution_count": 6,
   "id": "40131460-61eb-4e59-b843-eaa68f7fbe6d",
   "metadata": {},
   "outputs": [],
   "source": [
    "example_stat_checks.plot_hist_omega_pre_post_dsc()"
   ]
  },
  {
   "cell_type": "code",
   "execution_count": 5,
   "id": "d5e42323-168b-47b3-96ea-b1cbd743c863",
   "metadata": {},
   "outputs": [],
   "source": [
    "example_stat_checks.plot_KS_test()"
   ]
  },
  {
   "cell_type": "code",
   "execution_count": 5,
   "id": "5b414cb6-0b06-4e34-a38c-bc0ce9a51f1b",
   "metadata": {},
   "outputs": [],
   "source": [
    "example_stat_checks.plot_hist_scatter_omega_sigma()"
   ]
  },
  {
   "cell_type": "code",
   "execution_count": 6,
   "id": "9532091e-410e-4c8b-adee-13085685aa23",
   "metadata": {},
   "outputs": [],
   "source": [
    "example_stat_checks.plot_hist_sigma_squared()"
   ]
  },
  {
   "cell_type": "code",
   "execution_count": 5,
   "id": "8b1fce7c-b8a2-4c14-8fa7-1278f8766e6e",
   "metadata": {},
   "outputs": [],
   "source": [
    "example_stat_checks.plot_omega_time_fit()"
   ]
  },
  {
   "cell_type": "code",
   "execution_count": 6,
   "id": "ce514772-bf27-4058-a85d-f1bd30ed15a9",
   "metadata": {},
   "outputs": [],
   "source": [
    "example_stat_checks.generate_all_plots()"
   ]
  },
  {
   "cell_type": "code",
   "execution_count": null,
   "id": "c87b8e71-79e6-4c7e-b3ae-80091e94aca6",
   "metadata": {},
   "outputs": [],
   "source": []
  }
 ],
 "metadata": {
  "kernelspec": {
   "display_name": "igwn-py38",
   "language": "python",
   "name": "igwn-py38"
  },
  "language_info": {
   "codemirror_mode": {
    "name": "ipython",
    "version": 3
   },
   "file_extension": ".py",
   "mimetype": "text/x-python",
   "name": "python",
   "nbconvert_exporter": "python",
   "pygments_lexer": "ipython3",
   "version": "3.8.12"
  }
 },
 "nbformat": 4,
 "nbformat_minor": 5
}
