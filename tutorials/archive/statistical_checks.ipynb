{
 "cells": [
  {
   "cell_type": "code",
   "execution_count": null,
   "id": "2fa7693b",
   "metadata": {},
   "outputs": [],
   "source": [
    "import numpy as np\n",
    "import sys\n",
    "sys.path.insert(0,'..')\n",
    "from pygwb.statistical_checks import StatisticalChecks"
   ]
  },
  {
   "cell_type": "code",
   "execution_count": null,
   "id": "db164a0f",
   "metadata": {},
   "outputs": [],
   "source": [
    "mat_dir = \"/home/irina.dvorkin/StochRepo/isotropic-o3a/time_shifted_runs/1241280019-1242489618_v1/HL/output/mats/\"\n",
    "pproc_dir = \"/home/irina.dvorkin/StochRepo/isotropic-o3a/time_shifted_runs/1241280019-1242489618_v1/HL/pproc/a0/\"\n",
    "\n",
    "plot_dir = \"/home/kevin.turbang/public_html/Stochastic_lite/Statistical_checks_plots/\""
   ]
  },
  {
   "cell_type": "code",
   "execution_count": null,
   "id": "cff550fc",
   "metadata": {},
   "outputs": [],
   "source": [
    "# These parameters should be read in from an ini file\n",
    "njobs = 47\n",
    "segment_duration = 192\n",
    "deltaF = 0.03125\n",
    "dsc = 0.2\n",
    "sampling_frequency = 1024\n",
    "segs = segment_duration * deltaF * 2 - 1\n",
    "deltaT = 1 / sampling_frequency\n",
    "ifo_pair = \"H1L1\"\n",
    "read_bad_times = True"
   ]
  },
  {
   "cell_type": "code",
   "execution_count": null,
   "id": "92bbf9e3",
   "metadata": {},
   "outputs": [],
   "source": [
    "example_stat_checks = StatisticalChecks(segment_duration, njobs, deltaT, deltaF, dsc, ifo_pair, mat_dir, pproc_dir, plot_dir,read_bad_times, segs)"
   ]
  },
  {
   "cell_type": "code",
   "execution_count": null,
   "id": "85b78cc6",
   "metadata": {},
   "outputs": [],
   "source": [
    "example_stat_checks.plot_running_point_estimate()"
   ]
  },
  {
   "cell_type": "code",
   "execution_count": null,
   "id": "78bb0f32",
   "metadata": {},
   "outputs": [],
   "source": [
    "example_stat_checks.plot_running_sigma()"
   ]
  },
  {
   "cell_type": "code",
   "execution_count": null,
   "id": "27092540",
   "metadata": {},
   "outputs": [],
   "source": [
    "example_stat_checks.plot_IFFT_point_estimate_integrand()"
   ]
  },
  {
   "cell_type": "code",
   "execution_count": null,
   "id": "ae46bcee",
   "metadata": {},
   "outputs": [],
   "source": [
    "example_stat_checks.plot_point_estimate_integrand()"
   ]
  },
  {
   "cell_type": "code",
   "execution_count": null,
   "id": "56ee2ec0",
   "metadata": {},
   "outputs": [],
   "source": [
    "example_stat_checks.plot_cumulative_point_estimate()"
   ]
  },
  {
   "cell_type": "code",
   "execution_count": null,
   "id": "73ed835e",
   "metadata": {},
   "outputs": [],
   "source": [
    "example_stat_checks.plot_real_point_estimate_integrand()"
   ]
  },
  {
   "cell_type": "code",
   "execution_count": null,
   "id": "d7d2d9aa",
   "metadata": {},
   "outputs": [],
   "source": [
    "example_stat_checks.plot_imaginary_point_estimate_integrand()"
   ]
  },
  {
   "cell_type": "code",
   "execution_count": null,
   "id": "7fbcded8",
   "metadata": {},
   "outputs": [],
   "source": [
    "example_stat_checks.plot_sensitivity_integrand()"
   ]
  },
  {
   "cell_type": "code",
   "execution_count": null,
   "id": "fc3b897a",
   "metadata": {},
   "outputs": [],
   "source": [
    "example_stat_checks.plot_cumulative_sensitivity_integrand()"
   ]
  },
  {
   "cell_type": "code",
   "execution_count": null,
   "id": "322c7484",
   "metadata": {},
   "outputs": [],
   "source": [
    "example_stat_checks.plot_omega_sigma_in_time()"
   ]
  },
  {
   "cell_type": "code",
   "execution_count": null,
   "id": "7a31bdfd",
   "metadata": {},
   "outputs": [],
   "source": [
    "example_stat_checks.plot_hist_sigma_dsc()"
   ]
  },
  {
   "cell_type": "code",
   "execution_count": null,
   "id": "fe730f13",
   "metadata": {},
   "outputs": [],
   "source": [
    "example_stat_checks.plot_scatter_sigma_dsc()"
   ]
  },
  {
   "cell_type": "code",
   "execution_count": null,
   "id": "2a4c65dc",
   "metadata": {},
   "outputs": [],
   "source": [
    "example_stat_checks.plot_scatter_omega_sigma_dsc()"
   ]
  },
  {
   "cell_type": "code",
   "execution_count": null,
   "id": "ce19b086",
   "metadata": {},
   "outputs": [],
   "source": [
    "example_stat_checks.plot_hist_omega_pre_post_dsc()"
   ]
  },
  {
   "cell_type": "code",
   "execution_count": null,
   "id": "cc785f7e",
   "metadata": {},
   "outputs": [],
   "source": [
    "example_stat_checks.plot_KS_test()"
   ]
  },
  {
   "cell_type": "code",
   "execution_count": null,
   "id": "e42c5fb8",
   "metadata": {},
   "outputs": [],
   "source": [
    "example_stat_checks.plot_hist_scatter_omega_sigma()"
   ]
  },
  {
   "cell_type": "code",
   "execution_count": null,
   "id": "43c33ac1",
   "metadata": {},
   "outputs": [],
   "source": [
    "example_stat_checks.plot_hist_sigma_squared()"
   ]
  },
  {
   "cell_type": "code",
   "execution_count": null,
   "id": "6426ffe3",
   "metadata": {},
   "outputs": [],
   "source": [
    "example_stat_checks.plot_omega_time_fit()"
   ]
  },
  {
   "cell_type": "code",
   "execution_count": null,
   "id": "7c3bda07",
   "metadata": {},
   "outputs": [],
   "source": [
    "example_stat_checks.generate_all_plots()"
   ]
  },
  {
   "cell_type": "code",
   "execution_count": null,
   "id": "031b7dcf",
   "metadata": {},
   "outputs": [],
   "source": []
  }
 ],
 "metadata": {},
 "nbformat": 4,
 "nbformat_minor": 5
}