{
 "cells": [
  {
   "cell_type": "code",
   "execution_count": 1,
   "id": "3a58e7ad",
   "metadata": {},
   "outputs": [],
   "source": [
    "import numpy as np\n",
    "import gwpy\n",
    "import bilby\n",
    "from pygwb.detector import Interferometer\n",
    "from pygwb.network import Network"
   ]
  },
  {
   "cell_type": "markdown",
   "id": "46098d69",
   "metadata": {},
   "source": [
    "# Inject a power spectrum in randomised LIGO noise"
   ]
  },
  {
   "cell_type": "markdown",
   "id": "147e7807",
   "metadata": {},
   "source": [
    "### simulation parameters"
   ]
  },
  {
   "cell_type": "code",
   "execution_count": 2,
   "id": "1539ff23",
   "metadata": {},
   "outputs": [],
   "source": [
    "duration = 60\n",
    "# duration of each segment of data (s)\n",
    "N_segs = 10 \n",
    "# number of data segments to generate\n",
    "sampling_frequency = 1024\n",
    "# Hz"
   ]
  },
  {
   "cell_type": "markdown",
   "id": "a3043d41",
   "metadata": {},
   "source": [
    "## Injection of a broken power law "
   ]
  },
  {
   "cell_type": "markdown",
   "id": "a9f1e7cc",
   "metadata": {},
   "source": [
    "### The signal to inject: the simulator module takes a gwpy FrequencySeries as input. We start by building a custom input signal by defining an Intensity function. "
   ]
  },
  {
   "cell_type": "code",
   "execution_count": 3,
   "id": "929d539c",
   "metadata": {},
   "outputs": [],
   "source": [
    "frequencies_x = np.linspace(0, 1000, 10000)\n",
    "\n",
    "alpha1 = 6\n",
    "alpha2 = 0\n",
    "fref = 10\n",
    "omegaRef = 5.e-5\n",
    "\n",
    "def IntensityGW(freqs, omegaRef, alpha1, fref, alpha2 = 2/3):\n",
    "    ''' GW Intensity function from broken power law in OmegaGW '''\n",
    "    '''\n",
    "    \n",
    "    PARAMETERS\n",
    "    freqs: np.array\n",
    "        frequency array\n",
    "    fref: \n",
    "        reference frequency\n",
    "    omegaRef: \n",
    "        Value of OmegaGW at reference frequency\n",
    "    alpha1:\n",
    "        first spectral index\n",
    "    alpha2:\n",
    "        second spectral index\n",
    "        \n",
    "    RETURN\n",
    "    FrequencySeries\n",
    "    \n",
    "    '''\n",
    "    from pygwb.constants import H0\n",
    "    H_theor = (3 * H0.si.value ** 2) / (10 * np.pi ** 2)\n",
    "    \n",
    "    fknee = fref\n",
    "    \n",
    "    power = np.zeros_like(freqs)\n",
    "    \n",
    "    power[freqs<fknee] = H_theor * omegaRef * (freqs[freqs<fknee]) ** (alpha1 -3) * fref**(-alpha1)\n",
    "    power[freqs>fknee] = H_theor * omegaRef * (freqs[freqs>fknee]) ** (alpha2 - 3) * fref**(-alpha2)\n",
    "    power[freqs==fknee] = H_theor * omegaRef * (fknee) ** (alpha2 -3) * fref**(-alpha2)\n",
    "    \n",
    "    #power[freqs<10.]= omegaRef * (10. / fref) ** alpha1\n",
    "    power[0] = power[1]\n",
    "    \n",
    "    return gwpy.frequencyseries.FrequencySeries(power, frequencies=freqs)\n",
    "\n",
    "Intensity_GW_inject = IntensityGW(frequencies_x, omegaRef = omegaRef, alpha1 = alpha1, fref = fref)"
   ]
  },
  {
   "cell_type": "markdown",
   "id": "edce4cc7",
   "metadata": {},
   "source": [
    "### Initialise empty interferometers and set a noise PSD to use in the simulation"
   ]
  },
  {
   "cell_type": "code",
   "execution_count": 4,
   "id": "699c6570",
   "metadata": {},
   "outputs": [],
   "source": [
    "H1 = Interferometer.get_empty_interferometer(\"H1\")\n",
    "L1 = Interferometer.get_empty_interferometer(\"L1\")\n",
    "V1 = Interferometer.get_empty_interferometer(\"V1\")\n",
    "K = Interferometer.get_empty_interferometer(\"K1\")\n",
    "G = Interferometer.get_empty_interferometer(\"GEO600\")\n",
    "\n",
    "ifo_list = [H1, L1, V1, K, G]"
   ]
  },
  {
   "cell_type": "code",
   "execution_count": 5,
   "id": "2e54d3f3",
   "metadata": {},
   "outputs": [],
   "source": [
    "for ifo in ifo_list:\n",
    "    ifo.duration = duration\n",
    "    ifo.sampling_frequency = sampling_frequency\n",
    "    ifo.power_spectral_density = bilby.gw.detector.PowerSpectralDensity(ifo.frequency_array, np.nan_to_num(ifo.power_spectral_density_array, posinf=1.e-41))"
   ]
  },
  {
   "cell_type": "markdown",
   "id": "3a1f46ab",
   "metadata": {},
   "source": [
    "### Initialise a network with the interferometer list"
   ]
  },
  {
   "cell_type": "code",
   "execution_count": 6,
   "id": "9fd70ec3",
   "metadata": {},
   "outputs": [],
   "source": [
    "net_HLV = Network('HLV', ifo_list)"
   ]
  },
  {
   "cell_type": "markdown",
   "id": "f37baaa9",
   "metadata": {},
   "source": [
    "### Set the data in each interferometer -- this uses the simulator module"
   ]
  },
  {
   "cell_type": "code",
   "execution_count": null,
   "id": "14e05fcb",
   "metadata": {},
   "outputs": [
    {
     "name": "stderr",
     "output_type": "stream",
     "text": [
      "/home/arianna.renzini/PROJECTS/pygwb/pygwb/network.py:196: UserWarning: User did not specify a start time. Setting start time to zero.\n",
      "  warnings.warn(\n"
     ]
    }
   ],
   "source": [
    "net_HLV.set_interferometer_data_from_simulator(Intensity_GW_inject, N_segments=N_segs,  sampling_frequency=sampling_frequency)"
   ]
  },
  {
   "cell_type": "markdown",
   "id": "555a80d4",
   "metadata": {},
   "source": [
    "### Visualise a minute of data"
   ]
  },
  {
   "cell_type": "code",
   "execution_count": null,
   "id": "19810840",
   "metadata": {},
   "outputs": [],
   "source": [
    "crop_start_time = net_HLV.interferometers[0].strain_data.start_time\n",
    "crop_duration   = 60\n",
    "\n",
    "# Note: we need to grab the TimeSeries from the bilby interferometer, which requires converting it to a TimeSeries\n",
    "data_H_1min = net_HLV.interferometers[0].strain_data.to_gwpy_timeseries().crop(start = crop_start_time, end = crop_start_time + crop_duration)\n",
    "data_H_1min.plot()"
   ]
  },
  {
   "cell_type": "code",
   "execution_count": null,
   "id": "1748760c",
   "metadata": {},
   "outputs": [],
   "source": [
    "net_HLV.interferometers[1].strain_data.to_gwpy_timeseries().plot()"
   ]
  },
  {
   "cell_type": "markdown",
   "id": "fe889288",
   "metadata": {},
   "source": [
    "### Optional: one may save the data by calling save_interferometer_data_to_file and specifying the file format as an argument. This wraps gwpy.TimeSeries.write()"
   ]
  },
  {
   "cell_type": "code",
   "execution_count": null,
   "id": "f96e35ac",
   "metadata": {},
   "outputs": [],
   "source": [
    "# net.save_interferometer_data_to_file()"
   ]
  },
  {
   "cell_type": "markdown",
   "id": "3f9fda8a",
   "metadata": {},
   "source": [
    "### Visualize the data PSD, the injected curve and the original noise curve"
   ]
  },
  {
   "cell_type": "code",
   "execution_count": null,
   "id": "3439d9cf",
   "metadata": {},
   "outputs": [],
   "source": [
    "import matplotlib.pyplot as plt\n",
    "%matplotlib inline\n",
    "\n",
    "frequencies = data_H_1min.psd().frequencies.value\n",
    "\n",
    "mask = frequencies>5.\n",
    "\n",
    "ax, fig = plt.subplots(figsize = (20,8))\n",
    "plt.loglog(frequencies[mask], data_H_1min.psd().value[mask], label = 'data PSD')\n",
    "plt.loglog(frequencies[mask], IntensityGW(frequencies[mask],omegaRef = omegaRef, alpha1 = alpha1, fref = fref), linewidth = 3, label = 'injected power')\n",
    "plt.loglog(H1.power_spectral_density.frequency_array[H1.power_spectral_density.frequency_array>10], H1.power_spectral_density.psd_array[H1.power_spectral_density.frequency_array>10], linewidth = 3, color = 'red', label = 'noise PSD')\n",
    "plt.legend()\n",
    "plt.xlabel('frequencies (Hz)')\n",
    "plt.ylabel('PSD')"
   ]
  },
  {
   "cell_type": "code",
   "execution_count": null,
   "id": "4416a1eb",
   "metadata": {},
   "outputs": [],
   "source": []
  }
 ],
 "metadata": {
  "kernelspec": {
   "display_name": "pygwb",
   "language": "python",
   "name": "pygwb"
  },
  "language_info": {
   "codemirror_mode": {
    "name": "ipython",
    "version": 3
   },
   "file_extension": ".py",
   "mimetype": "text/x-python",
   "name": "python",
   "nbconvert_exporter": "python",
   "pygments_lexer": "ipython3",
   "version": "3.8.12"
  }
 },
 "nbformat": 4,
 "nbformat_minor": 5
}
