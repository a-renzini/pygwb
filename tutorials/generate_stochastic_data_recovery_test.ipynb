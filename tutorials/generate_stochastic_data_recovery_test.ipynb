{
 "cells": [
  {
   "cell_type": "code",
   "execution_count": null,
   "id": "578d3bd9",
   "metadata": {},
   "outputs": [],
   "source": [
    "import numpy as np\n",
    "import bilby\n",
    "import gwpy\n",
    "import sys\n",
    "sys.path.insert(0,'..')\n",
    "import pygwb.util\n",
    "from pygwb.simulator import Simulator\n",
    "from scipy import optimize"
   ]
  },
  {
   "cell_type": "markdown",
   "id": "d7182a2d",
   "metadata": {},
   "source": [
    "# Simple injection & recovery test with simulator module \n",
    "## see also generate_stochastic_background_in_network for details"
   ]
  },
  {
   "cell_type": "markdown",
   "id": "28b70d03",
   "metadata": {},
   "source": [
    "## set up of the simulation\n",
    "###  create spectrum to inject"
   ]
  },
  {
   "cell_type": "code",
   "execution_count": null,
   "id": "60bc8d60",
   "metadata": {},
   "outputs": [],
   "source": [
    "frequencies_x = np.linspace(0, 1000, 10000)\n",
    "\n",
    "alpha1 = 6\n",
    "alpha2 = 0\n",
    "fref = 10\n",
    "omegaRef = 5.e-5\n",
    "\n",
    "def IntensityGW(freqs, omegaRef, alpha1, fref, alpha2 = 2/3):\n",
    "    ''' GW Intensity function from broken power law in OmegaGW '''\n",
    "    '''\n",
    "    \n",
    "    PARAMETERS\n",
    "    freqs: np.array\n",
    "        frequency array\n",
    "    fref: \n",
    "        reference frequency\n",
    "    omegaRef: \n",
    "        Value of OmegaGW at reference frequency\n",
    "    alpha1:\n",
    "        first spectral index\n",
    "    alpha2:\n",
    "        second spectral index\n",
    "        \n",
    "    RETURN\n",
    "    FrequencySeries\n",
    "    \n",
    "    '''\n",
    "    from pygwb.constants import H0\n",
    "    H_theor = (3 * H0 ** 2) / (10 * np.pi ** 2)\n",
    "    \n",
    "    fknee = fref\n",
    "    \n",
    "    power = np.zeros_like(freqs)\n",
    "    \n",
    "    power[freqs<fknee] = H_theor * omegaRef * (freqs[freqs<fknee]) ** (alpha1 -3) * fref**(-alpha1)\n",
    "    power[freqs>fknee] = H_theor * omegaRef * (freqs[freqs>fknee]) ** (alpha2 - 3) * fref**(-alpha2)\n",
    "    power[freqs==fknee] = H_theor * omegaRef * (fknee) ** (alpha2 -3) * fref**(-alpha2)\n",
    "    \n",
    "    #power[freqs<10.]= omegaRef * (10. / fref) ** alpha1\n",
    "    power[0] = power[1]\n",
    "    \n",
    "    return gwpy.frequencyseries.FrequencySeries(power, frequencies=freqs)\n",
    "\n",
    "Intensity_GW_inject = IntensityGW(frequencies_x, omegaRef = omegaRef, alpha1 = alpha1, fref = fref)"
   ]
  },
  {
   "cell_type": "markdown",
   "id": "4c614470",
   "metadata": {},
   "source": [
    "### simulation parameters"
   ]
  },
  {
   "cell_type": "code",
   "execution_count": null,
   "id": "8688b913",
   "metadata": {},
   "outputs": [],
   "source": [
    "duration = 60\n",
    "# duration of each segment of data (s)\n",
    "N_segs = 5\n",
    "# number of data segments to generate\n",
    "sampling_frequency = 1024\n",
    "# Hz"
   ]
  },
  {
   "cell_type": "markdown",
   "id": "ed303c39",
   "metadata": {},
   "source": [
    "### set up interferometers"
   ]
  },
  {
   "cell_type": "code",
   "execution_count": null,
   "id": "85340e61",
   "metadata": {},
   "outputs": [],
   "source": [
    "ifo_H1 = bilby.gw.detector.get_empty_interferometer('H1')\n",
    "ifo_L1 = bilby.gw.detector.get_empty_interferometer('L1')\n",
    "\n",
    "ifo_list = [ifo_H1, ifo_L1]\n",
    "\n",
    "for ifo in ifo_list:\n",
    "    ifo.duration = duration\n",
    "    ifo.sampling_frequency = sampling_frequency\n",
    "    ifo.power_spectral_density = bilby.gw.detector.PowerSpectralDensity(ifo.frequency_array, np.nan_to_num(ifo.power_spectral_density_array, posinf=1.e-41))\n",
    "    \n",
    "simulator_1 = Simulator(ifo_list, Intensity_GW_inject, N_segs, duration = duration, sampling_frequency = sampling_frequency)"
   ]
  },
  {
   "cell_type": "markdown",
   "id": "e54e0830",
   "metadata": {},
   "source": [
    "## run the recovery test"
   ]
  },
  {
   "cell_type": "code",
   "execution_count": null,
   "id": "daf24350",
   "metadata": {},
   "outputs": [],
   "source": [
    "#Function to fit the data to\n",
    "def func(x,a,b):\n",
    "    return 10**(a*np.log10(x)+b)"
   ]
  },
  {
   "cell_type": "code",
   "execution_count": null,
   "id": "d9f4bb4e",
   "metadata": {},
   "outputs": [],
   "source": [
    "Ntests=400\n",
    "\n",
    "psd_array_H1=np.zeros(Ntests, dtype=gwpy.frequencyseries.FrequencySeries)\n",
    "# psd_array_L1=np.zeros(Ntests)\n",
    "\n",
    "# spectral_array=np.zeros(Ntests)\n",
    "# intercept_array=np.zeros(Ntests)\n",
    "# mask1=(frequencies>20)&(frequencies<200)\n",
    "\n",
    "for ii in range(Ntests):\n",
    "    simulator_1 = Simulator(ifo_list, Intensity_GW_inject, N_segments = N_segs, duration = duration, sampling_frequency = sampling_frequency)\n",
    "    dataset = simulator_1.generate_data()\n",
    "    data_H1, data_L1 = dataset\n",
    "    \n",
    "    psd_array_H1[ii]=data_H1.psd()"
   ]
  },
  {
   "cell_type": "code",
   "execution_count": null,
   "id": "e2c323a5",
   "metadata": {},
   "outputs": [],
   "source": [
    "freqs_1=psd_array_H1[0].frequencies.value\n",
    "mask_1=(freqs_1>25)&(freqs_1<100)\n",
    "\n",
    "psd_average=np.zeros(psd_array_H1[0].frequencies.value.shape)\n",
    "# psd_array_L1=np.zeros(Ntests)\n",
    "\n",
    "# spectral_array=np.zeros(Ntests)\n",
    "# intercept_array=np.zeros(Ntests)\n",
    "# mask1=(frequencies>20)&(frequencies<200)\n",
    "\n",
    "for ii in range(Ntests):\n",
    "    psd_average+=1/Ntests*psd_array_H1[ii].value\n",
    "\n",
    "popt,pcov=optimize.curve_fit(func,freqs_1[mask_1],psd_average[mask_1])\n",
    "\n",
    "spectral_avg=popt[0]\n",
    "intercept_avg=popt[1]"
   ]
  },
  {
   "cell_type": "code",
   "execution_count": null,
   "id": "010c4202",
   "metadata": {},
   "outputs": [],
   "source": [
    "from pygwb.constants import H0\n",
    "H_theor = (3 * H0 ** 2) / (10 * np.pi ** 2)\n",
    "\n",
    "omegaRef_avg=func(fref,spectral_avg,intercept_avg)/H_theor*fref**3\n",
    "\n",
    "print(f\"fit spectral index from PSD average: {spectral_avg}\")\n",
    "print(f\"fit Omega(fref) from PSD average: {omegaRef_avg}\")\n",
    "print(f\"% difference between spectral indices: {100*np.abs((spectral_avg-(2/3-3))/(2/3-3))}\")\n",
    "print(f\"% difference between Omega(fref): {100*np.abs(omegaRef-omegaRef_avg)/omegaRef}\")"
   ]
  },
  {
   "cell_type": "code",
   "execution_count": null,
   "id": "48750d11",
   "metadata": {},
   "outputs": [],
   "source": [
    "mask_2 = (freqs_1>10)&(freqs_1<freqs_1[-1])\n",
    "mask_3 = (Intensity_GW_inject.frequencies.value>10)&(Intensity_GW_inject.frequencies.value<freqs_1[-1]) \n",
    "mask_4 = (ifo_H1.power_spectral_density.frequency_array>10)&(ifo_H1.power_spectral_density.frequency_array<freqs_1[-1]) \n",
    "\n",
    "import matplotlib.pyplot as plt\n",
    "%matplotlib inline\n",
    "\n",
    "plt.rcParams.update({'font.size': 22})\n",
    "ax, fig = plt.subplots(figsize = (20,10))\n",
    "plt.loglog(ifo_H1.power_spectral_density.frequency_array[mask_4], ifo_H1.power_spectral_density.psd_array[mask_4], linewidth = 3, color = 'red', label = 'noise PSD')\n",
    "plt.loglog(freqs_1[mask_2], psd_average[mask_2], linewidth = 3, color = 'blue', label = 'average PSD')\n",
    "plt.loglog(Intensity_GW_inject.frequencies.value[mask_3], Intensity_GW_inject.value[mask_3], linewidth = 3, label = 'injected power',color='orange')\n",
    "plt.loglog(freqs_1[mask_1], func(freqs_1[mask_1],spectral_avg,intercept_avg), linewidth = 3, color = 'magenta', label = 'average fit')\n",
    "plt.legend()\n",
    "plt.xlabel('frequencies (Hz)')\n",
    "plt.ylabel('PSD')"
   ]
  },
  {
   "cell_type": "code",
   "execution_count": null,
   "id": "a906c795",
   "metadata": {},
   "outputs": [],
   "source": []
  },
  {
   "cell_type": "code",
   "execution_count": null,
   "id": "2dcf0930",
   "metadata": {},
   "outputs": [],
   "source": []
  }
 ],
 "metadata": {},
 "nbformat": 4,
 "nbformat_minor": 5
}