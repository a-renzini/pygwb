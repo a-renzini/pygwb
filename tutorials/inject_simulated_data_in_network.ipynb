{
 "cells": [
  {
   "cell_type": "code",
   "execution_count": null,
   "id": "3a58e7ad",
   "metadata": {},
   "outputs": [],
   "source": [
    "import numpy as np\n",
    "import gwpy\n",
    "import bilby\n",
    "from pygwb.detector import Interferometer\n",
    "from pygwb.network import Network\n",
    "from pygwb.parameters import Parameters\n",
    "from pygwb.baseline import Baseline\n",
    "import matplotlib.pyplot as plt\n",
    "import gwpy.timeseries\n",
    "%matplotlib inline"
   ]
  },
  {
   "cell_type": "markdown",
   "id": "46098d69",
   "metadata": {},
   "source": [
    "# Inject a power spectrum into real data"
   ]
  },
  {
   "cell_type": "markdown",
   "id": "a9f1e7cc",
   "metadata": {},
   "source": [
    "### The signal to inject: the simulator module takes a gwpy FrequencySeries as input. We start by building a custom input signal by defining an Intensity function. "
   ]
  },
  {
   "cell_type": "code",
   "execution_count": null,
   "id": "929d539c",
   "metadata": {},
   "outputs": [],
   "source": [
    "frequencies_x = np.linspace(0, 1000, 10000)\n",
    "\n",
    "alpha1 = 6\n",
    "alpha2 = 2/3\n",
    "fref = 20\n",
    "omegaRef = 1.e-3\n",
    "\n",
    "def IntensityGW(freqs, omegaRef, alpha1, fref, alpha2 = 2/3):\n",
    "    ''' GW Intensity function from broken power law in OmegaGW '''\n",
    "    '''\n",
    "    \n",
    "    PARAMETERS\n",
    "    freqs: np.array\n",
    "        frequency array\n",
    "    fref: \n",
    "        reference frequency\n",
    "    omegaRef: \n",
    "        Value of OmegaGW at reference frequency\n",
    "    alpha1:\n",
    "        first spectral index\n",
    "    alpha2:\n",
    "        second spectral index\n",
    "        \n",
    "    RETURN\n",
    "    FrequencySeries\n",
    "    \n",
    "    '''\n",
    "    from pygwb.constants import H0\n",
    "    H_theor = (3 * H0 ** 2) / (10 * np.pi ** 2)\n",
    "    \n",
    "    fknee = fref\n",
    "    \n",
    "    power = np.zeros_like(freqs)\n",
    "    \n",
    "    power[freqs<fknee] = H_theor * omegaRef * (freqs[freqs<fknee]) ** (alpha1 -3) * fref**(-alpha1)\n",
    "    power[freqs>fknee] = H_theor * omegaRef * (freqs[freqs>fknee]) ** (alpha2 - 3) * fref**(-alpha2)\n",
    "    power[freqs==fknee] = H_theor * omegaRef * (fknee) ** (alpha2 -3) * fref**(-alpha2)\n",
    "    \n",
    "    #power[freqs<10.]= omegaRef * (10. / fref) ** alpha1\n",
    "    power[0] = power[1]\n",
    "    \n",
    "    return gwpy.frequencyseries.FrequencySeries(power, frequencies=freqs)\n",
    "\n",
    "Intensity_GW_inject = IntensityGW(frequencies_x, omegaRef = omegaRef, alpha1 = alpha1, fref = fref)"
   ]
  },
  {
   "cell_type": "markdown",
   "id": "edce4cc7",
   "metadata": {},
   "source": [
    "## Create a network of two interferometers"
   ]
  },
  {
   "cell_type": "markdown",
   "id": "71b4ba94-684c-4a72-b9ef-65131f04e098",
   "metadata": {},
   "source": [
    "### Using the parameters module, the parameters are loaded up, including the GPS times used to retrieve real data"
   ]
  },
  {
   "cell_type": "code",
   "execution_count": null,
   "id": "c6610a6c-f17d-42ce-9ef1-2e82587a3ab1",
   "metadata": {},
   "outputs": [],
   "source": [
    "params = Parameters()\n",
    "params.update_from_file(path=\"../test/test_data/parameters_baseline_test.ini\")\n",
    "params.t0=1247644204\n",
    "params.tf=1247645100\n",
    "params.segment_duration=128"
   ]
  },
  {
   "cell_type": "code",
   "execution_count": null,
   "id": "699c6570",
   "metadata": {},
   "outputs": [],
   "source": [
    "H1 = Interferometer.from_parameters(params.interferometer_list[0], params)\n",
    "L1 = Interferometer.from_parameters(params.interferometer_list[1], params)\n",
    "\n",
    "ifo_list = [H1, L1]"
   ]
  },
  {
   "cell_type": "code",
   "execution_count": null,
   "id": "2e54d3f3",
   "metadata": {},
   "outputs": [],
   "source": [
    "for ifo in ifo_list:\n",
    "    ifo.sampling_frequency = params.new_sample_rate\n",
    "    ifo.set_strain_data_from_gwpy_timeseries(gwpy.timeseries.TimeSeries(data=ifo.timeseries.value, times=ifo.timeseries.times))\n",
    "    ifo.duration=params.segment_duration"
   ]
  },
  {
   "cell_type": "markdown",
   "id": "9cb7d0d5-cccf-4912-99eb-cb0788128eed",
   "metadata": {},
   "source": [
    "### Create baseline and network"
   ]
  },
  {
   "cell_type": "code",
   "execution_count": null,
   "id": "05c59fb9-9592-4f64-bc04-8197a08bd2dc",
   "metadata": {},
   "outputs": [],
   "source": [
    "HL_baseline = Baseline.from_parameters(H1, L1, params)"
   ]
  },
  {
   "cell_type": "code",
   "execution_count": null,
   "id": "9fd70ec3",
   "metadata": {},
   "outputs": [],
   "source": [
    "net_HL = Network.from_baselines(\"HL_network\", [HL_baseline])"
   ]
  },
  {
   "cell_type": "markdown",
   "id": "3a1f46ab",
   "metadata": {},
   "source": [
    "### Visualize a minute of data"
   ]
  },
  {
   "cell_type": "code",
   "execution_count": null,
   "id": "9714a0f8-b9c3-4be4-bfd6-5252e9830bd7",
   "metadata": {},
   "outputs": [],
   "source": [
    "crop_start_time = net_HL.interferometers[0].strain_data.start_time\n",
    "crop_duration   = 60\n",
    "\n",
    "# Note: we need to grab the TimeSeries from the bilby interferometer, which requires converting it to a TimeSeries\n",
    "data_H_1min_pre_injection = net_HL.interferometers[0].strain_data.to_gwpy_timeseries().crop(start = crop_start_time, end = crop_start_time + crop_duration)\n",
    "data_H_1min_pre_injection.plot()"
   ]
  },
  {
   "cell_type": "code",
   "execution_count": null,
   "id": "ca120655-d7ec-4f88-9e31-ed62fdfb3287",
   "metadata": {},
   "outputs": [],
   "source": [
    "frequencies = data_H_1min_pre_injection.psd().frequencies.value\n",
    "\n",
    "mask = frequencies>5.\n",
    "\n",
    "ax, fig = plt.subplots(figsize = (20,8))\n",
    "plt.loglog(frequencies[mask], data_H_1min_pre_injection.psd().value[mask], label = 'data PSD')\n",
    "plt.legend()\n",
    "plt.xlabel('frequencies (Hz)')\n",
    "plt.ylabel('PSD')"
   ]
  },
  {
   "cell_type": "markdown",
   "id": "f37baaa9",
   "metadata": {},
   "source": [
    "## Inject simulated data on top of the ereal data -- this uses the simulator module"
   ]
  },
  {
   "cell_type": "code",
   "execution_count": null,
   "id": "14e05fcb",
   "metadata": {},
   "outputs": [],
   "source": [
    "net_HL.set_interferometer_data_from_simulator(Intensity_GW_inject, N_segments=7,  sampling_frequency=H1.sampling_frequency, inject_into_data_flag=True)"
   ]
  },
  {
   "cell_type": "markdown",
   "id": "555a80d4",
   "metadata": {},
   "source": [
    "### Visualise a minute of data"
   ]
  },
  {
   "cell_type": "code",
   "execution_count": null,
   "id": "19810840",
   "metadata": {},
   "outputs": [],
   "source": [
    "crop_start_time = net_HL.interferometers[0].strain_data.start_time\n",
    "crop_duration   = 60\n",
    "\n",
    "# Note: we need to grab the TimeSeries from the bilby interferometer, which requires converting it to a TimeSeries\n",
    "data_H_1min_post_injection = net_HL.interferometers[0].strain_data.to_gwpy_timeseries().crop(start = crop_start_time, end = crop_start_time + crop_duration)\n",
    "data_H_1min_post_injection.plot()"
   ]
  },
  {
   "cell_type": "markdown",
   "id": "fe889288",
   "metadata": {},
   "source": [
    "### Optional: one may save the data by calling save_interferometer_data_to_file and specifying the file format as an argument. This wraps gwpy.TimeSeries.write()"
   ]
  },
  {
   "cell_type": "code",
   "execution_count": null,
   "id": "f96e35ac",
   "metadata": {},
   "outputs": [],
   "source": [
    "# net_HL.save_interferometer_data_to_file()"
   ]
  },
  {
   "cell_type": "markdown",
   "id": "3f9fda8a",
   "metadata": {},
   "source": [
    "### Visualize the data PSD, both before and after the injection on top of real data"
   ]
  },
  {
   "cell_type": "code",
   "execution_count": null,
   "id": "3439d9cf",
   "metadata": {},
   "outputs": [],
   "source": [
    "frequencies = data_H_1min_post_injection.psd().frequencies.value\n",
    "\n",
    "mask = frequencies>5.\n",
    "\n",
    "ax, fig = plt.subplots(figsize = (20,8))\n",
    "plt.loglog(frequencies[mask], data_H_1min_post_injection.psd().value[mask], label = 'data PSD - post injection')\n",
    "plt.loglog(frequencies[mask], data_H_1min_pre_injection.psd().value[mask], label = 'data PSD - pre injection')\n",
    "\n",
    "\n",
    "plt.loglog(frequencies[mask], IntensityGW(frequencies[mask],omegaRef = omegaRef, alpha1 = alpha1, fref = fref), linewidth = 3, label = 'injected power')\n",
    "plt.legend()\n",
    "plt.xlim(20,frequencies[-1])\n",
    "plt.xlabel('frequencies (Hz)')\n",
    "plt.ylabel('PSD')"
   ]
  }
 ],
 "metadata": {},
 "nbformat": 4,
 "nbformat_minor": 5
}