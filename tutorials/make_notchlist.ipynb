{
 "cells": [
  {
   "cell_type": "markdown",
   "id": "5e7eb16f-30f9-4855-8d4b-4369afdcd77f",
   "metadata": {},
   "source": [
    "# Generate a notch list"
   ]
  },
  {
   "cell_type": "markdown",
   "id": "fd67819d-1b62-4a08-8778-7a4701011584",
   "metadata": {},
   "source": [
    "In this tutorial we will create a StochNotchList object that can be used in pyGWB to apply a notch_mask to your analysis.\n",
    "\n",
    "The notch-module assumes one already knows which lines should be notched. If this is not the case one should first use other tools to understand which frequencies shouldn't be analysed.\n",
    "\n",
    "In this tutorial we will assume we have three different detectors: H1, L1 and V1. We will create three different notch lists, one for each baseline HL, HV and LV. We assume the following lines are present:\n",
    "- H1: callibration line from 16.6Hz to 17.6Hz\n",
    "- L1: callibration line from 434.4 to 435.4\n",
    "- V1: callibration line from 16.9Hz to 17.1Hz\n",
    "- H1, L1: powerlines at 60Hz and harmonics\n",
    "- V1: powerlines at 50Hz and harmonics\n",
    "- all baselines : pulsar injections (see data file in input) \n",
    "- HV-baseline: a comb of lines at 1Hz and multiples (up to 500Hz), width of 0.01 Hz.\n",
    "\n",
    "Note: We will only consider lines up to 2024Hz.\n",
    "\n",
    "\n",
    "\n",
    "\n",
    "<b>\n",
    "    <center>\n",
    "        ### DISCLAIMER ###\n",
    "    \n",
    "        The examples used here are for illustrative purpose and shouldn't be considered as a realy life scenario, although realistic examples are given.\n",
    "</b>"
   ]
  },
  {
   "cell_type": "markdown",
   "id": "00d43f1a-853e-453b-8e39-73c60207579a",
   "metadata": {},
   "source": [
    "## Background on different lines that should be notched"
   ]
  },
  {
   "cell_type": "markdown",
   "id": "65565974-8954-494e-8178-2f55846b8490",
   "metadata": {},
   "source": [
    "### Calibration lines"
   ]
  },
  {
   "cell_type": "markdown",
   "id": "e89b47a3-0204-4830-9895-bdab5ce7b9ec",
   "metadata": {},
   "source": [
    "At specific frequencies lines are insereted by moving the mirrors to use this information to calibrate the data.\n",
    "\n",
    "Calibration lines are detector specific and the calibration lines of each detector should be notched in the baselines containing that detector."
   ]
  },
  {
   "cell_type": "markdown",
   "id": "e5d30b2a-cb1c-476b-a600-e640c0d1294e",
   "metadata": {},
   "source": [
    "### Power lines"
   ]
  },
  {
   "cell_type": "markdown",
   "id": "75900825-afe6-4ffa-bccb-3572e326a1e4",
   "metadata": {},
   "source": [
    "Typically there are strong lines present at the frequency of the power mains.\n",
    "\n",
    "Power mains lines are at 60Hz and Harmonics for the US power grid (LIGO) and at 50Hz and harmonics for the Italian power grid (Virgo). They should be notched in the baselines containing that detector."
   ]
  },
  {
   "cell_type": "markdown",
   "id": "f983a64e-8ec0-40f2-af52-7d670ed7566e",
   "metadata": {},
   "source": [
    "### Violin modes"
   ]
  },
  {
   "cell_type": "markdown",
   "id": "92682078-021c-4875-9141-304752a43b5e",
   "metadata": {},
   "source": [
    "Violin modes are the thermally excited resonances of the mirror suspensions.\n",
    "\n",
    "Calibration lines are detector specific and the violin modes of each detector should be notched in the baselines containing that detector."
   ]
  },
  {
   "cell_type": "markdown",
   "id": "143fb580-a2bc-41a5-bc3a-4ac18c1256ac",
   "metadata": {},
   "source": [
    "### 'Pulsar injections'"
   ]
  },
  {
   "cell_type": "markdown",
   "id": "c4cf1169-7be4-472c-96bb-ad36d3790c65",
   "metadata": {},
   "source": [
    "This are narrowband signals injected to validate piplines searching for continous waves from e.g. pulsars.\n",
    "\n",
    "The injections are the same in the different detectors and should be notched."
   ]
  },
  {
   "cell_type": "markdown",
   "id": "d444ea97-89af-4e3e-9f3a-0aee7161c025",
   "metadata": {},
   "source": [
    "### Environmental/instrumental lines and baseline specific lines"
   ]
  },
  {
   "cell_type": "markdown",
   "id": "de7893e8-0992-4974-b894-0a04ad9d466f",
   "metadata": {},
   "source": [
    "Wheareas all the previous classes of lines are by default known, there are many lines caused by the local environment and /or instruments, such as a 1Hz comb due to gps synchronistation.\n",
    "\n",
    "Environmental/instrumental lines are typically only notched in stochastic searches when they show up coherently in a time-shifted or non time-shifted analysis, and their source is identified to be of environmental/instrumental origin. In that scenario the line is notched for the baseline that is affected. If all (un)known experimental/instrumental for each detector separate are subtracted this would lead to a significant loss of frequencies to analyse, whereas they don't affect the search for a gravitational wave background since they aren't coherent between the different detectors."
   ]
  },
  {
   "cell_type": "markdown",
   "id": "7c150bee-eb20-4c88-8903-a2ba07fa460e",
   "metadata": {},
   "source": [
    "## Creation of an example notch list"
   ]
  },
  {
   "cell_type": "code",
   "execution_count": null,
   "id": "fcab04e6-d059-4165-a3d3-208720e065f0",
   "metadata": {},
   "outputs": [],
   "source": [
    "import numpy as np \n",
    "from pygwb import notch\n",
    "\n",
    "import matplotlib.pyplot as plt\n",
    "from scipy.interpolate import interp1d"
   ]
  },
  {
   "cell_type": "code",
   "execution_count": null,
   "id": "c7601ff5-33cc-4217-8d1c-41280341695a",
   "metadata": {},
   "outputs": [],
   "source": [
    "def calibration_lines(det):\n",
    "    notches = notch.StochNotchList([])\n",
    "    if det == \"H1\":\n",
    "        notches.append(notch.StochNotch(16.6, 17.6, \"H1 calibration line\"))\n",
    "    if det == \"L1\":\n",
    "        notches.append(notch.StochNotch(434.4, 435.4, \"L1 calibration line\"))\n",
    "    if det == \"V1\":\n",
    "        notches.append(notch.StochNotch(16.9, 17.1, \"V1 calibration line\"))\n",
    "    return notches"
   ]
  },
  {
   "cell_type": "code",
   "execution_count": null,
   "id": "5e4ff306-ec95-4a0d-9faa-48bd0fc0d8c5",
   "metadata": {},
   "outputs": [],
   "source": [
    "noise_power_lines_60 = notch.power_lines(nharmonics=np.ceil(2024./60.))\n",
    "noise_power_lines_50 = notch.power_lines(fundamental=50, nharmonics=np.ceil(2024./50.))\n",
    "noise_calibration_lines_H1 = calibration_lines(det=\"H1\")\n",
    "noise_calibration_lines_L1 = calibration_lines(det=\"L1\")\n",
    "noise_calibration_lines_V1 = calibration_lines(det=\"V1\")\n",
    "noise_pulsar_injections = notch.pulsar_injections(\"input/Toy_example_pulsars.dat\", t_start=1238112018, t_end=1269363618)\n",
    "\n",
    "\n",
    "noise_lines_HL = notch.StochNotchList([])\n",
    "noise_lines_HL.extend(noise_power_lines_60)\n",
    "noise_lines_HL.extend(noise_calibration_lines_H1)\n",
    "noise_lines_HL.extend(noise_calibration_lines_L1)\n",
    "noise_lines_HL.extend(noise_pulsar_injections)\n",
    "noise_lines_HL.save_to_txt('output/Toy_example_HL_notchlist.txt')\n",
    "\n",
    "noise_lines_HV = notch.StochNotchList([])\n",
    "noise_lines_HV.extend(noise_power_lines_60)\n",
    "noise_lines_HV.extend(noise_power_lines_50)\n",
    "noise_lines_HV.extend(noise_calibration_lines_H1)\n",
    "noise_lines_HV.extend(noise_calibration_lines_V1)\n",
    "noise_lines_HV.extend(noise_pulsar_injections)\n",
    "noise_lines_HV.extend(notch.comb(1, 1, 500, 0.01))\n",
    "noise_lines_HV.save_to_txt('output/Toy_example_HV_notchlist.txt')\n",
    "\n",
    "\n",
    "noise_lines_LV = notch.StochNotchList([])\n",
    "noise_lines_LV.extend(noise_power_lines_60)\n",
    "noise_lines_LV.extend(noise_power_lines_50)\n",
    "noise_lines_LV.extend(noise_calibration_lines_L1)\n",
    "noise_lines_LV.extend(noise_calibration_lines_V1)\n",
    "noise_lines_LV.extend(noise_pulsar_injections)\n",
    "noise_lines_LV.save_to_txt('output/Toy_example_LV_notchlist.txt')\n"
   ]
  },
  {
   "cell_type": "markdown",
   "id": "5a7e31a7-b0b3-4ae3-a09d-79bb62df7552",
   "metadata": {},
   "source": [
    "With the code above you have created three different notch lists. You have also written their output to a txt file so you can use them at a later time.\n",
    "In the next step we will use these created notch lists and show how you can apply them in an analysis."
   ]
  },
  {
   "cell_type": "markdown",
   "id": "c6c2a526-318d-4f73-acab-8cbf7817679c",
   "metadata": {},
   "source": [
    "## Applying a notch list"
   ]
  },
  {
   "cell_type": "markdown",
   "id": "c0bcd679-d1f7-4304-ab5f-9162732359a0",
   "metadata": {},
   "source": [
    "Here we will only use the HL baseline as an example how one can apply a notch list to a (fake) dataset.\n",
    "Although we can just use the notchlist defined earlier we will read in the notchlist from its text-file to demonstrate this functionality."
   ]
  },
  {
   "cell_type": "code",
   "execution_count": null,
   "id": "dcbf8273-f92e-4e8a-8e6f-e52b87e3977d",
   "metadata": {},
   "outputs": [],
   "source": [
    "HL_notch_list = notch.StochNotchList([])\n",
    "HL_notch_list = HL_notch_list.load_from_file('output/Toy_example_HL_notchlist.txt')"
   ]
  },
  {
   "cell_type": "markdown",
   "id": "fac77646-ec79-4e7f-bffd-25a73ee6274b",
   "metadata": {},
   "source": [
    "We will use the aLIGO design sensitivity curve as our data, which can be downloaded from here: https://dcc.ligo.org/LIGO-T1800044/public\n",
    "The file included in the 'Input' directory is the fifth version (v5).\n",
    "\n",
    "Afterwards we will choose to only perfrom our analysis in teh frequency region from 20Hz to 1012Hz with a 1/32Hz (0.03125Hz) resolution.\n",
    "Note: we strongly advice to always use powers of two as bin width, otherwise your frequencies might not be represented exactely do to non-exact representation in binary."
   ]
  },
  {
   "cell_type": "code",
   "execution_count": null,
   "id": "a12255e4-746c-4793-a8a1-0b740affe940",
   "metadata": {},
   "outputs": [],
   "source": [
    "f = np.arange(20, 1012, 0.03125)\n",
    "f2,hf2 = np.loadtxt('input/aLIGOdesign.txt',usecols=(0,1),unpack=True)\n",
    "hf = np.interp(f, f2, hf2)[:np.size(f)]"
   ]
  },
  {
   "cell_type": "code",
   "execution_count": null,
   "id": "10ad6739-7650-47a8-b31d-ef669fd9c503",
   "metadata": {},
   "outputs": [],
   "source": [
    "HL_notch_mask = HL_notch_list.get_notch_mask(f)\n",
    "hf_notched = hf * HL_notch_mask"
   ]
  },
  {
   "cell_type": "code",
   "execution_count": null,
   "id": "0ebfcd03-ee74-4820-a773-b5ea1f9eb7b5",
   "metadata": {},
   "outputs": [],
   "source": [
    "fig, axs = plt.subplots(1,1,figsize=(14,8))\n",
    "axs.plot(f,hf,label='aLIGO design sensetivity', linewidth = 2)\n",
    "axs.plot(f,0.8*hf_notched,label='80% aLIGO design sensetivity - notched', linewidth = 2)\n",
    "plt.ylabel('h(t)',fontsize=18)\n",
    "plt.xlabel('Frequency [Hz]',fontsize=18) \n",
    "axs.set_xscale('log')\n",
    "axs.set_yscale('log')\n",
    "axs.set_xlim(20,1012)\n",
    "axs.set_ylim(1e-24,1e-22)\n",
    "fig.legend(fontsize=18)\n",
    "plt.grid(True, which=\"both\", ls=\"-\")\n",
    "fig.tight_layout()"
   ]
  },
  {
   "cell_type": "code",
   "execution_count": null,
   "id": "c68ea290-39c7-4ff2-a442-a9d29764bef5",
   "metadata": {},
   "outputs": [],
   "source": [
    "HL_notch_list.save_notch_mask(f,'./output/notch_mask_Toy_example_HL.txt')"
   ]
  }
 ],
 "metadata": {},
 "nbformat": 4,
 "nbformat_minor": 5
}
