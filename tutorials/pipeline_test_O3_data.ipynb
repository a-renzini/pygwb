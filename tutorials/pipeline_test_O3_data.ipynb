{
 "cells": [
  {
   "cell_type": "code",
   "execution_count": 1,
   "metadata": {
    "Collapsed": "false"
   },
   "outputs": [],
   "source": [
    "import os\n",
    "import sys\n",
    "import numpy as np\n",
    "module_path = os.path.abspath(os.path.join('..'))\n",
    "if module_path not in sys.path:\n",
    "    sys.path.append(module_path)\n",
    "printint = np.vectorize(np.int)\n",
    "import matplotlib.pyplot as plt\n",
    "%matplotlib inline\n",
    "%load_ext autoreload\n",
    "%autoreload 2"
   ]
  },
  {
   "cell_type": "code",
   "execution_count": 2,
   "metadata": {
    "Collapsed": "false"
   },
   "outputs": [],
   "source": [
    "from pygwb.detector import Interferometer\n",
    "from pygwb import network"
   ]
  },
  {
   "cell_type": "markdown",
   "metadata": {
    "Collapsed": "false"
   },
   "source": [
    "# Analysis parameters"
   ]
  },
  {
   "cell_type": "code",
   "execution_count": 3,
   "metadata": {
    "Collapsed": "false"
   },
   "outputs": [],
   "source": [
    "'''\n",
    "Analysis parameters\n",
    "this will become an ini file to pass to an argparser\n",
    "'''\n",
    "t0 = 1247644138 # start GPS time\n",
    "tf = 1247645038 # end GPS time\n",
    "data_type='public' # private -> running on LIGO data grid\n",
    "channel_suffix = 'GWOSC-16KHZ_R1_STRAIN' # detector name will be added later\n",
    "new_sample_rate = 4096 # sampled rate after resampling\n",
    "cutoff_frequency = 11 # high pass filter cutoff frequency\n",
    "segment_duration = 192 # also fftlength in pre-processing\n",
    "number_cropped_seconds = 2 # no. of secs to crop after highpass and resampling (default = 2 sec)\n",
    "window_downsampling = \"hamming\" # filter used for downsampling (default = 'hamming')\n",
    "ftype = \"fir\" # filter type used for downsampling\n",
    "window_fftgram = \"hann\" # window used for fft (used CSD and PSD estimation)\n",
    "overlap = segment_duration/2 # overlapping between segments\n",
    "frequency_resolution = 1.0/32 # final frequency resolution of CSD and PSD \n",
    "polarization = 'tensor' # for regular analysis \n",
    "alpha = 0 # power law index\n",
    "fref = 25 # Hz\n",
    "flow = 20 # Hz\n",
    "fhigh = 1726 # Hz\n",
    "coarse_grain = 0  # 0 - pwelch PSD estimate; 1 - corase-grain PSD estimate \n",
    "if coarse_grain:\n",
    "    fft_length = segment_duration\n",
    "else:\n",
    "    fft_length = int(1/frequency_resolution)"
   ]
  },
  {
   "cell_type": "markdown",
   "metadata": {},
   "source": [
    "# Create IFO objects"
   ]
  },
  {
   "cell_type": "code",
   "execution_count": 4,
   "metadata": {},
   "outputs": [],
   "source": [
    "import bilby"
   ]
  },
  {
   "cell_type": "code",
   "execution_count": 5,
   "metadata": {},
   "outputs": [],
   "source": [
    "ifo_H1 = Interferometer.get_empty_interferometer('H1')\n",
    "ifo_L1 = Interferometer.get_empty_interferometer('L1')"
   ]
  },
  {
   "cell_type": "markdown",
   "metadata": {
    "Collapsed": "false"
   },
   "source": [
    "# Get data and pre-process data"
   ]
  },
  {
   "cell_type": "code",
   "execution_count": 6,
   "metadata": {
    "Collapsed": "false"
   },
   "outputs": [],
   "source": [
    "from pygwb import pre_processing"
   ]
  },
  {
   "cell_type": "code",
   "execution_count": 7,
   "metadata": {
    "Collapsed": "false"
   },
   "outputs": [],
   "source": [
    "ifo_H1.set_pre_processed_timeseries_from_channel_name(\n",
    "    ifo_H1.name,\n",
    "    t0,\n",
    "    tf,\n",
    "    data_type,\n",
    "    ifo_H1.name+':'+channel_suffix,\n",
    "    new_sample_rate,\n",
    "    cutoff_frequency,\n",
    "    segment_duration,\n",
    "    number_cropped_seconds=number_cropped_seconds,\n",
    "    window_downsampling=window_downsampling,\n",
    "    ftype=ftype,\n",
    ")\n",
    "\n",
    "ifo_L1.set_pre_processed_timeseries_from_channel_name(\n",
    "    ifo_L1.name,\n",
    "    t0,\n",
    "    tf,\n",
    "    data_type,\n",
    "    ifo_L1.name+':'+channel_suffix,\n",
    "    new_sample_rate,\n",
    "    cutoff_frequency,\n",
    "    segment_duration,\n",
    "    number_cropped_seconds=number_cropped_seconds,\n",
    "    window_downsampling=window_downsampling,\n",
    "    ftype=ftype,\n",
    ")"
   ]
  },
  {
   "cell_type": "markdown",
   "metadata": {},
   "source": [
    "# initialise a baseline with the new ifos"
   ]
  },
  {
   "cell_type": "code",
   "execution_count": 8,
   "metadata": {},
   "outputs": [],
   "source": [
    "from pygwb.baseline import Baseline"
   ]
  },
  {
   "cell_type": "code",
   "execution_count": 9,
   "metadata": {},
   "outputs": [
    {
     "name": "stderr",
     "output_type": "stream",
     "text": [
      "/home/arianna.renzini/.conda/envs/AIRlab/lib/python3.8/site-packages/pygwb/baseline.py:171: UserWarning: baseline frequencies have not been set.\n",
      "  warnings.warn(\"baseline frequencies have not been set.\")\n"
     ]
    }
   ],
   "source": [
    "base_HL = Baseline('HL', ifo_H1, ifo_L1, duration=segment_duration, do_overlap=True)"
   ]
  },
  {
   "cell_type": "markdown",
   "metadata": {
    "Collapsed": "false"
   },
   "source": [
    "# Make PSDs and CSD"
   ]
  },
  {
   "cell_type": "code",
   "execution_count": 10,
   "metadata": {
    "Collapsed": "false"
   },
   "outputs": [],
   "source": [
    "from pygwb import spectral\n",
    "from pygwb.util import window_factors"
   ]
  },
  {
   "cell_type": "code",
   "execution_count": 11,
   "metadata": {
    "Collapsed": "false"
   },
   "outputs": [],
   "source": [
    "# calculate PSD all possible segments for detector 1\n",
    "base_HL.set_cross_and_power_spectral_density(frequency_resolution)\n",
    "# base_HL.set_average_PSDs()\n",
    "\n",
    "base_HL.set_average_power_spectral_densities()\n",
    "base_HL.set_average_cross_spectral_density()\n",
    "\n",
    "segment_starttime = base_HL.csd.times.value - (segment_duration / 2) # for later use"
   ]
  },
  {
   "cell_type": "markdown",
   "metadata": {
    "Collapsed": "false"
   },
   "source": [
    "# initialise baseline - get ORF"
   ]
  },
  {
   "cell_type": "code",
   "execution_count": 49,
   "metadata": {
    "Collapsed": "false"
   },
   "outputs": [],
   "source": [
    "freqs = base_HL.interferometer_1.average_psd.yindex.value\n",
    "base_HL.set_frequencies(freqs)"
   ]
  },
  {
   "cell_type": "code",
   "execution_count": 51,
   "metadata": {
    "Collapsed": "false"
   },
   "outputs": [],
   "source": [
    "deltaF = freqs[1]-freqs[0]\n",
    "try:\n",
    "    assert abs(deltaF - frequency_resolution) < 1e-6 # within machine (floating point) precision\n",
    "except ValueError:  \n",
    "    print('Frequency resolution in PSD/CSD is different than requested.')"
   ]
  },
  {
   "cell_type": "markdown",
   "metadata": {},
   "source": [
    "# Band limiting"
   ]
  },
  {
   "cell_type": "code",
   "execution_count": 53,
   "metadata": {},
   "outputs": [],
   "source": [
    "freq_band_cut = (freqs>=flow) & (freqs<=fhigh)\n",
    "#naive_psd_1 = naive_psd_1.crop_frequencies(flow, fhigh+deltaF)\n",
    "#naive_psd_2 = naive_psd_2.crop_frequencies(flow, fhigh+deltaF)\n",
    "avg_psd_1 = base_HL.interferometer_1.average_psd.crop_frequencies(flow, fhigh+deltaF)\n",
    "avg_psd_2 = base_HL.interferometer_2.average_psd.crop_frequencies(flow, fhigh+deltaF)\n",
    "csd = base_HL.average_csd.crop_frequencies(flow, fhigh+deltaF)\n",
    "\n",
    "orf = base_HL.overlap_reduction_function[freq_band_cut]"
   ]
  },
  {
   "cell_type": "markdown",
   "metadata": {
    "Collapsed": "false"
   },
   "source": [
    "# calcualte Y and sigma"
   ]
  },
  {
   "cell_type": "code",
   "execution_count": 55,
   "metadata": {
    "Collapsed": "false"
   },
   "outputs": [],
   "source": [
    "from pygwb.constants import H0\n",
    "from pygwb.constants import speed_of_light\n",
    "from pygwb.util import window_factors\n",
    "\n",
    "# window factors\n",
    "w1w2bar, w1w2squaredbar, _, _ = window_factors(4096*192)\n",
    "\n",
    "#will be in postproc\n",
    "\n",
    "def calculate_Yf_varf(freqs, csd, avg_psd_1, avg_psd_2, orf, fref, alpha,):    \n",
    "    S_alpha = 3 * H0**2 / (10 * np.pi**2) / freqs**3 * (freqs/fref)**alpha\n",
    "    Y_fs = np.real(csd)/(orf * S_alpha)\n",
    "    var_fs = 1 / (2 * segment_duration * (freqs[1]-freqs[0])) * avg_psd_1 * avg_psd_2 / (orf**2 * S_alpha**2)\n",
    "    var_fs = var_fs * w1w2squaredbar / w1w2bar ** 2\n",
    "    return Y_fs, var_fs"
   ]
  },
  {
   "cell_type": "code",
   "execution_count": 56,
   "metadata": {},
   "outputs": [
    {
     "name": "stdout",
     "output_type": "stream",
     "text": [
      "(3, 54593) (3, 54593)\n"
     ]
    }
   ],
   "source": [
    "# Create Y_f and sigma_f of stochastic analysis for every segment\n",
    "freqs = freqs[freq_band_cut]\n",
    "Y_fs, var_fs = calculate_Yf_varf(freqs, csd.value, \n",
    "                                   avg_psd_1.value, \n",
    "                                   avg_psd_2.value, \n",
    "                                   orf, fref, alpha)"
   ]
  },
  {
   "cell_type": "code",
   "execution_count": 67,
   "metadata": {},
   "outputs": [],
   "source": [
    "#notching\n",
    "from scipy.io import loadmat\n",
    "stochastic_mat = loadmat('/home/shivaraj.kandhasamy/stochastic/iso/misc/pyGWB/command/stochData_gwosc.mat',struct_as_record=False, squeeze_me=True)\n",
    "notch_freq = np.real(stochastic_mat['ptEst_ff']==0)\n",
    "Y_fs[:,notch_freq] = 0\n",
    "var_fs[:,notch_freq] = np.Inf # some large number"
   ]
  },
  {
   "cell_type": "markdown",
   "metadata": {
    "Collapsed": "false"
   },
   "source": [
    "# Make final point estimate and error bar"
   ]
  },
  {
   "cell_type": "code",
   "execution_count": 68,
   "metadata": {},
   "outputs": [],
   "source": [
    "from pygwb.util import calc_bias\n",
    "from pygwb.postprocessing import postprocess_Y_sigma\n",
    "from pygwb.util import calc_Y_sigma_from_Yf_varf"
   ]
  },
  {
   "cell_type": "code",
   "execution_count": 69,
   "metadata": {},
   "outputs": [
    {
     "name": "stderr",
     "output_type": "stream",
     "text": [
      "/home/arianna.renzini/.conda/envs/AIRlab/lib/python3.8/site-packages/pygwb/postprocessing.py:548: RuntimeWarning: invalid value encountered in true_divide\n",
      "  Y_f_new = (X_odd * (1- (k/2) * sigma2_oo * sigma2IJ) + X_even * (1- (k/2) * sigma2_ee * sigma2IJ))/ (\n",
      "/home/arianna.renzini/.conda/envs/AIRlab/lib/python3.8/site-packages/pygwb/postprocessing.py:554: RuntimeWarning: divide by zero encountered in true_divide\n",
      "  var_f_new = (1 / inv_var_f_new) * bias**2\n"
     ]
    }
   ],
   "source": [
    "Y_f_new, var_f_new = postprocess_Y_sigma(Y_fs, var_fs, segment_duration, deltaF, new_sample_rate, notch_freq)"
   ]
  },
  {
   "cell_type": "code",
   "execution_count": 70,
   "metadata": {},
   "outputs": [],
   "source": [
    "Y_pyGWB_new, sigma_pyGWB_new = calc_Y_sigma_from_Yf_varf(Y_f_new, var_f_new, freqs, alpha, fref)\n",
    "#Y_pyGWB_new_alt, sigma_pyGWB_new_alt = calc_Y_sigma_from_Yf_varf(Y_f_new_alt, var_f_new_alt, freqs, alpha, fref)"
   ]
  },
  {
   "cell_type": "code",
   "execution_count": 71,
   "metadata": {},
   "outputs": [
    {
     "name": "stdout",
     "output_type": "stream",
     "text": [
      "\tpyGWB: -2.969473e-06\n",
      "\tpyGWB: 1.228472e-06\n"
     ]
    }
   ],
   "source": [
    "print('\\tpyGWB: %e'%(Y_pyGWB_new))\n",
    "print('\\tpyGWB: %e'%(sigma_pyGWB_new))"
   ]
  },
  {
   "cell_type": "code",
   "execution_count": 72,
   "metadata": {},
   "outputs": [
    {
     "name": "stdout",
     "output_type": "stream",
     "text": [
      "0.9976910482914612\n",
      "0.9973249909630746\n",
      "0.9973286745862678\n"
     ]
    }
   ],
   "source": [
    "# Calculate Y_f and sigma_f of stochastic analysis for each segment\n",
    "for ii in range(0,3):\n",
    "    Y_seg, var_seg = calculate_Yf_varf(freqs, csd[0].value, \n",
    "                                   avg_psd_1[ii].value, \n",
    "                                   avg_psd_2[ii].value, \n",
    "                                   orf, fref, alpha)\n",
    "    Y_seg[notch_freq] = 0\n",
    "    var_seg[notch_freq] = 1e80 # some large number\n",
    "    Y_pyGWB_seg, sigma_pyGWB_seg = calc_Y_sigma_from_Yf_varf(Y_seg, var_seg, freqs, alpha, fref)\n",
    "    print(sigma_pyGWB_seg/stochastic_mat['ccSigma'][ii]*192)"
   ]
  },
  {
   "cell_type": "code",
   "execution_count": null,
   "metadata": {},
   "outputs": [],
   "source": []
  }
 ],
 "metadata": {
  "kernelspec": {
   "display_name": "AIRlab",
   "language": "python",
   "name": "airlab"
  },
  "language_info": {
   "codemirror_mode": {
    "name": "ipython",
    "version": 3
   },
   "file_extension": ".py",
   "mimetype": "text/x-python",
   "name": "python",
   "nbconvert_exporter": "python",
   "pygments_lexer": "ipython3",
   "version": "3.8.12"
  }
 },
 "nbformat": 4,
 "nbformat_minor": 4
}
