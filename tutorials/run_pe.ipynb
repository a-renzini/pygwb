{
 "cells": [
  {
   "cell_type": "code",
   "execution_count": 3,
   "id": "2cc5c445-3869-48df-a043-569ecdb8731c",
   "metadata": {},
   "outputs": [],
   "source": [
    "#!/usr/bin/env python\n",
    "import numpy as np\n",
    "import bilby\n",
    "from scipy.io import loadmat\n",
    "from pygwb.pe import *\n",
    "from pygwb.baseline import Baseline\n",
    "import bilby.gw.detector as bilbydet"
   ]
  },
  {
   "cell_type": "code",
   "execution_count": 4,
   "id": "52357e70-883e-4239-97b7-e6a568928423",
   "metadata": {},
   "outputs": [
    {
     "ename": "OSError",
     "evalue": "C_O3_HL.dat not found.",
     "output_type": "error",
     "traceback": [
      "\u001b[0;31m---------------------------------------------------------------------------\u001b[0m",
      "\u001b[0;31mOSError\u001b[0m                                   Traceback (most recent call last)",
      "\u001b[0;32m<ipython-input-4-79467dcb687e>\u001b[0m in \u001b[0;36m<module>\u001b[0;34m\u001b[0m\n\u001b[1;32m      1\u001b[0m \u001b[0;31m#import data\u001b[0m\u001b[0;34m\u001b[0m\u001b[0;34m\u001b[0m\u001b[0;34m\u001b[0m\u001b[0m\n\u001b[1;32m      2\u001b[0m \u001b[0;31m#take e.g. O3\u001b[0m\u001b[0;34m\u001b[0m\u001b[0;34m\u001b[0m\u001b[0;34m\u001b[0m\u001b[0m\n\u001b[0;32m----> 3\u001b[0;31m \u001b[0mfrequencies\u001b[0m\u001b[0;34m,\u001b[0m \u001b[0mY_HL\u001b[0m\u001b[0;34m,\u001b[0m \u001b[0msigma_HL\u001b[0m \u001b[0;34m=\u001b[0m \u001b[0mnp\u001b[0m\u001b[0;34m.\u001b[0m\u001b[0mloadtxt\u001b[0m\u001b[0;34m(\u001b[0m\u001b[0;34m'C_O3_HL.dat'\u001b[0m\u001b[0;34m,\u001b[0m \u001b[0munpack\u001b[0m\u001b[0;34m=\u001b[0m\u001b[0;32mTrue\u001b[0m\u001b[0;34m,\u001b[0m \u001b[0musecols\u001b[0m\u001b[0;34m=\u001b[0m\u001b[0;34m(\u001b[0m\u001b[0;36m0\u001b[0m\u001b[0;34m,\u001b[0m\u001b[0;36m1\u001b[0m\u001b[0;34m,\u001b[0m\u001b[0;36m2\u001b[0m\u001b[0;34m)\u001b[0m\u001b[0;34m)\u001b[0m\u001b[0;34m\u001b[0m\u001b[0;34m\u001b[0m\u001b[0m\n\u001b[0m\u001b[1;32m      4\u001b[0m \u001b[0mY_HV\u001b[0m\u001b[0;34m,\u001b[0m \u001b[0msigma_HV\u001b[0m \u001b[0;34m=\u001b[0m \u001b[0mnp\u001b[0m\u001b[0;34m.\u001b[0m\u001b[0mloadtxt\u001b[0m\u001b[0;34m(\u001b[0m\u001b[0;34m'C_O3_HV.dat'\u001b[0m\u001b[0;34m,\u001b[0m \u001b[0munpack\u001b[0m\u001b[0;34m=\u001b[0m\u001b[0;32mTrue\u001b[0m\u001b[0;34m,\u001b[0m \u001b[0musecols\u001b[0m\u001b[0;34m=\u001b[0m\u001b[0;34m(\u001b[0m\u001b[0;36m1\u001b[0m\u001b[0;34m,\u001b[0m\u001b[0;36m2\u001b[0m\u001b[0;34m)\u001b[0m\u001b[0;34m)\u001b[0m\u001b[0;34m\u001b[0m\u001b[0;34m\u001b[0m\u001b[0m\n\u001b[1;32m      5\u001b[0m \u001b[0mY_LV\u001b[0m\u001b[0;34m,\u001b[0m \u001b[0msigma_LV\u001b[0m \u001b[0;34m=\u001b[0m \u001b[0mnp\u001b[0m\u001b[0;34m.\u001b[0m\u001b[0mloadtxt\u001b[0m\u001b[0;34m(\u001b[0m\u001b[0;34m'C_O3_LV.dat'\u001b[0m\u001b[0;34m,\u001b[0m \u001b[0munpack\u001b[0m\u001b[0;34m=\u001b[0m\u001b[0;32mTrue\u001b[0m\u001b[0;34m,\u001b[0m \u001b[0musecols\u001b[0m\u001b[0;34m=\u001b[0m\u001b[0;34m(\u001b[0m\u001b[0;36m1\u001b[0m\u001b[0;34m,\u001b[0m\u001b[0;36m2\u001b[0m\u001b[0;34m)\u001b[0m\u001b[0;34m)\u001b[0m\u001b[0;34m\u001b[0m\u001b[0;34m\u001b[0m\u001b[0m\n",
      "\u001b[0;32m~/.conda/envs/AIRlab/lib/python3.8/site-packages/numpy/lib/npyio.py\u001b[0m in \u001b[0;36mloadtxt\u001b[0;34m(fname, dtype, comments, delimiter, converters, skiprows, usecols, unpack, ndmin, encoding, max_rows)\u001b[0m\n\u001b[1;32m    959\u001b[0m             \u001b[0mfname\u001b[0m \u001b[0;34m=\u001b[0m \u001b[0mos_fspath\u001b[0m\u001b[0;34m(\u001b[0m\u001b[0mfname\u001b[0m\u001b[0;34m)\u001b[0m\u001b[0;34m\u001b[0m\u001b[0;34m\u001b[0m\u001b[0m\n\u001b[1;32m    960\u001b[0m         \u001b[0;32mif\u001b[0m \u001b[0m_is_string_like\u001b[0m\u001b[0;34m(\u001b[0m\u001b[0mfname\u001b[0m\u001b[0;34m)\u001b[0m\u001b[0;34m:\u001b[0m\u001b[0;34m\u001b[0m\u001b[0;34m\u001b[0m\u001b[0m\n\u001b[0;32m--> 961\u001b[0;31m             \u001b[0mfh\u001b[0m \u001b[0;34m=\u001b[0m \u001b[0mnp\u001b[0m\u001b[0;34m.\u001b[0m\u001b[0mlib\u001b[0m\u001b[0;34m.\u001b[0m\u001b[0m_datasource\u001b[0m\u001b[0;34m.\u001b[0m\u001b[0mopen\u001b[0m\u001b[0;34m(\u001b[0m\u001b[0mfname\u001b[0m\u001b[0;34m,\u001b[0m \u001b[0;34m'rt'\u001b[0m\u001b[0;34m,\u001b[0m \u001b[0mencoding\u001b[0m\u001b[0;34m=\u001b[0m\u001b[0mencoding\u001b[0m\u001b[0;34m)\u001b[0m\u001b[0;34m\u001b[0m\u001b[0;34m\u001b[0m\u001b[0m\n\u001b[0m\u001b[1;32m    962\u001b[0m             \u001b[0mfencoding\u001b[0m \u001b[0;34m=\u001b[0m \u001b[0mgetattr\u001b[0m\u001b[0;34m(\u001b[0m\u001b[0mfh\u001b[0m\u001b[0;34m,\u001b[0m \u001b[0;34m'encoding'\u001b[0m\u001b[0;34m,\u001b[0m \u001b[0;34m'latin1'\u001b[0m\u001b[0;34m)\u001b[0m\u001b[0;34m\u001b[0m\u001b[0;34m\u001b[0m\u001b[0m\n\u001b[1;32m    963\u001b[0m             \u001b[0mfh\u001b[0m \u001b[0;34m=\u001b[0m \u001b[0miter\u001b[0m\u001b[0;34m(\u001b[0m\u001b[0mfh\u001b[0m\u001b[0;34m)\u001b[0m\u001b[0;34m\u001b[0m\u001b[0;34m\u001b[0m\u001b[0m\n",
      "\u001b[0;32m~/.conda/envs/AIRlab/lib/python3.8/site-packages/numpy/lib/_datasource.py\u001b[0m in \u001b[0;36mopen\u001b[0;34m(path, mode, destpath, encoding, newline)\u001b[0m\n\u001b[1;32m    193\u001b[0m \u001b[0;34m\u001b[0m\u001b[0m\n\u001b[1;32m    194\u001b[0m     \u001b[0mds\u001b[0m \u001b[0;34m=\u001b[0m \u001b[0mDataSource\u001b[0m\u001b[0;34m(\u001b[0m\u001b[0mdestpath\u001b[0m\u001b[0;34m)\u001b[0m\u001b[0;34m\u001b[0m\u001b[0;34m\u001b[0m\u001b[0m\n\u001b[0;32m--> 195\u001b[0;31m     \u001b[0;32mreturn\u001b[0m \u001b[0mds\u001b[0m\u001b[0;34m.\u001b[0m\u001b[0mopen\u001b[0m\u001b[0;34m(\u001b[0m\u001b[0mpath\u001b[0m\u001b[0;34m,\u001b[0m \u001b[0mmode\u001b[0m\u001b[0;34m,\u001b[0m \u001b[0mencoding\u001b[0m\u001b[0;34m=\u001b[0m\u001b[0mencoding\u001b[0m\u001b[0;34m,\u001b[0m \u001b[0mnewline\u001b[0m\u001b[0;34m=\u001b[0m\u001b[0mnewline\u001b[0m\u001b[0;34m)\u001b[0m\u001b[0;34m\u001b[0m\u001b[0;34m\u001b[0m\u001b[0m\n\u001b[0m\u001b[1;32m    196\u001b[0m \u001b[0;34m\u001b[0m\u001b[0m\n\u001b[1;32m    197\u001b[0m \u001b[0;34m\u001b[0m\u001b[0m\n",
      "\u001b[0;32m~/.conda/envs/AIRlab/lib/python3.8/site-packages/numpy/lib/_datasource.py\u001b[0m in \u001b[0;36mopen\u001b[0;34m(self, path, mode, encoding, newline)\u001b[0m\n\u001b[1;32m    533\u001b[0m                                       encoding=encoding, newline=newline)\n\u001b[1;32m    534\u001b[0m         \u001b[0;32melse\u001b[0m\u001b[0;34m:\u001b[0m\u001b[0;34m\u001b[0m\u001b[0;34m\u001b[0m\u001b[0m\n\u001b[0;32m--> 535\u001b[0;31m             \u001b[0;32mraise\u001b[0m \u001b[0mIOError\u001b[0m\u001b[0;34m(\u001b[0m\u001b[0;34m\"%s not found.\"\u001b[0m \u001b[0;34m%\u001b[0m \u001b[0mpath\u001b[0m\u001b[0;34m)\u001b[0m\u001b[0;34m\u001b[0m\u001b[0;34m\u001b[0m\u001b[0m\n\u001b[0m\u001b[1;32m    536\u001b[0m \u001b[0;34m\u001b[0m\u001b[0m\n\u001b[1;32m    537\u001b[0m \u001b[0;34m\u001b[0m\u001b[0m\n",
      "\u001b[0;31mOSError\u001b[0m: C_O3_HL.dat not found."
     ]
    }
   ],
   "source": [
    "#import data\n",
    "#take e.g. O3\n",
    "frequencies, Y_HL, sigma_HL = np.loadtxt('C_O3_HL.dat', unpack=True, usecols=(0,1,2))\n",
    "Y_HV, sigma_HV = np.loadtxt('C_O3_HV.dat', unpack=True, usecols=(1,2))\n",
    "Y_LV, sigma_LV = np.loadtxt('C_O3_LV.dat', unpack=True, usecols=(1,2))"
   ]
  },
  {
   "cell_type": "code",
   "execution_count": null,
   "id": "2d637e62-f3a0-4607-ba72-0e6967c36354",
   "metadata": {},
   "outputs": [],
   "source": [
    "#go up to 256 Hz\n",
    "idx=np.argmin(np.abs(frequencies-256))\n",
    "frequencies = frequencies[:idx]\n",
    "#cut all of the data for frequencies > 256 Hz\n",
    "sigma_HL = sigma_HL[:idx]\n",
    "Y_HL = Y_HL[:idx]\n",
    "sigma_HV = sigma_HV[:idx]\n",
    "Y_HV = Y_HV[:idx]\n",
    "sigma_LV = sigma_LV[:idx]\n",
    "Y_LV = Y_LV[:idx]"
   ]
  },
  {
   "cell_type": "code",
   "execution_count": null,
   "id": "ca95106c-7c78-4d5c-8386-63e9da250232",
   "metadata": {},
   "outputs": [],
   "source": [
    "#remove infinities from sigma measurements(O3)\n",
    "inf_array=np.isinf(sigma_HL)\n",
    "not_inf_array = ~ inf_array\n",
    "sigma_HL = sigma_HL[not_inf_array]\n",
    "Y_HL=Y_HL[not_inf_array]\n",
    "sigma_HV = sigma_HV[not_inf_array]\n",
    "Y_HV=Y_HV[not_inf_array]\n",
    "sigma_LV = sigma_LV[not_inf_array]\n",
    "Y_LV=Y_LV[not_inf_array]\n",
    "frequencies=frequencies[not_inf_array]\n",
    "\n",
    "inf_array=np.isinf(sigma_HV)\n",
    "not_inf_array = ~ inf_array\n",
    "sigma_HL = sigma_HL[not_inf_array]\n",
    "Y_HL=Y_HL[not_inf_array]\n",
    "sigma_HV = sigma_HV[not_inf_array]\n",
    "Y_HV=Y_HV[not_inf_array]\n",
    "sigma_LV = sigma_LV[not_inf_array]\n",
    "Y_LV=Y_LV[not_inf_array]\n",
    "frequencies=frequencies[not_inf_array]\n",
    "\n",
    "inf_array=np.isinf(sigma_LV)\n",
    "not_inf_array = ~ inf_array\n",
    "sigma_HL = sigma_HL[not_inf_array]\n",
    "Y_HL=Y_HL[not_inf_array]\n",
    "sigma_HV = sigma_HV[not_inf_array]\n",
    "Y_HV=Y_HV[not_inf_array]\n",
    "sigma_LV = sigma_LV[not_inf_array]\n",
    "Y_LV=Y_LV[not_inf_array]\n",
    "frequencies=frequencies[not_inf_array]"
   ]
  },
  {
   "cell_type": "code",
   "execution_count": null,
   "id": "c720767c-55f3-4374-b0b1-663cbe6ad24e",
   "metadata": {},
   "outputs": [],
   "source": [
    "point_estimates = [Y_HL, Y_HV, Y_LV]\n",
    "sigmas = [sigma_HL, sigma_HV, sigma_LV]\n",
    "H1 = bilbydet.get_empty_interferometer('H1')\n",
    "L1 = bilbydet.get_empty_interferometer('L1')\n",
    "V1 = bilbydet.get_empty_interferometer('V1')\n",
    "\n",
    "HL = Baseline('H1L1', H1, L1, duration=10, sampling_frequency=10)\n",
    "HV = Baseline('H1V1', H1, V1, duration=10, sampling_frequency=10)\n",
    "LV = Baseline('L1V1', L1, V1, duration=10, sampling_frequency=10)\n",
    "\n",
    "HL.frequencies = frequencies\n",
    "HV.frequencies = frequencies\n",
    "LV.frequencies = frequencies\n",
    "\n",
    "\n",
    "HL.point_estimate = Y_HL\n",
    "HL.sigma = sigma_HL\n",
    "HV.point_estimate = Y_HV\n",
    "HV.sigma = sigma_HV\n",
    "LV.point_estimate = Y_LV\n",
    "LV.sigma = sigma_LV"
   ]
  },
  {
   "cell_type": "code",
   "execution_count": 5,
   "id": "28eeedd5-e842-4ba1-8cb0-1d8f1cff283f",
   "metadata": {},
   "outputs": [],
   "source": [
    "# ###############################################\n",
    "# ###############Testing pl##################\n",
    "# ###############################################\n",
    "\n",
    "#choose pair likelihoods for the models you want to constrain with the data\n",
    "#power law\n",
    "# kwargs_pl = {\"baselines\":[HL,HV,LV], \"model_name\":'PL', \"fref\":25}\n",
    "# model_pl = PowerLawModel(**kwargs_pl)\n",
    "# priors_pl = {'omega_ref': bilby.core.prior.LogUniform(1e-13, 1e-5, '$\\\\Omega_{\\\\rm ref}$'),\n",
    "#                         'alpha': bilby.core.prior.Gaussian(0, 3.5, '$\\\\alpha$')}\n",
    "# hlv_pl=bilby.run_sampler(likelihood=model_pl,priors=priors_pl,sampler='dynesty', npoints=1000, walks=10,outdir='./',label= 'hlv_pl', resume=False)\n",
    "# hlv_pl.plot_corner()"
   ]
  },
  {
   "cell_type": "code",
   "execution_count": 6,
   "id": "1118233a-2af2-4bf7-a99b-82f5874a36fa",
   "metadata": {},
   "outputs": [],
   "source": [
    "# ###############################################\n",
    "# ###############Testing bpl##################\n",
    "# ###############################################\n",
    "\n",
    "# kwargs_bpl = {\"baselines\": [HL, HV, LV], \"model_name\":'BPL'}\n",
    "# model_bpl = BrokenPowerLawModel(**kwargs_bpl)\n",
    "# priors_bpl = {'omega_ref': bilby.core.prior.LogUniform(1e-13, 1e-5, '$\\\\Omega_{\\\\rm ref}$'),\n",
    "#             'fbreak': bilby.core.prior.Uniform(1, 100,'$f_{\\\\rm break}$'),\n",
    "#             'alpha_1': bilby.core.prior.Gaussian(0, 3.5, '$\\\\alpha_1$'),\n",
    "#             'alpha_2': bilby.core.prior.Gaussian(0, 3.5, '$\\\\alpha_2$')}\n",
    "# hlv_bpl=bilby.run_sampler(likelihood=model_bpl,priors=priors_bpl,sampler='dynesty', npoints=1000, walks=10,outdir='./',label= 'hlv_bpl', resume=False)\n",
    "# hlv_bpl.plot_corner()"
   ]
  },
  {
   "cell_type": "code",
   "execution_count": 7,
   "id": "8687d534-5327-40f1-b7c2-d4a0a1823f29",
   "metadata": {},
   "outputs": [],
   "source": [
    "###############################################\n",
    "######### Testing triple_BPL##################\n",
    "###############################################\n",
    "\n",
    "# kwargs_triple_bpl = {\"baselines\":[HL,HV,LV],\"model_name\": 'TBPL'}\n",
    "# model_triple_bpl = TripleBrokenPowerLawModel(**kwargs_triple_bpl)\n",
    "# priors_triple_bpl = {'omega_ref': bilby.core.prior.LogUniform(1e-13, 1e-5, '$\\\\Omega_{\\\\rm ref}$'),\n",
    "#                        'alpha_1': bilby.core.prior.Gaussian(0, 3.5, '$\\\\alpha_1$'),\n",
    "#                       'alpha_2': bilby.core.prior.Gaussian(0, 3.5, '$\\\\alpha_2$'),\n",
    "#                        'alpha_3': bilby.core.prior.Gaussian(0, 3.5, '$\\\\alpha_3$'),\n",
    "#                      'fbreak1': bilby.core.prior.Uniform(1, 100,'$f_{\\\\rm break}^1$'), \n",
    "#                      'fbreak2': bilby.core.prior.Uniform(1, 100,'$f_{\\\\rm break}^2$')}\n",
    "# hlv_triple_bpl = bilby.run_sampler(likelihood=model_triple_bpl,priors=priors_triple_bpl,sampler='dynesty', npoints=1000, walks=10,outdir='./',label= 'hlv_tbpl', resume=False)\n",
    "# hlv_triple_bpl.plot_corner()"
   ]
  },
  {
   "cell_type": "code",
   "execution_count": 8,
   "id": "e4fcea07-08f6-4a33-83ec-ec780cf60dac",
   "metadata": {},
   "outputs": [],
   "source": [
    "# ###############################################\n",
    "# ######### Testing Smooth Broken PL#############\n",
    "# ###############################################\n",
    "\n",
    "# kwargs_sbpl = {\"baselines\":[HL,HV,LV],\"model_name\": 'SBPL'}\n",
    "# model_sbpl = SmoothBrokenPowerLawModel(**kwargs_sbpl)\n",
    "# priors_sbpl = {'omega_ref': bilby.core.prior.LogUniform(1e-13, 1e-5, '$\\\\Omega_{\\\\rm ref}$'),\n",
    "#                   'fbreak': bilby.core.prior.Uniform(1, 256, '$f_{\\\\rm break}$'),\n",
    "#                         'alpha_1': bilby.core.prior.Gaussian(0, 3.5, '$\\\\alpha_1$'),\n",
    "#                        'alpha_2': bilby.core.prior.Gaussian(0, 3.5, '$\\\\alpha_2$'),\n",
    "#                         'delta': bilby.core.prior.Uniform(0, 8, '$\\\\Delta$')}\n",
    "# hlv_sbpl = bilby.run_sampler(likelihood=model_sbpl,priors=priors_sbpl,sampler='dynesty', npoints=1000, walks=10,outdir='./',label= 'hlv_sbpl', resume=False)\n",
    "# hlv_sbpl.plot_corner()"
   ]
  },
  {
   "cell_type": "code",
   "execution_count": 9,
   "id": "df8e4ffe-bf90-4652-82a1-80d9fecdd1f8",
   "metadata": {},
   "outputs": [],
   "source": [
    "# ###############################################\n",
    "# ###############Testing tvs pl##################\n",
    "# ###############################################\n",
    "\n",
    "# kwargs_pl_sv={\"baselines\":[HL, HV, LV], \"model_name\":'PL_SV', \"fref\":25, \"polarizations\":['scalar', 'vector']}\n",
    "# model_pl_sv = TVSPowerLawModel(**kwargs_pl_sv)\n",
    "# priors_pl_sv = {'omega_ref_scalar': bilby.core.prior.LogUniform(1e-13, 1e-5, '$\\\\Omega_{\\\\rm ref,s}$'),\n",
    "#                       'alpha_scalar': bilby.core.prior.Gaussian(0, 3.5, '$\\\\alpha_s$'),\n",
    "#           'omega_ref_vector': bilby.core.prior.LogUniform(1e-13, 1e-5, '$\\\\Omega_{\\\\rm ref,v}$'),\n",
    "#                       'alpha_vector': bilby.core.prior.Gaussian(0, 3.5, '$\\\\alpha_v$')}\n",
    "# hlv_pl_sv=bilby.run_sampler(likelihood=model_pl_sv,priors=priors_pl_sv,sampler='dynesty', npoints=1000, walks=10,outdir='./',label= 'hlv_pl_sv', resume=False)\n",
    "# hlv_pl_sv.plot_corner()"
   ]
  },
  {
   "cell_type": "code",
   "execution_count": 10,
   "id": "2dbcd24a-ca44-43cf-8dd9-c187b51c11e5",
   "metadata": {},
   "outputs": [],
   "source": [
    "# ###############################################\n",
    "# ######### Testing Parity Violation PL 1 #######\n",
    "# ###############################################\n",
    "\n",
    "# kwargs_pl_pv = {\"baselines\":[HL, HV, LV],\"model_name\": 'PL_PV', 'fref': 25}\n",
    "# model_pl_pv = PVPowerLawModel(**kwargs_pl_pv)\n",
    "# priors_pl_pv = {'omega_ref': bilby.core.prior.LogUniform(1e-13, 1e-5, '$\\\\Omega_{\\\\rm ref}$'),\n",
    "#                        'alpha': bilby.core.prior.Gaussian(0, 3.5, '$\\\\alpha$'),\n",
    "#                        'Pi': bilby.core.prior.Uniform(-1,1,'$\\\\Pi$')}\n",
    "# hlv_pl_pv = bilby.run_sampler(likelihood=model_pl_pv,priors=priors_pl_pv,sampler='dynesty', npoints=1000, walks=10,outdir='./',label= 'hlv_pl_pv', resume=False)\n",
    "# hlv_pl_pv.plot_corner()"
   ]
  },
  {
   "cell_type": "code",
   "execution_count": 11,
   "id": "91962ba6-3937-45e7-a1d4-7e1791c7e370",
   "metadata": {},
   "outputs": [],
   "source": [
    "##############################################\n",
    "######## Testing Parity Violation PL 2 #######\n",
    "##############################################\n",
    "\n",
    "# kwargs_pv_pl_2 = {\"baselines\":[HL, HV, LV],\"model_name\": 'PL_PV_2', 'fref': 25}\n",
    "# model_pv_pl_2 = PVPowerLawModel2(**kwargs_pv_pl_2)\n",
    "# priors_pv_pl_2 = {'omega_ref': bilby.core.prior.LogUniform(1e-13, 1e-5, '$\\\\Omega_{\\\\rm ref}$'),\n",
    "#                      'alpha': bilby.core.prior.Gaussian(0, 3.5, '$\\\\alpha$'),\n",
    "#                        'beta': bilby.core.prior.Uniform(-2,0,'$\\\\beta$')}\n",
    "# hlv_pv_pl_2 = bilby.run_sampler(likelihood=model_pv_pl_2,priors=priors_pv_pl_2,sampler='dynesty', npoints=1000, walks=10,outdir='./',label= 'hlv_pv_pl_2', resume=False)\n",
    "# hlv_pv_pl_2.plot_corner()"
   ]
  },
  {
   "cell_type": "code",
   "execution_count": null,
   "id": "044a8f02-9f9c-4aca-abd4-500938c7e5d6",
   "metadata": {},
   "outputs": [],
   "source": []
  }
 ],
 "metadata": {
  "kernelspec": {
   "display_name": "AIRlab",
   "language": "python",
   "name": "airlab"
  },
  "language_info": {
   "codemirror_mode": {
    "name": "ipython",
    "version": 3
   },
   "file_extension": ".py",
   "mimetype": "text/x-python",
   "name": "python",
   "nbconvert_exporter": "python",
   "pygments_lexer": "ipython3",
   "version": "3.8.12"
  }
 },
 "nbformat": 4,
 "nbformat_minor": 5
}
