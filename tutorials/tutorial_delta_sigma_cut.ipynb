{
 "cells": [
  {
   "cell_type": "code",
   "execution_count": null,
   "metadata": {},
   "outputs": [],
   "source": [
    "% matplotlib inline \n",
    "\n",
    "import numpy as np \n",
    "\n",
    "import pygwb.delta_sigma_cut\n",
    "import pygwb.baseline"
   ]
  },
  {
   "cell_type": "code",
   "execution_count": null,
   "metadata": {},
   "outputs": [],
   "source": [
    "flow = 50\n",
    "fhigh = 500\n",
    "segment_duration = 192  # also fftlength in pre-processing\n",
    "overlap = 0.5\n",
    "segment_duration = 192  # also fftlength in pre-processing\n",
    "sampling_frequency = 4096\n",
    "dsc = 0.2\n",
    "alphas = [-5, 0, 3]\n",
    "notch_file = \"\""
   ]
  },
  {
   "cell_type": "code",
   "execution_count": null,
   "metadata": {},
   "outputs": [],
   "source": [
    "pickled_base = baseline.Baseline.load_from_pickle(\n",
    "    \"test/test_data/H1L1_1247644138-1247645038.pickle\"\n",
    ")\n",
    "pickled_ifo_1 = pickled_base.interferometer_1\n",
    "pickled_ifo_2 = pickled_base.interferometer_2\n",
    "naive_psd_1 = pickled_ifo_1.psd_spectrogram\n",
    "naive_psd_2 = pickled_ifo_2.psd_spectrogram\n",
    "avg_psd_1 = pickled_ifo_1.average_psd\n",
    "avg_psd_2 = pickled_ifo_2.average_psd\n",
    "\n",
    "dF = avg_psd_1.frequencies.value[1] - avg_psd_1.frequencies.value[0]\n",
    "naive_psd_1 = naive_psd_1.crop_frequencies(flow, fhigh + dF)\n",
    "naive_psd_2 = naive_psd_2.crop_frequencies(flow, fhigh + dF)\n",
    "avg_psd_1 = avg_psd_1.crop_frequencies(flow, fhigh + dF)\n",
    "avg_psd_2 = avg_psd_2.crop_frequencies(flow, fhigh + dF)\n",
    "\n",
    "# calculate CSD\n",
    "stride = segment_duration - overlap\n",
    "csd_segment_offset = int(np.ceil(segment_duration / stride))\n",
    "\n",
    "# also remove naive psds from edge segments\n",
    "naive_psd_1 = naive_psd_1[csd_segment_offset : -(csd_segment_offset + 1) + 1]\n",
    "naive_psd_2 = naive_psd_2[csd_segment_offset : -(csd_segment_offset + 1) + 1]"
   ]
  },
  {
   "cell_type": "code",
   "execution_count": null,
   "metadata": {},
   "outputs": [],
   "source": [
    "badGPStimes, _ = delta_sigma_cut.run_dsc(\n",
    "    dsc=dsc,\n",
    "    segment_duration=segment_duration,\n",
    "    sampling_frequency=sampling_frequency,\n",
    "    psd1_naive=naive_psd_1,\n",
    "    psd2_naive=naive_psd_2,\n",
    "    psd1_slide=avg_psd_1,\n",
    "    psd2_slide=avg_psd_2,\n",
    "    alphas=alphas,\n",
    "    orf=np.array([1]),\n",
    "    notch_list_path=notch_file,\n",
    ")"
   ]
  }
 ],
 "metadata": {},
 "nbformat": 4,
 "nbformat_minor": 2
}