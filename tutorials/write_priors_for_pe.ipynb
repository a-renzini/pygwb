{
 "cells": [
  {
   "cell_type": "markdown",
   "id": "50771fee-0f9c-4b62-8f5f-cb1c90f192cd",
   "metadata": {},
   "source": [
    "# Write your own prior file"
   ]
  },
  {
   "cell_type": "code",
   "execution_count": 1,
   "id": "aa8e4d34-8fa1-4345-9ea0-86453c6e62d1",
   "metadata": {},
   "outputs": [],
   "source": [
    "import bilby"
   ]
  },
  {
   "cell_type": "markdown",
   "id": "c2f21f52-9581-473f-bd70-65fd2a65c3e7",
   "metadata": {},
   "source": [
    "Create prior dictionary object"
   ]
  },
  {
   "cell_type": "code",
   "execution_count": 2,
   "id": "93c4d692-fa83-463d-a7ff-2fb42588ae4a",
   "metadata": {},
   "outputs": [],
   "source": [
    "priors = bilby.core.prior.PriorDict()"
   ]
  },
  {
   "cell_type": "markdown",
   "id": "a19fb9ad-7221-474e-a3b9-896552d543d1",
   "metadata": {},
   "source": [
    "add omega and alpha items"
   ]
  },
  {
   "cell_type": "code",
   "execution_count": 3,
   "id": "3ebcf911-31a9-432d-a61d-7864a61c9f73",
   "metadata": {},
   "outputs": [],
   "source": [
    "priors['omega_ref'] = bilby.core.prior.LogUniform(1e-11, 1e-8, '$\\\\Omega_{\\\\rm ref}$')\n",
    "priors['alpha'] = bilby.core.prior.Gaussian(0.66666667,1.5,'$\\\\alpha$')"
   ]
  },
  {
   "cell_type": "markdown",
   "id": "a5bf44c7-de8f-4e50-b79f-be0479f19836",
   "metadata": {},
   "source": [
    "write to json file"
   ]
  },
  {
   "cell_type": "code",
   "execution_count": 4,
   "id": "49c547f1-13e1-400f-bcaf-31bd1cfb34a1",
   "metadata": {},
   "outputs": [],
   "source": [
    "priors.to_json('/home/arianna.renzini/PROJECTS/MDC_5y/pygwb_runs/', label='pe_gaussian')"
   ]
  },
  {
   "cell_type": "code",
   "execution_count": 6,
   "id": "42c238a8-4cbe-448c-8c60-4440faf39d77",
   "metadata": {},
   "outputs": [
    {
     "data": {
      "text/plain": [
       "\u001b[0;31mSignature:\u001b[0m \u001b[0mpriors\u001b[0m\u001b[0;34m.\u001b[0m\u001b[0mto_json\u001b[0m\u001b[0;34m(\u001b[0m\u001b[0moutdir\u001b[0m\u001b[0;34m,\u001b[0m \u001b[0mlabel\u001b[0m\u001b[0;34m)\u001b[0m\u001b[0;34m\u001b[0m\u001b[0;34m\u001b[0m\u001b[0m\n",
       "\u001b[0;31mDocstring:\u001b[0m <no docstring>\n",
       "\u001b[0;31mFile:\u001b[0m      /cvmfs/oasis.opensciencegrid.org/ligo/sw/conda/envs/igwn-py39/lib/python3.9/site-packages/bilby/core/prior/dict.py\n",
       "\u001b[0;31mType:\u001b[0m      method\n"
      ]
     },
     "metadata": {},
     "output_type": "display_data"
    }
   ],
   "source": [
    "?priors.to_json"
   ]
  },
  {
   "cell_type": "code",
   "execution_count": null,
   "id": "cdbf45ac-e835-4073-af47-a3ff2411c75a",
   "metadata": {},
   "outputs": [],
   "source": []
  }
 ],
 "metadata": {
  "kernelspec": {
   "display_name": "igwn-py39",
   "language": "python",
   "name": "igwn-py39"
  },
  "language_info": {
   "codemirror_mode": {
    "name": "ipython",
    "version": 3
   },
   "file_extension": ".py",
   "mimetype": "text/x-python",
   "name": "python",
   "nbconvert_exporter": "python",
   "pygments_lexer": "ipython3",
   "version": "3.9.16"
  }
 },
 "nbformat": 4,
 "nbformat_minor": 5
}
